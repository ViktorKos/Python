{
  "nbformat": 4,
  "nbformat_minor": 0,
  "metadata": {
    "colab": {
      "provenance": [],
      "toc_visible": true,
      "include_colab_link": true
    },
    "kernelspec": {
      "name": "python3",
      "display_name": "Python 3"
    },
    "language_info": {
      "name": "python"
    }
  },
  "cells": [
    {
      "cell_type": "markdown",
      "metadata": {
        "id": "view-in-github",
        "colab_type": "text"
      },
      "source": [
        "<a href=\"https://colab.research.google.com/github/ViktorKos/Python/blob/main/%22%D0%9C%D0%BE%D0%B4%D1%83%D0%BB%D1%8C_1_%D0%9F%D1%80%D0%B0%D0%BA%D1%82%D0%B8%D1%87%D0%BD%D0%B0_%D1%87%D0%B0%D1%81%D1%82%D0%B8%D0%BD%D0%B0_ipynb%22.ipynb\" target=\"_parent\"><img src=\"https://colab.research.google.com/assets/colab-badge.svg\" alt=\"Open In Colab\"/></a>"
      ]
    },
    {
      "cell_type": "markdown",
      "metadata": {
        "id": "OeHSz3_b5ehN"
      },
      "source": [
        "# Задачі для практичного закріплення знань першого дня\n",
        "\n",
        "\n",
        "Завдання практичного блоку: закріпити отримані знання на теоретичній частині, при цьому студенти на рівні з викладачем вирішують завдання демонструючи екран і пояснюючи чому вибраний певний підхід для їх рішення.\n",
        "\n",
        "Суть даного підходу:\\\n",
        "1) Допомогти студентам навчитись демонструвати власні навички в рішені задач і зрозуміти, як може відбуватись перевірка технічного завдання під час інтерв'ю у ІТ компаніях\\\n",
        "2) Навчитись читати код інших програмістів і писати легко читаємий код\\\n",
        "3) Розбирання підходів в алгоритмах і реалізаціях задач для розширення власного кругозору (Knowledge sharing)\n"
      ]
    },
    {
      "cell_type": "markdown",
      "metadata": {
        "id": "9avmKNeIAMUe"
      },
      "source": [
        "# Блок Задач №1 Рішення задач по формулам:"
      ]
    },
    {
      "cell_type": "markdown",
      "metadata": {
        "id": "FEiST8Eb6C7Q"
      },
      "source": [
        "## Задача 1.\n",
        "Скласти програму розв'язання лінійного рівняння а*х + b = 0 (а≠0). (a і b вводяться користувачем)\n",
        "\n"
      ]
    },
    {
      "cell_type": "code",
      "source": [],
      "metadata": {
        "id": "4mkOkogCEg9h"
      },
      "execution_count": null,
      "outputs": []
    },
    {
      "cell_type": "markdown",
      "metadata": {
        "id": "DLMQ6iF361Hw"
      },
      "source": [
        "## Задача 2.\n",
        "Скласти програму обчислення площі та гіпотенузи прямокутного трикутника, якщо відомі його катети (вводяться користувачем)"
      ]
    },
    {
      "cell_type": "code",
      "metadata": {
        "id": "KOo2U_sI7tGi"
      },
      "source": [
        "# Гіпотенуза - sqrt(a^2 + b^2)\n",
        "# Площа - (a*b)/2"
      ],
      "execution_count": null,
      "outputs": []
    },
    {
      "cell_type": "markdown",
      "metadata": {
        "id": "dCUJCGdg8gpI"
      },
      "source": [
        "## Задача 3.\n",
        "Дано сторону квадрата a (вводиться користувачем). Скласти програму знаходження його периметра."
      ]
    },
    {
      "cell_type": "code",
      "metadata": {
        "id": "KHR1m0G_8q5K"
      },
      "source": [
        "# Периметр - a*4"
      ],
      "execution_count": null,
      "outputs": []
    },
    {
      "cell_type": "markdown",
      "metadata": {
        "id": "r1wjuRIg-K5M"
      },
      "source": [
        "## Задача 4.\n",
        "Дано радіус кола r (вводяться користувачем). Скласти програму знаходження довжини кола та площі кола"
      ]
    },
    {
      "cell_type": "code",
      "metadata": {
        "id": "UUsMS9NT-ebC"
      },
      "source": [
        "# Довжина кола - 2*Pi*R\n",
        "# Площа кола - (Pi*R^2)/2"
      ],
      "execution_count": null,
      "outputs": []
    },
    {
      "cell_type": "markdown",
      "metadata": {
        "id": "a2Xl0a1k_dv9"
      },
      "source": [
        "## Задача 5.\n",
        "Скласти програму обчислення суми модулів трьох дійсних чисел"
      ]
    },
    {
      "cell_type": "code",
      "metadata": {
        "id": "sI_6W8Su_lwb"
      },
      "source": [],
      "execution_count": null,
      "outputs": []
    },
    {
      "cell_type": "markdown",
      "metadata": {
        "id": "FfAP5EsC2XQq"
      },
      "source": [
        "## Задача 6\n",
        "Дано дійсне число х. Скласти програму знаходження значення\n",
        "виразу 2x4-3x3+4х2-5х + 6."
      ]
    },
    {
      "cell_type": "code",
      "metadata": {
        "id": "Vm7XturQ2bIC"
      },
      "source": [],
      "execution_count": null,
      "outputs": []
    },
    {
      "cell_type": "markdown",
      "metadata": {
        "id": "P21e7PWG3HcT"
      },
      "source": [
        "## Задача 7\n",
        "Скласти програму обчислення відстані між точками з координатами, що вводяться користувачем.\n"
      ]
    },
    {
      "cell_type": "code",
      "metadata": {
        "id": "ag9QN95X3Ruu"
      },
      "source": [
        "# Distance - sqrt((x2-x1)^2 + (y2-y1)^2)"
      ],
      "execution_count": null,
      "outputs": []
    },
    {
      "cell_type": "markdown",
      "metadata": {
        "id": "RQg3n3IPF0lK"
      },
      "source": [
        "# Блок задач №2. Розв'язування задач на визначення цифр числа"
      ]
    },
    {
      "cell_type": "markdown",
      "metadata": {
        "id": "jdWpeUW22NR9"
      },
      "source": [
        "## Задача 8\n",
        "Скласти програму, яка вводить із клавіатури чотиризначне число і виводить на екран середнє арифметичне його цифр."
      ]
    },
    {
      "cell_type": "code",
      "metadata": {
        "colab": {
          "base_uri": "https://localhost:8080/"
        },
        "id": "_OAI2X6P4pRA",
        "outputId": "629c28f4-4cbf-4d22-dc22-376ce344452a"
      },
      "source": [
        "# Input - 2424\n",
        "# Output - 3"
      ],
      "execution_count": null,
      "outputs": [
        {
          "output_type": "stream",
          "name": "stdout",
          "text": [
            "Введите четырехзначное число 2424\n",
            "3.0\n"
          ]
        }
      ]
    },
    {
      "cell_type": "markdown",
      "metadata": {
        "id": "J9nXZUq26Nmq"
      },
      "source": [
        "## Задача 9\n",
        "Скласти програму, яка вводить з клавіатури тризначне число і виводить на екран\n",
        "- суму останньої та передостанньої цифри\n",
        "- суму останньої та першої цифри.\n"
      ]
    },
    {
      "cell_type": "code",
      "metadata": {
        "id": "B03zcmUr6e1B"
      },
      "source": [
        "# Input - 123\n",
        "# Output_one - 5\n",
        "# Output_two - 4"
      ],
      "execution_count": null,
      "outputs": []
    },
    {
      "cell_type": "markdown",
      "metadata": {
        "id": "R9fVnru4-iLH"
      },
      "source": [
        "## Задача 10\n",
        "У тризначному числі х закреслили його другу цифру. Коли до двозначного числа, що утворилося, ліворуч приписали другу цифру числа х, то вийшло число y. Скласти програму знаходження числа y."
      ]
    },
    {
      "cell_type": "code",
      "metadata": {
        "id": "vP4Hdk2I-xte"
      },
      "source": [
        "# Input - 971\n",
        "# Otput - 791"
      ],
      "execution_count": null,
      "outputs": []
    },
    {
      "cell_type": "markdown",
      "metadata": {
        "id": "5WoFOUes_X2R"
      },
      "source": [
        "## Задача 11\n",
        "Результат пошуку згенерував n записів (вводиться користувачем). Скільки сторінок потрібно для відображення цих записів, якщо на 1 сторінку виводиться 10 записів."
      ]
    },
    {
      "cell_type": "code",
      "metadata": {
        "id": "uwTXbt9w_d3q"
      },
      "source": [
        "# Input - 64\n",
        "# Output - 7\n",
        "\n",
        "# Input - 10\n",
        "# Output - 1"
      ],
      "execution_count": null,
      "outputs": []
    },
    {
      "cell_type": "markdown",
      "metadata": {
        "id": "ILHz9N0yEEsP"
      },
      "source": [
        "# Блок задач №3. Робота з грошима і часом."
      ]
    },
    {
      "cell_type": "markdown",
      "metadata": {
        "id": "NWhnBPSzEZJf"
      },
      "source": [
        "## Задача 12\n",
        "Скласти програму, яка переводить час із секунд, визначаючи повну кількість годин хвилин і секунд (наприклад, час 5000 секунд це 1 година 23 хвилини 20 секунд 5000=13600+2360+20)."
      ]
    },
    {
      "cell_type": "code",
      "metadata": {
        "id": "U1A74BujJ79u"
      },
      "source": [
        "# Input - 5000\n",
        "# Otput_hours - 1\n",
        "# Otput_minutes - 23\n",
        "# Otput_seconds - 20"
      ],
      "execution_count": null,
      "outputs": []
    },
    {
      "cell_type": "markdown",
      "metadata": {
        "id": "tHzmjqN6qgKm"
      },
      "source": [
        "## Задача 13\n",
        "В Інтернет-магазині зроблено 4 покупки: на \\$34.34, \\$12.01, \\$17.42, \\$4.93. Зі скількох доларів і центів складатиметься підсумкова сума.\n"
      ]
    },
    {
      "cell_type": "code",
      "metadata": {
        "colab": {
          "base_uri": "https://localhost:8080/"
        },
        "id": "JKuRlGKlqqc5",
        "outputId": "0754ad4d-a602-4e75-922c-ee2ee4cdf2ca"
      },
      "source": [
        "# Input - 34.34, 12.01, 17.42, 4.93\n",
        "# Output_dollars - 68\n",
        "# Outputs_cents - 70"
      ],
      "execution_count": null,
      "outputs": [
        {
          "output_type": "stream",
          "name": "stdout",
          "text": [
            "Сумма 68.7\n",
            "Количество долларов 68\n",
            "Количество центов 70\n"
          ]
        }
      ]
    },
    {
      "cell_type": "markdown",
      "metadata": {
        "id": "exn9vosxsfkF"
      },
      "source": [
        "## Задача 14\n",
        "Скласти програму визначення номера під'їзду та поверху квартири за заданим номером квартири. У будинку 5 поверхів і 4 квартири на поверсі."
      ]
    },
    {
      "cell_type": "code",
      "metadata": {
        "id": "RSW9Mk42skg6"
      },
      "source": [
        "# Input - 54\n",
        "\n",
        "# Output_entrance - 3\n",
        "# Output_floor - 4"
      ],
      "execution_count": null,
      "outputs": []
    },
    {
      "cell_type": "markdown",
      "metadata": {
        "id": "uv92CT506pi0"
      },
      "source": [
        "## Задача 15\n",
        "Скласти програму визначення номера століття с за номером $n (n > 0)$ деякого року (врахувати що, наприклад, початком 20 століття був 1901, а не 1900 рік)."
      ]
    },
    {
      "cell_type": "code",
      "metadata": {
        "colab": {
          "base_uri": "https://localhost:8080/"
        },
        "id": "w-aC5nRs6sgX",
        "outputId": "d5ba6299-9a2d-4ff3-fedc-73fbc4b8d624"
      },
      "source": [
        "# Input - 2023\n",
        "# Output_century - 21"
      ],
      "execution_count": null,
      "outputs": [
        {
          "output_type": "stream",
          "name": "stdout",
          "text": [
            "Введите год n 2001\n",
            "Век 21\n"
          ]
        }
      ]
    },
    {
      "cell_type": "markdown",
      "metadata": {
        "id": "yePDGxnx7JtR"
      },
      "source": [
        "## Задача 16\n",
        "Для кава-брейків на конференції закуплено: `х` круасанів, `у` стаканчиків, `z` упаковок кави. Ціна круасана \\$1.04, ціна стаканчика - \\$0.34, ціна упаковки кави \\$4.42. Скласти програму, яка обчислює, скільки повних доларів пішло на закупівлю їжі для кава-брейків, і яка її вартість у доларах і центах."
      ]
    },
    {
      "cell_type": "code",
      "metadata": {
        "id": "a-SNitfg8BF3"
      },
      "source": [
        "# Input_croissants - 4\n",
        "# Input_cups - 5\n",
        "# Input_coffee - 6\n",
        "# Output_dollars - 32\n",
        "# Output_cents - 3238"
      ],
      "execution_count": null,
      "outputs": []
    }
  ]
}