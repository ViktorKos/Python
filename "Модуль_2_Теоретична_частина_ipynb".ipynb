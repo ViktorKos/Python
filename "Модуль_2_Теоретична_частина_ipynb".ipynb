{
  "nbformat": 4,
  "nbformat_minor": 0,
  "metadata": {
    "colab": {
      "provenance": [],
      "include_colab_link": true
    },
    "kernelspec": {
      "name": "python3",
      "display_name": "Python 3"
    },
    "language_info": {
      "name": "python"
    }
  },
  "cells": [
    {
      "cell_type": "markdown",
      "metadata": {
        "id": "view-in-github",
        "colab_type": "text"
      },
      "source": [
        "<a href=\"https://colab.research.google.com/github/ViktorKos/Python/blob/main/%22%D0%9C%D0%BE%D0%B4%D1%83%D0%BB%D1%8C_2_%D0%A2%D0%B5%D0%BE%D1%80%D0%B5%D1%82%D0%B8%D1%87%D0%BD%D0%B0_%D1%87%D0%B0%D1%81%D1%82%D0%B8%D0%BD%D0%B0_ipynb%22.ipynb\" target=\"_parent\"><img src=\"https://colab.research.google.com/assets/colab-badge.svg\" alt=\"Open In Colab\"/></a>"
      ]
    },
    {
      "cell_type": "markdown",
      "metadata": {
        "id": "OeHSz3_b5ehN"
      },
      "source": [
        "# Задачі для теоретичного заняття другого дня\n",
        "\n",
        "Задачі теоретичного блоку: продемонструвати на практичному прикладі теорію пов'язану з умовним виконання, булевою алгеброю, тернарними операціями, видами циклів, перериванням циклів і виключеннями\n",
        "\n",
        "Для самостійного опрацювання і спроб запускати всі існуючі задачі не заважаючи іншим студентам курсу потрібно здійснити наступні кроки:\n",
        "\n",
        "1. Натиснути кнопку \"Файл\" в лівому верхньому куті\n",
        "2. Вибрати пункт \"Зберегти копію на диску\"\n",
        "3. У вікні з вашою копією у правому верхньому куті натиснути \"Підключитись\"\n",
        "\n",
        "Можете запускати всі задачі, які забажаєте і писати власні програми вивчаючи функціонал цього середовища\n"
      ]
    },
    {
      "cell_type": "markdown",
      "metadata": {
        "id": "nj7xUMn2xUFm"
      },
      "source": [
        "## Умовне виконання\n"
      ]
    },
    {
      "cell_type": "markdown",
      "source": [
        "Оператор контролю виконання дозволяє виконувати блоки інструкцій не завжди, а тільки тоді, коли буде виконана умова.\n",
        "\n",
        "Головний оператор контролю це \"if ... elif ... else\"\n",
        "\n",
        "Під час виконання умовного оператора інтерпретатор Python перевіряє умови зверху вниз, доки не знайде те, яке виконується, потім виконає вираз для цієї умови та вийде з перевірки умов.\n",
        "\n"
      ],
      "metadata": {
        "id": "BH4hp_qTHRnm"
      }
    },
    {
      "cell_type": "code",
      "source": [
        "from IPython.display import Image\n",
        "Image(url='https://pythonexamples.org/wp-content/uploads/2020/07/python-if.gif')"
      ],
      "metadata": {
        "colab": {
          "base_uri": "https://localhost:8080/",
          "height": 465
        },
        "id": "_aQO6h7lGP1t",
        "outputId": "0d575316-5159-42db-f1f0-81c684031eff"
      },
      "execution_count": null,
      "outputs": [
        {
          "output_type": "execute_result",
          "data": {
            "text/html": [
              "<img src=\"https://pythonexamples.org/wp-content/uploads/2020/07/python-if.gif\"/>"
            ],
            "text/plain": [
              "<IPython.core.display.Image object>"
            ]
          },
          "metadata": {},
          "execution_count": 3
        }
      ]
    },
    {
      "cell_type": "markdown",
      "source": [
        "## Булева алгебра (Логічні оператори)"
      ],
      "metadata": {
        "id": "vy7BpxMMQX87"
      }
    },
    {
      "cell_type": "markdown",
      "source": [
        "AND -- Це бінарний оператор, оточений 2 операндами (змінними, константами або виразами). Він аналізує їх і виводить значення на основі наступного факту: \"Він виводить значення True, тільки якщо операнди по обидва боки AND мають значення True\"."
      ],
      "metadata": {
        "id": "nrUKEjOpSUYA"
      }
    },
    {
      "cell_type": "code",
      "source": [
        "x = 5\n",
        "y = 10\n",
        "z = 11\n",
        "print((x > y) and (y > z))\n",
        "print((x > y) and (y < z))\n",
        "print((x < y) and (y > z))\n",
        "print((x < y) and (y < z))"
      ],
      "metadata": {
        "colab": {
          "base_uri": "https://localhost:8080/"
        },
        "id": "6D6LlbGyTCs5",
        "outputId": "ab64fb50-0096-46a7-9411-0ddfc9da8ea1"
      },
      "execution_count": null,
      "outputs": [
        {
          "output_type": "stream",
          "name": "stdout",
          "text": [
            "False\n",
            "False\n",
            "False\n",
            "True\n"
          ]
        }
      ]
    },
    {
      "cell_type": "markdown",
      "source": [
        "OR -- Це бінарний оператор, оточений 2 операндами (змінними, константами або виразами). Він аналізує їх і виводить значення на основі наступного факту: \"Він виводить значення False, тільки якщо операнди по обидва боки OR мають значення False\"."
      ],
      "metadata": {
        "id": "EPoVKUx7SUkw"
      }
    },
    {
      "cell_type": "code",
      "source": [
        "x = 5\n",
        "y = 10\n",
        "z = 11\n",
        "print((x > y) or (y > z))\n",
        "print((x > y) or (y < z))\n",
        "print((x < y) or (y > z))\n",
        "print((x < y) or (y < z))"
      ],
      "metadata": {
        "colab": {
          "base_uri": "https://localhost:8080/"
        },
        "id": "lTP6kVqTTHQI",
        "outputId": "d9fdba74-d8f5-4cbd-ea31-e02b2725f5f5"
      },
      "execution_count": null,
      "outputs": [
        {
          "output_type": "stream",
          "name": "stdout",
          "text": [
            "False\n",
            "True\n",
            "True\n",
            "True\n"
          ]
        }
      ]
    },
    {
      "cell_type": "markdown",
      "source": [
        "NOT -- Це унарний оператор, який використовується для заперечення виразу після наступного оператора. Відповідно до цього, кожен вираз True стає False і навпаки"
      ],
      "metadata": {
        "id": "7g7xdH1pSUsK"
      }
    },
    {
      "cell_type": "code",
      "source": [
        "x = True\n",
        "y = False\n",
        "print(not x)\n",
        "print(not y)\n"
      ],
      "metadata": {
        "colab": {
          "base_uri": "https://localhost:8080/"
        },
        "id": "_zR2uEAITMVA",
        "outputId": "094ef190-acfa-421b-e747-f1602cdfc247"
      },
      "execution_count": null,
      "outputs": [
        {
          "output_type": "stream",
          "name": "stdout",
          "text": [
            "False\n",
            "True\n"
          ]
        }
      ]
    },
    {
      "cell_type": "code",
      "source": [
        "x = 5\n",
        "y = 10\n",
        "print(x > y)\n",
        "print(not (x > y))"
      ],
      "metadata": {
        "colab": {
          "base_uri": "https://localhost:8080/"
        },
        "id": "VD_RzNiMB6zP",
        "outputId": "b83c0881-faa4-42c4-d339-54c3664d4fdc"
      },
      "execution_count": null,
      "outputs": [
        {
          "output_type": "stream",
          "name": "stdout",
          "text": [
            "False\n",
            "True\n"
          ]
        }
      ]
    },
    {
      "cell_type": "markdown",
      "metadata": {
        "id": "FEiST8Eb6C7Q"
      },
      "source": [
        "## Умови у **Python**"
      ]
    },
    {
      "cell_type": "markdown",
      "source": [
        "###If умова"
      ],
      "metadata": {
        "id": "GLSz6X2xJuiK"
      }
    },
    {
      "cell_type": "markdown",
      "source": [
        "Перевірити чи a менше за b"
      ],
      "metadata": {
        "id": "yebDtm2CxeJc"
      }
    },
    {
      "cell_type": "code",
      "source": [
        "a = 6\n",
        "b = 5\n",
        "\n",
        "if a < b:\n",
        "    print(f'{a} is less than {b}')\n",
        "\n",
        "print(\"End of code\")"
      ],
      "metadata": {
        "colab": {
          "base_uri": "https://localhost:8080/"
        },
        "id": "nkySJmFSJ9EO",
        "outputId": "ab4d3cc7-e03e-4f6b-fa67-3de4baf6712a"
      },
      "execution_count": null,
      "outputs": [
        {
          "output_type": "stream",
          "name": "stdout",
          "text": [
            "End of code\n"
          ]
        }
      ]
    },
    {
      "cell_type": "markdown",
      "source": [
        "Перевірити чи a менше за b i c"
      ],
      "metadata": {
        "id": "T3Xn5v0Yxlnb"
      }
    },
    {
      "cell_type": "code",
      "source": [
        "a = 2\n",
        "b = 5\n",
        "c = 4\n",
        "\n",
        "if a < b and a < c:\n",
        "   print(f'{a} is less than {b} and {c}')"
      ],
      "metadata": {
        "colab": {
          "base_uri": "https://localhost:8080/"
        },
        "id": "8TWJxPjpLT9I",
        "outputId": "fdeb43a1-ae72-48e1-d4fc-63aebfa607d9"
      },
      "execution_count": null,
      "outputs": [
        {
          "output_type": "stream",
          "name": "stdout",
          "text": [
            "2 is less than 5 and 4\n"
          ]
        }
      ]
    },
    {
      "cell_type": "markdown",
      "source": [
        "Перевірити a на рівність нулю"
      ],
      "metadata": {
        "id": "7T-Da_xuxsGN"
      }
    },
    {
      "cell_type": "code",
      "source": [
        "a = 0\n",
        "\n",
        "if a:\n",
        "    print(f'{a} is not zero')\n",
        "\n",
        "print(\"End of code\")"
      ],
      "metadata": {
        "colab": {
          "base_uri": "https://localhost:8080/"
        },
        "id": "LQBZ35ZfLx33",
        "outputId": "38004d4b-5648-4d6e-be00-714fbbfdb1ab"
      },
      "execution_count": null,
      "outputs": [
        {
          "output_type": "stream",
          "name": "stdout",
          "text": [
            "End of code\n"
          ]
        }
      ]
    },
    {
      "cell_type": "code",
      "source": [
        "a = -2\n",
        "\n",
        "# if a < 0 < a:\n",
        "#     print(f'{a} is not zero')\n",
        "\n",
        "if a < 0 or a > 0:\n",
        "    print(f'{a} is not zero')\n",
        "\n",
        "print(\"End of code\")"
      ],
      "metadata": {
        "colab": {
          "base_uri": "https://localhost:8080/"
        },
        "id": "x-dq38TgNTin",
        "outputId": "f7936089-1c2e-4b8c-f835-e6ce42f595fb"
      },
      "execution_count": null,
      "outputs": [
        {
          "output_type": "stream",
          "name": "stdout",
          "text": [
            "End of code\n"
          ]
        }
      ]
    },
    {
      "cell_type": "markdown",
      "source": [
        "Перевірити а  на рівність нулю\n",
        "\n",
        "\n"
      ],
      "metadata": {
        "id": "5_1JO7sDx4ds"
      }
    },
    {
      "cell_type": "code",
      "source": [
        "a = 0\n",
        "\n",
        "if a!=0:\n",
        "  print(f'{a} is not zero')\n",
        "\n",
        "if a == 0:\n",
        "  print(f'{a} is zero')\n",
        "\n",
        "print(\"End of code\")"
      ],
      "metadata": {
        "colab": {
          "base_uri": "https://localhost:8080/"
        },
        "id": "RI-IEoVwLuAn",
        "outputId": "ef901d21-ec7b-41b3-af8a-ae960ffbecde"
      },
      "execution_count": null,
      "outputs": [
        {
          "output_type": "stream",
          "name": "stdout",
          "text": [
            "0 is zero\n",
            "End of code\n"
          ]
        }
      ]
    },
    {
      "cell_type": "markdown",
      "source": [
        "Перевірка а по декількох умовах\n",
        "\n",
        "\n"
      ],
      "metadata": {
        "id": "OypyPlMvyPvE"
      }
    },
    {
      "cell_type": "code",
      "source": [
        "a = int(input(\"Enter value a: \"))\n",
        "\n",
        "if not a % 2 and not a % 3:\n",
        "    print(\"а not divides by 2 and 3\")\n",
        "\n",
        "if not a % 2 and a % 5:\n",
        "    print(\"а not divides by 2 and divides by 5\")\n",
        "\n",
        "if a < 0 or a > 3:\n",
        "    print(\"а not belong to range from 0 to 3\")\n",
        "\n",
        "if a >= -2 and a <= 0:\n",
        "    print(\"а belong to range from -2 to 0\")"
      ],
      "metadata": {
        "colab": {
          "base_uri": "https://localhost:8080/"
        },
        "id": "ERDfHXPkp9jU",
        "outputId": "b13d522e-dfb9-4c91-fde8-df7d63294047"
      },
      "execution_count": null,
      "outputs": [
        {
          "output_type": "stream",
          "name": "stdout",
          "text": [
            "Enter value a: 6\n",
            "а not divides by 2 and 3\n",
            "а not divides by 2 and divides by 5\n",
            "а not belong to range from 0 to 3\n"
          ]
        }
      ]
    },
    {
      "cell_type": "markdown",
      "source": [
        "###If...else умова"
      ],
      "metadata": {
        "id": "BSx8r0IXJueH"
      }
    },
    {
      "cell_type": "markdown",
      "source": [
        "Перевірити а  на рівність нулю\n"
      ],
      "metadata": {
        "id": "R_nZXjb0yYr0"
      }
    },
    {
      "cell_type": "code",
      "source": [
        "a = 0\n",
        "\n",
        "if a:\n",
        "  print(f'{a} is not zero')\n",
        "else:\n",
        "  print(\"a is zero\")"
      ],
      "metadata": {
        "colab": {
          "base_uri": "https://localhost:8080/"
        },
        "id": "j7c021beN7N2",
        "outputId": "abffaeef-93a4-4de2-9aee-b1f0fbc81058"
      },
      "execution_count": null,
      "outputs": [
        {
          "output_type": "stream",
          "name": "stdout",
          "text": [
            "a is zero\n"
          ]
        }
      ]
    },
    {
      "cell_type": "markdown",
      "source": [
        "Перевірити чи a менше за b"
      ],
      "metadata": {
        "id": "ossCmlOLyZ-2"
      }
    },
    {
      "cell_type": "code",
      "source": [
        "a = 6\n",
        "b = 4\n",
        "\n",
        "if a < b:\n",
        "  print(f'{a} is less than {b}')\n",
        "else:\n",
        "  print(f'{a} is not less than {b}')"
      ],
      "metadata": {
        "colab": {
          "base_uri": "https://localhost:8080/"
        },
        "id": "jW16uhSUOoow",
        "outputId": "3d439a2d-992f-4fd5-a4e3-f314825d51f8"
      },
      "execution_count": null,
      "outputs": [
        {
          "output_type": "stream",
          "name": "stdout",
          "text": [
            "6 is not less than 4\n"
          ]
        }
      ]
    },
    {
      "cell_type": "markdown",
      "source": [
        "Перевірка паролю для пропуску на сайт"
      ],
      "metadata": {
        "id": "aT4OmfSxyh8T"
      }
    },
    {
      "cell_type": "code",
      "source": [
        "entry = input('Password: ')\n",
        "\n",
        "if entry is 'test2023':\n",
        "  print('Access Granted')\n",
        "else:\n",
        "  print('Access Denied')"
      ],
      "metadata": {
        "colab": {
          "base_uri": "https://localhost:8080/"
        },
        "id": "8L0JiCAnJ3m_",
        "outputId": "5087abd8-cab9-4533-a3b9-cc0fab21a8a0"
      },
      "execution_count": null,
      "outputs": [
        {
          "output_type": "stream",
          "name": "stderr",
          "text": [
            "<>:3: SyntaxWarning: \"is\" with a literal. Did you mean \"==\"?\n",
            "<>:3: SyntaxWarning: \"is\" with a literal. Did you mean \"==\"?\n"
          ]
        },
        {
          "output_type": "stream",
          "name": "stdout",
          "text": [
            "Password: test2023\n",
            "Access Denied\n"
          ]
        },
        {
          "output_type": "stream",
          "name": "stderr",
          "text": [
            "<ipython-input-26-41bb51a03855>:3: SyntaxWarning: \"is\" with a literal. Did you mean \"==\"?\n",
            "  if entry is 'test2023':\n"
          ]
        }
      ]
    },
    {
      "cell_type": "code",
      "source": [
        "entry = input('Password: ')\n",
        "\n",
        "if entry == 'test2023':\n",
        "  print('Access Granted')\n",
        "else:\n",
        "  print('Access Denied')"
      ],
      "metadata": {
        "colab": {
          "base_uri": "https://localhost:8080/"
        },
        "id": "_k9R_OVrFNfm",
        "outputId": "d7e67f61-94a1-41ef-a0ab-5ae2143fa4d7"
      },
      "execution_count": null,
      "outputs": [
        {
          "output_type": "stream",
          "name": "stdout",
          "text": [
            "Password: test2023\n",
            "Access Granted\n"
          ]
        }
      ]
    },
    {
      "cell_type": "markdown",
      "source": [
        "Перевірка балансу для здійснення покупки"
      ],
      "metadata": {
        "id": "bAwCGUOiyqfE"
      }
    },
    {
      "cell_type": "code",
      "source": [
        "balance = 0.7 + 0.6\n",
        "\n",
        "if balance >= 1.3:\n",
        "  balance -= 1.3\n",
        "  print(\"Enough\")\n",
        "else:\n",
        "  print(\"Not enough\")"
      ],
      "metadata": {
        "colab": {
          "base_uri": "https://localhost:8080/"
        },
        "id": "s0mh6JsWJ7TH",
        "outputId": "5a67148d-f530-472d-cdfe-b8be8a5e8bd5"
      },
      "execution_count": null,
      "outputs": [
        {
          "output_type": "stream",
          "name": "stdout",
          "text": [
            "1.3\n",
            "Enough\n"
          ]
        }
      ]
    },
    {
      "cell_type": "markdown",
      "source": [
        "Перевірка допуску через ім'я"
      ],
      "metadata": {
        "id": "kuceWtnzywP3"
      }
    },
    {
      "cell_type": "code",
      "source": [
        "name = 'Alex'\n",
        "\n",
        "if name == 'Bob' or 'Mike' or 'Tom':\n",
        "  print('Access Granted')\n",
        "else:\n",
        "  print('Access Denied')"
      ],
      "metadata": {
        "colab": {
          "base_uri": "https://localhost:8080/"
        },
        "id": "6VAtfZogQ1dS",
        "outputId": "fad9dc8b-38de-443f-f577-943f5d397e9c"
      },
      "execution_count": null,
      "outputs": [
        {
          "output_type": "stream",
          "name": "stdout",
          "text": [
            "Access Granted\n"
          ]
        }
      ]
    },
    {
      "cell_type": "code",
      "source": [
        "name = 'Alex'\n",
        "\n",
        "if name == 'Bob' or name == 'Mike' or name == 'Tom':\n",
        "  print('Access Granted')\n",
        "else:\n",
        "  print('Access Denied')"
      ],
      "metadata": {
        "colab": {
          "base_uri": "https://localhost:8080/"
        },
        "id": "k683mlctHI4M",
        "outputId": "83523b38-038b-401e-ed60-7015d62bf291"
      },
      "execution_count": null,
      "outputs": [
        {
          "output_type": "stream",
          "name": "stdout",
          "text": [
            "Access Denied\n"
          ]
        }
      ]
    },
    {
      "cell_type": "markdown",
      "source": [
        "###If...elif...else умова"
      ],
      "metadata": {
        "id": "YHJQmKo4Jf3O"
      }
    },
    {
      "cell_type": "markdown",
      "source": [
        "Перевірка рівності a i b"
      ],
      "metadata": {
        "id": "62jEuBdvy3S8"
      }
    },
    {
      "cell_type": "code",
      "metadata": {
        "colab": {
          "base_uri": "https://localhost:8080/"
        },
        "id": "4R7C6tzR5Vhh",
        "outputId": "a8e9d61a-47dc-42b6-bcae-190df5be693f"
      },
      "source": [
        "a = 2\n",
        "b = 4\n",
        "\n",
        "if a < b:\n",
        "  print(f'{a} is less than {b}')\n",
        "elif a > b:\n",
        "  print(f'{a} is not less than {b}')\n",
        "else:\n",
        "  print(a, 'equals', b)"
      ],
      "execution_count": null,
      "outputs": [
        {
          "output_type": "stream",
          "name": "stdout",
          "text": [
            "2 is less than 4\n"
          ]
        }
      ]
    },
    {
      "cell_type": "markdown",
      "source": [
        "Перевірка а по декількох умовах"
      ],
      "metadata": {
        "id": "3GMUM8mUy-7p"
      }
    },
    {
      "cell_type": "code",
      "source": [
        "a = 0\n",
        "\n",
        "if a < 0:\n",
        "\tprint(f'{a} is negative')\n",
        "elif a == 0:\n",
        "\tprint('It is a 0')\n",
        "elif a > 0 and a < 5:\n",
        "\tprint(f'{a} is in (0,5)')\n",
        "else:\n",
        "\tprint(f'{a} equals or greater than 5')"
      ],
      "metadata": {
        "colab": {
          "base_uri": "https://localhost:8080/"
        },
        "id": "iOKWR7J_PuQX",
        "outputId": "130abac2-238b-4eed-8afc-6a43cb037e3c"
      },
      "execution_count": null,
      "outputs": [
        {
          "output_type": "stream",
          "name": "stdout",
          "text": [
            "It is a 0\n"
          ]
        }
      ]
    },
    {
      "cell_type": "code",
      "source": [
        "a = 7.5\n",
        "\n",
        "if a<0:\n",
        "\tprint('a is less than zero.')\n",
        "elif a>0 and a<8:\n",
        "\tprint('a is in (0,8)')\n",
        "elif a>7 and a<15:\n",
        "\tprint('a is in (7,15)')"
      ],
      "metadata": {
        "colab": {
          "base_uri": "https://localhost:8080/"
        },
        "id": "Jvh395c2VrEZ",
        "outputId": "31a27136-6ded-4261-d72b-dd28809db544"
      },
      "execution_count": null,
      "outputs": [
        {
          "output_type": "stream",
          "name": "stdout",
          "text": [
            "a is in (0,8)\n"
          ]
        }
      ]
    },
    {
      "cell_type": "code",
      "source": [
        "a = 7.5\n",
        "\n",
        "if a<0:\n",
        "\tprint('a is less than zero.')\n",
        "elif a>0 and a<8:\n",
        "\tprint('a is in (0,8)')\n",
        "\n",
        "if a>7 and a<15:\n",
        "\tprint('a is in (7,15)')"
      ],
      "metadata": {
        "colab": {
          "base_uri": "https://localhost:8080/"
        },
        "id": "ebW-d99nINWt",
        "outputId": "8cbdf734-73ba-4cd0-dc68-e43585cfec5b"
      },
      "execution_count": null,
      "outputs": [
        {
          "output_type": "stream",
          "name": "stdout",
          "text": [
            "a is in (0,8)\n",
            "a is in (7,15)\n"
          ]
        }
      ]
    },
    {
      "cell_type": "markdown",
      "source": [
        "## Заміна if або оператор, про який не розкажуть на інших курсах\n",
        "Працює на версії Python 3.10 і вище\n"
      ],
      "metadata": {
        "id": "M5Mj6ThvUcd4"
      }
    },
    {
      "cell_type": "markdown",
      "source": [
        "Оператор match приймає значення, яке поступає на вхід і задопомогою case заміняє if...elif...else"
      ],
      "metadata": {
        "id": "fV7WhjXXzG9s"
      }
    },
    {
      "cell_type": "code",
      "source": [
        "x = 100\n",
        "\n",
        "# x is the variable to match\n",
        "match x:\n",
        "  # if x is 0\n",
        "  case 0:\n",
        "    print(\"x is zero\")\n",
        "  # case with if-condition\n",
        "  case 4 if x % 2 == 0:\n",
        "    print(\"x % 2 == 0 and case is 4\")\n",
        "  # Empty case with if-condition\n",
        "  case _ if x < 10:\n",
        "    print(\"x is < 10\")\n",
        "  # default case(will only be matched if the above cases were not matched)\n",
        "  # so it is basically just an else:\n",
        "  case _:\n",
        "    print(x)"
      ],
      "metadata": {
        "colab": {
          "base_uri": "https://localhost:8080/"
        },
        "id": "vgTzeRVoUeFZ",
        "outputId": "2b28c5c0-534d-4346-cf7a-a658cd4c9b2b"
      },
      "execution_count": null,
      "outputs": [
        {
          "output_type": "stream",
          "name": "stdout",
          "text": [
            "100\n"
          ]
        }
      ]
    },
    {
      "cell_type": "markdown",
      "source": [
        "## Тернарні операції"
      ],
      "metadata": {
        "id": "3sJaQu73C2XS"
      }
    },
    {
      "cell_type": "markdown",
      "source": [
        "[statement_1] if [expression] else [statement_2]"
      ],
      "metadata": {
        "id": "zkFinoZ4V_Jy"
      }
    },
    {
      "cell_type": "markdown",
      "source": [
        "Знаходимо більше число"
      ],
      "metadata": {
        "id": "_8Rr04KxzZpT"
      }
    },
    {
      "cell_type": "code",
      "source": [
        "a, b = 5, 7\n",
        "\n",
        "#get maximum of a, b\n",
        "max_value = a if a > b else b\n",
        "\n",
        "print(f'Maximum: {max_value}')"
      ],
      "metadata": {
        "colab": {
          "base_uri": "https://localhost:8080/"
        },
        "id": "D7Glg9NcCVi6",
        "outputId": "28b59eea-4e9a-42d5-ab14-33b4b5d58cc5"
      },
      "execution_count": null,
      "outputs": [
        {
          "output_type": "stream",
          "name": "stdout",
          "text": [
            "Maximum: 7\n"
          ]
        }
      ]
    },
    {
      "cell_type": "code",
      "source": [
        "if a>b:\n",
        "  print(f'Maximum: {a}')\n",
        "else:\n",
        "  print(f'Maximum: {b}')"
      ],
      "metadata": {
        "colab": {
          "base_uri": "https://localhost:8080/"
        },
        "id": "VQ4oBslBJjEm",
        "outputId": "6f3a1f70-9d1d-4bd1-a05c-52a8d293b617"
      },
      "execution_count": null,
      "outputs": [
        {
          "output_type": "stream",
          "name": "stdout",
          "text": [
            "Maximum: 7\n"
          ]
        }
      ]
    },
    {
      "cell_type": "markdown",
      "source": [
        "Перевіряємо, яке число більше серед двох чисел"
      ],
      "metadata": {
        "id": "JU6RAPqkzfOT"
      }
    },
    {
      "cell_type": "code",
      "source": [
        "a, b = 2, 5\n",
        "\n",
        "#ternary operator\n",
        "print('A bigger than B') if a > b else print('B bigger than A')"
      ],
      "metadata": {
        "colab": {
          "base_uri": "https://localhost:8080/"
        },
        "id": "2OCJe6zXWNYK",
        "outputId": "a45c66bc-8cf8-4678-b73b-35db880460d0"
      },
      "execution_count": null,
      "outputs": [
        {
          "output_type": "stream",
          "name": "stdout",
          "text": [
            "B bigger than A\n"
          ]
        }
      ]
    },
    {
      "cell_type": "code",
      "source": [
        "# nested ternary operator\n",
        "a, b = 10, 10\n",
        "\n",
        "print(\"Both a and b are equal\" if a == b else \"a is greater than b\"\n",
        "        if a > b else \"b is greater than a\")"
      ],
      "metadata": {
        "colab": {
          "base_uri": "https://localhost:8080/"
        },
        "id": "z09ga5p_XOXh",
        "outputId": "ecde3f9b-7fa6-47e8-f2a9-42bbc961ad9e"
      },
      "execution_count": null,
      "outputs": [
        {
          "output_type": "stream",
          "name": "stdout",
          "text": [
            "a is greater than b\n"
          ]
        }
      ]
    },
    {
      "cell_type": "code",
      "source": [
        "if a==b:\n",
        "  print(f'Equal')\n",
        "else:\n",
        "  if a>b:\n",
        "    print(f'Maximum: {a}')\n",
        "  else:\n",
        "    print(f'Maximum: {b}')"
      ],
      "metadata": {
        "colab": {
          "base_uri": "https://localhost:8080/"
        },
        "id": "6djUKGmpJ68e",
        "outputId": "70b34fbc-0887-455e-bc74-88056fe41a68"
      },
      "execution_count": null,
      "outputs": [
        {
          "output_type": "stream",
          "name": "stdout",
          "text": [
            "Maximum: 10\n"
          ]
        }
      ]
    },
    {
      "cell_type": "markdown",
      "source": [
        "Перевіряємо, яке число більше серед трьох чисел"
      ],
      "metadata": {
        "id": "OTjnFNKezk11"
      }
    },
    {
      "cell_type": "code",
      "source": [
        "a, b, c = 151, 93, 122\n",
        "\n",
        "#nested ternary operator\n",
        "max_value = a if a > b and a>c else b if b>c else c\n",
        "\n",
        "print(max_value)"
      ],
      "metadata": {
        "colab": {
          "base_uri": "https://localhost:8080/"
        },
        "id": "Jf5BpWsGWSvJ",
        "outputId": "f3916748-7274-4703-bc60-9879dc376d1b"
      },
      "execution_count": null,
      "outputs": [
        {
          "output_type": "stream",
          "name": "stdout",
          "text": [
            "151\n"
          ]
        }
      ]
    },
    {
      "cell_type": "markdown",
      "source": [
        "Використання тернарного оператора для визначення парності або непарності числа"
      ],
      "metadata": {
        "id": "6Fzs7LKoYwIT"
      }
    },
    {
      "cell_type": "code",
      "source": [
        "number = int(input(\"Enter natural number: \"))\n",
        "\n",
        "result = 'even' if number % 2 == 0 else 'odd'\n",
        "\n",
        "print(f'The number {number} is {result}.')"
      ],
      "metadata": {
        "colab": {
          "base_uri": "https://localhost:8080/"
        },
        "id": "0bd5_8ZeXdwE",
        "outputId": "ce69d8ba-0ae2-4953-f40a-169a07d2c120"
      },
      "execution_count": null,
      "outputs": [
        {
          "output_type": "stream",
          "name": "stdout",
          "text": [
            "Enter natural number: 7\n",
            "The number 7 is odd.\n"
          ]
        }
      ]
    },
    {
      "cell_type": "code",
      "source": [
        "number = int(input(\"Enter natural number: \"))\n",
        "\n",
        "result = (number % 2 == 0) and \"Even\" or \"Odd\"\n",
        "\n",
        "print(f'The number {number} is {result}.')"
      ],
      "metadata": {
        "colab": {
          "base_uri": "https://localhost:8080/"
        },
        "id": "VWQBG-5ZYfmr",
        "outputId": "4b3fcbf5-8e39-421a-bb88-62dde742f9e4"
      },
      "execution_count": null,
      "outputs": [
        {
          "output_type": "stream",
          "name": "stdout",
          "text": [
            "Enter natural number: 6\n",
            "The number 6 is Even.\n"
          ]
        }
      ]
    },
    {
      "cell_type": "markdown",
      "source": [
        "## Блоки інструкцій"
      ],
      "metadata": {
        "id": "HFyA3w6aAW0M"
      }
    },
    {
      "cell_type": "code",
      "source": [
        "a = 2\n",
        "\n",
        "if a!=0:\n",
        "  print(f'{a} is not zero.')\n",
        "  if a>0:\n",
        "    print(f'{a} is positive.')\n",
        "  if a<0:\n",
        "    print(f'{a} is negative.')\n",
        "else:\n",
        "  print(f'{a} is zero')"
      ],
      "metadata": {
        "id": "joCBo-bpAYYz",
        "colab": {
          "base_uri": "https://localhost:8080/"
        },
        "outputId": "dbe08345-960f-42ec-8693-fb3245807545"
      },
      "execution_count": null,
      "outputs": [
        {
          "output_type": "stream",
          "name": "stdout",
          "text": [
            "2 is not zero.\n",
            "2 is positive.\n"
          ]
        }
      ]
    },
    {
      "cell_type": "markdown",
      "source": [
        "Перевіряємо, яке число більше серед трьох чисел"
      ],
      "metadata": {
        "id": "OoOerfa1z_9E"
      }
    },
    {
      "cell_type": "code",
      "source": [
        "a = 2\n",
        "b = 3\n",
        "c = 4\n",
        "\n",
        "max_value = None\n",
        "\n",
        "if a < b:\n",
        "  print(f'{a} is less than {b}')\n",
        "  max_value = b\n",
        "  if c < b:\n",
        "    print(f'{c} is less than {b}')\n",
        "    max_value = b\n",
        "  else:\n",
        "    print(f'{c} is not less than {b}')\n",
        "    max_value = c\n",
        "else:\n",
        "  print(f'{a} is not less than {b}')\n",
        "  max_value = a\n",
        "\n",
        "print(f\"Maximum value is {max_value}\")"
      ],
      "metadata": {
        "colab": {
          "base_uri": "https://localhost:8080/"
        },
        "id": "Ul-szxPKO6xJ",
        "outputId": "4db83272-7c2e-4978-ba44-53b5e764e909"
      },
      "execution_count": null,
      "outputs": [
        {
          "output_type": "stream",
          "name": "stdout",
          "text": [
            "2 is less than 3\n",
            "4 is not less than 3\n",
            "Maximum value is 4\n"
          ]
        }
      ]
    },
    {
      "cell_type": "markdown",
      "metadata": {
        "id": "DLMQ6iF361Hw"
      },
      "source": [
        "## Цикл for\n"
      ]
    },
    {
      "cell_type": "markdown",
      "source": [
        "Знайти суму чисел в певному діапазоні"
      ],
      "metadata": {
        "id": "9DMzllDw0BZk"
      }
    },
    {
      "cell_type": "code",
      "source": [
        "sum = 0\n",
        "\n",
        "for element in range(1, 11):\n",
        "  sum += element\n",
        "\n",
        "print(sum)"
      ],
      "metadata": {
        "colab": {
          "base_uri": "https://localhost:8080/"
        },
        "id": "GumUMKqjwyc9",
        "outputId": "28bb096f-27d1-46ac-9d38-aa53a1a7e04e"
      },
      "execution_count": null,
      "outputs": [
        {
          "output_type": "stream",
          "name": "stdout",
          "text": [
            "55\n"
          ]
        }
      ]
    },
    {
      "cell_type": "markdown",
      "source": [
        "Програма читає число `n` кількості вхідних значень, а далі читає `n` значень. І рахує суму та середнє арифметичне цих значень."
      ],
      "metadata": {
        "id": "G75LROIr0GhB"
      }
    },
    {
      "cell_type": "code",
      "metadata": {
        "colab": {
          "base_uri": "https://localhost:8080/"
        },
        "id": "KOo2U_sI7tGi",
        "outputId": "a3b47495-d685-4da3-a619-b74e899f35e0"
      },
      "source": [
        "n = int(input(\"Enter range of number: \"))\n",
        "\n",
        "sum = 0\n",
        "\n",
        "for _ in range(1, n + 1):\n",
        "    num = int(input(\"Enter value: \"))\n",
        "    sum = sum + num\n",
        "\n",
        "print(f\"Sum equal {sum} and average value equal {round(sum/n,2)}\")"
      ],
      "execution_count": null,
      "outputs": [
        {
          "output_type": "stream",
          "name": "stdout",
          "text": [
            "Enter range of number: 3\n",
            "Enter value: 4\n",
            "Enter value: 5\n",
            "Enter value: 6\n",
            "Sum equal 15 and average value equal 5.0\n"
          ]
        }
      ]
    },
    {
      "cell_type": "markdown",
      "source": [
        "Підрахунок суми цифр в числі"
      ],
      "metadata": {
        "id": "B-21WzxX0dY0"
      }
    },
    {
      "cell_type": "code",
      "source": [
        "n = input(\"Enter natural number: \")\n",
        "\n",
        "sum = 0\n",
        "\n",
        "for char in n:\n",
        "    num = int(char)\n",
        "    sum += num\n",
        "\n",
        "print(f\"Sum of digits in number {sum}\")"
      ],
      "metadata": {
        "colab": {
          "base_uri": "https://localhost:8080/"
        },
        "id": "J9tRkPqTs-mX",
        "outputId": "13d3f010-b48a-4a0d-e282-b4770f24cd83"
      },
      "execution_count": null,
      "outputs": [
        {
          "output_type": "stream",
          "name": "stdout",
          "text": [
            "Enter natural number: 123456789\n",
            "Sum of digits in number 45\n"
          ]
        }
      ]
    },
    {
      "cell_type": "markdown",
      "source": [
        "Користувач вводить рядок. Порахувати кількість символів a, o, t. Обчислити відсоток символів a, o, t. Порахувати кількість слів у цьому рядку."
      ],
      "metadata": {
        "id": "JTlf6-Tc0ksv"
      }
    },
    {
      "cell_type": "code",
      "source": [
        "string = input(\"Enter sentence: \")\n",
        "\n",
        "count_symbols = 0\n",
        "count_a = 0\n",
        "count_o = 0\n",
        "count_t = 0\n",
        "count_space = 0\n",
        "\n",
        "for char in string:\n",
        "    count_symbols += 1\n",
        "    if char == 'a':\n",
        "        count_a += 1\n",
        "        continue\n",
        "    if char == 'o':\n",
        "        count_o += 1\n",
        "        continue\n",
        "    if char == 't':\n",
        "        count_t += 1\n",
        "        continue\n",
        "    if char == ' ':\n",
        "        count_space += 1\n",
        "\n",
        "print(f\"Count of symbols 'a' {count_a} - percentage in sentence {round((count_a/count_symbols)*100,2)}%\")\n",
        "print(f\"Count of symbols 'o' {count_o} - percentage in sentence {round((count_o/count_symbols)*100,2)}%\")\n",
        "print(f\"Count of symbols 't' {count_t} - percentage in sentence {round((count_t/count_symbols)*100,2)}%\")\n",
        "print(f\"Count of words {count_space + 1}\")"
      ],
      "metadata": {
        "colab": {
          "base_uri": "https://localhost:8080/"
        },
        "id": "LB9u2_O_tRaD",
        "outputId": "44a15eac-919a-4e73-99cb-7a5649a448db"
      },
      "execution_count": null,
      "outputs": [
        {
          "output_type": "stream",
          "name": "stdout",
          "text": [
            "Enter sentence: Learn new skills to boost your productivity and enable your organization to accomplish more with Microsoft Certifications.\n",
            "Count of symbols 'a' 7 - percentage in sentence 5.74%\n",
            "Count of symbols 'o' 14 - percentage in sentence 11.48%\n",
            "Count of symbols 't' 10 - percentage in sentence 8.2%\n",
            "Count of words 17\n"
          ]
        }
      ]
    },
    {
      "cell_type": "code",
      "source": [],
      "metadata": {
        "id": "zi-c3nCR03GC"
      },
      "execution_count": null,
      "outputs": []
    },
    {
      "cell_type": "markdown",
      "source": [
        "Програма отримує числа `a` і `b` від `1` до `20` (відповідність введення перевіряється), обчислює суму і добуток усіх чисел від `a` до `b`."
      ],
      "metadata": {
        "id": "6F12ZruC0xjm"
      }
    },
    {
      "cell_type": "code",
      "source": [
        "a = int(input(\"Enter a: \"))\n",
        "b = int(input(\"Enter b: \"))\n",
        "\n",
        "if (a >= 1 and a <= 20) and (b >= 1 and b <= 20):\n",
        "    sum = 0\n",
        "    mul = 1\n",
        "\n",
        "    for el in range(a, b + 1):\n",
        "        sum = sum + el\n",
        "        mul = mul * el\n",
        "\n",
        "    print(f\"Sum {sum}, product of numbers {mul}\")\n",
        "else:\n",
        "    print(\"The numbers a and b must be between 1 and 20\")"
      ],
      "metadata": {
        "colab": {
          "base_uri": "https://localhost:8080/"
        },
        "id": "IYEn77KVwa4E",
        "outputId": "a0d89d06-b374-402f-a0ac-e354bbf775dc"
      },
      "execution_count": null,
      "outputs": [
        {
          "output_type": "stream",
          "name": "stdout",
          "text": [
            "Enter a: 2\n",
            "Enter b: 3\n",
            "Sum 5, product of numbers 6\n"
          ]
        }
      ]
    },
    {
      "cell_type": "markdown",
      "source": [
        "## Цикл while\n"
      ],
      "metadata": {
        "id": "ySg9BoeODaka"
      }
    },
    {
      "cell_type": "code",
      "source": [
        "a = 1\n",
        "\n",
        "while a <= 5:\n",
        "  print(a)\n",
        "  a += 1"
      ],
      "metadata": {
        "colab": {
          "base_uri": "https://localhost:8080/"
        },
        "id": "GfENVs1KEELY",
        "outputId": "70bdbccb-6b3f-446c-9196-5be46f8a1f6e"
      },
      "execution_count": null,
      "outputs": [
        {
          "output_type": "stream",
          "name": "stdout",
          "text": [
            "1\n",
            "2\n",
            "3\n",
            "4\n",
            "5\n"
          ]
        }
      ]
    },
    {
      "cell_type": "markdown",
      "source": [
        "Як можна динамічно перервати цикл за допомогою If умови"
      ],
      "metadata": {
        "id": "4Ko9xbLx1Owl"
      }
    },
    {
      "cell_type": "code",
      "source": [
        "condition = True\n",
        "increment = 0\n",
        "\n",
        "while condition:\n",
        "  if increment == 3:\n",
        "    condition = False\n",
        "\n",
        "  print(increment)\n",
        "  increment += 1\n",
        "\n",
        "print(\"Out of while loop\")"
      ],
      "metadata": {
        "colab": {
          "base_uri": "https://localhost:8080/"
        },
        "id": "VgrhRKPgetye",
        "outputId": "e17bfdaa-0720-4260-b832-caf47d2e02bc"
      },
      "execution_count": null,
      "outputs": [
        {
          "output_type": "stream",
          "name": "stdout",
          "text": [
            "0\n",
            "1\n",
            "2\n",
            "3\n",
            "Out of while loop\n"
          ]
        }
      ]
    },
    {
      "cell_type": "markdown",
      "source": [
        "Скільки чисел необхідно, щоб сума виду `1+2+3+4+...` стала більшою за `100`"
      ],
      "metadata": {
        "id": "FzOB5npT1ejE"
      }
    },
    {
      "cell_type": "code",
      "source": [
        "sum = 0\n",
        "\n",
        "counter = 1\n",
        "\n",
        "while True:\n",
        "    sum += counter\n",
        "    if sum > 100:\n",
        "        break\n",
        "    counter += 1\n",
        "\n",
        "print(f\"Sum {sum} last value {counter}\")"
      ],
      "metadata": {
        "colab": {
          "base_uri": "https://localhost:8080/"
        },
        "id": "1epeTiLvwCRD",
        "outputId": "302f9a33-483d-45f6-f406-c2a760ff599f"
      },
      "execution_count": null,
      "outputs": [
        {
          "output_type": "stream",
          "name": "stdout",
          "text": [
            "Sum 105 last value 14\n"
          ]
        }
      ]
    },
    {
      "cell_type": "markdown",
      "source": [
        "While і For може використовуватись з else значенням\n"
      ],
      "metadata": {
        "id": "-rB5nZLTh0oC"
      }
    },
    {
      "cell_type": "code",
      "source": [
        "word = 'python'\n",
        "for char in word:\n",
        "  if char == 'o':\n",
        "    print(\"There is 'o' in the word\")\n",
        "    break\n",
        "else:\n",
        "  print(\"There are no 'o' in the word\")"
      ],
      "metadata": {
        "colab": {
          "base_uri": "https://localhost:8080/"
        },
        "id": "jj_RKm55iFR0",
        "outputId": "977de032-f975-4028-e064-0bf3a8714bdf"
      },
      "execution_count": null,
      "outputs": [
        {
          "output_type": "stream",
          "name": "stdout",
          "text": [
            "There is 'o' in the word\n"
          ]
        }
      ]
    },
    {
      "cell_type": "code",
      "source": [
        "increment = 0\n",
        "\n",
        "while increment <= 3:\n",
        "  print(increment, end=\" \")\n",
        "  increment+=1\n",
        "else:\n",
        "  print(0)"
      ],
      "metadata": {
        "colab": {
          "base_uri": "https://localhost:8080/"
        },
        "id": "d-o6OBWJhS3C",
        "outputId": "3617a781-a65a-415a-e45a-a5ede07c20a3"
      },
      "execution_count": null,
      "outputs": [
        {
          "output_type": "stream",
          "name": "stdout",
          "text": [
            "0 1 2 3 0\n"
          ]
        }
      ]
    },
    {
      "cell_type": "markdown",
      "source": [
        "Таблиця, що містить головні переваги та недоліки використання циклів `for` і `while` у мові програмування Python:\n",
        "\n",
        "|              | Переваги                                                      | Недоліки                                                        |\n",
        "|--------------|---------------------------------------------------------------|-----------------------------------------------------------------|\n",
        "| Цикл `for`   | - Зручний для ітерації по колекціях або послідовностях даних.  | - Вимагає заздалегідь відомого діапазону ітерацій.              |\n",
        "|              | - Простий для розуміння та використання.                       | - Не підходить для ситуацій, коли потрібна нескінченна ітерація. |\n",
        "|              | - Забезпечує автоматичне керування кроком ітерації.             |                                                                 |\n",
        "|              | - Зручний для обробки елементів колекції один за одним.        |                                                                 |\n",
        "| Цикл `while` | - Дозволяє виконувати блок коду, доки певна умова виконується.  | - Потенційно може призвести до безкінечного циклу.              |\n",
        "|              | - Зручний для ситуацій, коли кількість ітерацій невідома заздалегідь. | - Вимагає відповідного оновлення умови виходу з циклу.       |\n",
        "|              | - Можна використовувати для реалізації складних умови у циклі. | - Потенційно може призвести до складності управління циклом.   |\n",
        "|              | - Забезпечує гнучкий контроль над процесом ітерації.           |                                                                 |\n"
      ],
      "metadata": {
        "id": "2r-dTA3veXP0"
      }
    },
    {
      "cell_type": "markdown",
      "source": [
        "## Переривання циклів\n"
      ],
      "metadata": {
        "id": "zoFHqTSmcRFP"
      }
    },
    {
      "cell_type": "code",
      "source": [
        "string = 'break statement'\n",
        "# Using for loop\n",
        "for letter in string:\n",
        "\tprint(letter)\n",
        "\n",
        "\tif letter == 'e' or letter == 's':\n",
        "\t\tbreak\n",
        "\n",
        "print(\"Out of for loop\")"
      ],
      "metadata": {
        "colab": {
          "base_uri": "https://localhost:8080/"
        },
        "id": "FrqRrLDC1uek",
        "outputId": "b831c217-7492-4040-9ff4-1c6808237408"
      },
      "execution_count": null,
      "outputs": [
        {
          "output_type": "stream",
          "name": "stdout",
          "text": [
            "b\n",
            "r\n",
            "e\n",
            "Out of for loop\n"
          ]
        }
      ]
    },
    {
      "cell_type": "code",
      "source": [
        "increment = 0\n",
        "\n",
        "# Using while loop\n",
        "while True:\n",
        "\n",
        "  if increment == 3:\n",
        "    print(\"Value is equal to 3\")\n",
        "    break\n",
        "\n",
        "  print(increment)\n",
        "  increment += 1\n",
        "\n",
        "print(\"Out of while loop\")\n"
      ],
      "metadata": {
        "colab": {
          "base_uri": "https://localhost:8080/"
        },
        "id": "KUC1uzODcUkt",
        "outputId": "e76b34ce-cc19-4d4f-b9da-f4784eaa5d52"
      },
      "execution_count": null,
      "outputs": [
        {
          "output_type": "stream",
          "name": "stdout",
          "text": [
            "0\n",
            "1\n",
            "2\n",
            "Value is equal to 3\n",
            "Out of while loop\n"
          ]
        }
      ]
    },
    {
      "cell_type": "code",
      "source": [
        "for letter in \"continue statement\":\n",
        "\n",
        "\t# If i is equals to 'n' or 't',\n",
        "\t# continue to next iteration\n",
        "\t# without printing\n",
        "\tif letter == \"n\" or letter == \"t\":\n",
        "\t\tcontinue\n",
        "\telse:\n",
        "\t\tprint(letter, end = \" \")\n"
      ],
      "metadata": {
        "colab": {
          "base_uri": "https://localhost:8080/"
        },
        "id": "cGX5QbwQcc7u",
        "outputId": "81828cdf-b432-49a1-fc88-224d2748c6cc"
      },
      "execution_count": null,
      "outputs": [
        {
          "output_type": "stream",
          "name": "stdout",
          "text": [
            "c o i u e   s a e m e "
          ]
        }
      ]
    },
    {
      "cell_type": "code",
      "source": [
        "string = \"statement\"\n",
        "\n",
        "# Empty loop\n",
        "for _ in string:\n",
        "\t# No error will be raised\n",
        "\tpass\n",
        "\n",
        "# Pass statement\n",
        "for i in string:\n",
        "  # If i is equals to 't',\n",
        "\t# continue to next iteration\n",
        "\t# with printing\n",
        "\tif i == 't':\n",
        "\t\tprint('Pass executed')\n",
        "\t\tpass\n",
        "\tprint(i)\n"
      ],
      "metadata": {
        "colab": {
          "base_uri": "https://localhost:8080/"
        },
        "id": "mL_aqM9n__Ul",
        "outputId": "5f7ab4dc-fe74-44cc-d66a-2b2c1412c1b5"
      },
      "execution_count": null,
      "outputs": [
        {
          "output_type": "stream",
          "name": "stdout",
          "text": [
            "s\n",
            "Pass executed\n",
            "t\n",
            "a\n",
            "Pass executed\n",
            "t\n",
            "e\n",
            "m\n",
            "e\n",
            "n\n",
            "Pass executed\n",
            "t\n"
          ]
        }
      ]
    },
    {
      "cell_type": "markdown",
      "metadata": {
        "id": "dCUJCGdg8gpI"
      },
      "source": [
        "## Винятки"
      ]
    },
    {
      "cell_type": "code",
      "source": [
        "value_x = 5\n",
        "value_y = \"hello\"\n",
        "\n",
        "try:\n",
        "    result = value_x + value_y\n",
        "    print(result)\n",
        "\n",
        "except TypeError:\n",
        "    print(\"Error: Cannot concatenate int and str.\")\n",
        "\n",
        "finally:\n",
        "  print(\"End of calculation\")\n"
      ],
      "metadata": {
        "colab": {
          "base_uri": "https://localhost:8080/"
        },
        "id": "HTrYv0xo6NN0",
        "outputId": "16a9d802-bb34-4897-fd33-0a9805083269"
      },
      "execution_count": null,
      "outputs": [
        {
          "output_type": "stream",
          "name": "stdout",
          "text": [
            "Error: Cannot concatenate int and str.\n",
            "End of calculation\n"
          ]
        }
      ]
    },
    {
      "cell_type": "code",
      "source": [
        "user_input = input(\"Enter a positive integer: \")\n",
        "try:\n",
        "    number = int(user_input)\n",
        "    if number <= 0:\n",
        "        raise ValueError(\"Error: The number must be positive!\")\n",
        "    print(f\"The square of {number} is {number**2}.\")\n",
        "except ValueError as e:\n",
        "    print(str(e))"
      ],
      "metadata": {
        "colab": {
          "base_uri": "https://localhost:8080/"
        },
        "id": "2MBL5Xor6noj",
        "outputId": "0bbaa32d-5ec7-43f8-a77c-46560ddd48fc"
      },
      "execution_count": null,
      "outputs": [
        {
          "output_type": "stream",
          "name": "stdout",
          "text": [
            "Enter a positive integer: 5\n",
            "The square of 5 is 25.\n"
          ]
        }
      ]
    },
    {
      "cell_type": "code",
      "source": [
        "try:\n",
        "  value_a = input(\"Enter value a: \")\n",
        "  value_b = input(\"Enter value b: \")\n",
        "\n",
        "  value_x = -float(value_b)/float(value_a)\n",
        "\n",
        "except ValueError:\n",
        "  print(\"Error: Cannot divide float and str\")\n",
        "\n",
        "except ZeroDivisionError:\n",
        "  print(\"Error: Cannot divide by zero\")\n",
        "\n",
        "else:\n",
        "  print(f\"Result x equal: {value_x}\")\n",
        "\n",
        "finally:\n",
        "  print(\"End of calculation\")"
      ],
      "metadata": {
        "colab": {
          "base_uri": "https://localhost:8080/"
        },
        "id": "CRlOaFgcDrT9",
        "outputId": "b5f98ddb-063e-44f4-e34c-05b317c254a8"
      },
      "execution_count": null,
      "outputs": [
        {
          "output_type": "stream",
          "name": "stdout",
          "text": [
            "Enter value a: 4\n",
            "Enter value b: 3\n",
            "Result x equal: -0.75\n",
            "End of calculation\n"
          ]
        }
      ]
    },
    {
      "cell_type": "code",
      "source": [
        "try:\n",
        "  value_a = input(\"Enter value a: \")\n",
        "  value_b = input(\"Enter value b: \")\n",
        "\n",
        "  value_x = -value_b / value_a\n",
        "\n",
        "except TypeError:\n",
        "  print(\"TypeError exception block\")\n",
        "  try:\n",
        "    value_x = -float(value_b) / float(value_a)\n",
        "\n",
        "  except ValueError:\n",
        "    print(\"Error: Cannot divide float and str\")\n",
        "\n",
        "  except ZeroDivisionError:\n",
        "    print(\"Error: Cannot divide by zero\")\n",
        "\n",
        "  else:\n",
        "    print(f\"Result x equal: {round(value_x, 2)}\")\n",
        "\n",
        "else:\n",
        "  print(f\"Result x equal: {round(value_x, 2)}\")\n",
        "\n",
        "finally:\n",
        "  print(\"End of calculation\")"
      ],
      "metadata": {
        "colab": {
          "base_uri": "https://localhost:8080/"
        },
        "id": "0QHg9Jvfoqik",
        "outputId": "313d2f83-2019-4268-c58a-3c2284bd6a81"
      },
      "execution_count": null,
      "outputs": [
        {
          "output_type": "stream",
          "name": "stdout",
          "text": [
            "Enter value a: 4\n",
            "Enter value b: 3\n",
            "TypeError exception block\n",
            "Result x equal: -0.75\n",
            "End of calculation\n"
          ]
        }
      ]
    },
    {
      "cell_type": "code",
      "source": [
        "try:\n",
        "  value_a = input(\"Enter value a: \")\n",
        "  value_b = input(\"Enter value b: \")\n",
        "\n",
        "  value_x = -float(value_b)/float(value_a)\n",
        "except Exception as e:\n",
        "  print(f\"Raised exception {e}\")"
      ],
      "metadata": {
        "colab": {
          "base_uri": "https://localhost:8080/"
        },
        "id": "SwLd55_5mI8D",
        "outputId": "3acd7e75-7084-4840-8881-cb533cce3f72"
      },
      "execution_count": null,
      "outputs": [
        {
          "output_type": "stream",
          "name": "stdout",
          "text": [
            "Enter value a: 0\n",
            "Enter value b: ome\n",
            "Raised exception could not convert string to float: 'ome'\n"
          ]
        }
      ]
    },
    {
      "cell_type": "markdown",
      "source": [
        "Ієрархія винятків"
      ],
      "metadata": {
        "id": "32r8UP087jp7"
      }
    },
    {
      "cell_type": "markdown",
      "source": [
        "![image.png](data:image/png;base64,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)"
      ],
      "metadata": {
        "id": "rjDVLpVd6oe9"
      }
    },
    {
      "cell_type": "markdown",
      "source": [
        "Ось короткий опис кожної помилки з ієрархії виключень у Python:\n",
        "\n",
        "- BaseException: Базовий клас для всіх виключень у Python.\n",
        "  - SystemExit: Використовується для сигналізації про виходу з програми.\n",
        "  - KeyboardInterrupt: Використовується, коли користувач перериває виконання програми, зазвичай за допомогою комбінації клавіш Ctrl+C.\n",
        "  - GeneratorExit: Використовується при закритті генератора.\n",
        "  - Exception: Базовий клас для всіх стандартних виключень у Python.\n",
        "    - StopIteration: Сигналізує про завершення ітерації.\n",
        "    - StopAsyncIteration: Сигналізує про завершення асинхронної ітерації.\n",
        "    - ArithmeticError: Базовий клас для виключень, пов'язаних з арифметичними операціями.\n",
        "      - FloatingPointError: Виникає при помилках з плаваючою точкою.\n",
        "      - OverflowError: Виникає при переповненні числа.\n",
        "      - ZeroDivisionError: Виникає при діленні на нуль.\n",
        "    - AssertionError: Використовується, коли утвердження assert не виконується.\n",
        "    - AttributeError: Виникає, коли об'єкт не має атрибута або методу.\n",
        "    - BufferError: Виникає при помилках з буфером.\n",
        "    - EOFError: Виникає, коли відсутні дані при читанні з файлу або потоку.\n",
        "    - ImportError: Виникає, коли не вдається імпортувати модуль або атрибут.\n",
        "      - ModuleNotFoundError: Виникає, коли не вдається знайти модуль для імпорту.\n",
        "    - LookupError: Базовий клас для виключень, пов'язаних з пошуком.\n",
        "      - IndexError: Виникає при доступі до елемента за недійсним індексом у послідовності.\n",
        "      - KeyError: Виникає при доступі до невизначеного ключа у словнику.\n",
        "    - MemoryError: Виникає, коли недостатньо пам'яті для виконання операції.\n",
        "    - NameError: Виникає, коли невизначений ідентифікатор використовується.\n",
        "      - UnboundLocalError: Виникає, коли невизначена локальна змінна використовується.\n",
        "    - OSError: Базовий клас для виключень, пов'язаних з операціями вводу-виводу та операційною системою.\n",
        "      - BlockingIOError: Виникає, коли операція вводу-виводу блокується.\n",
        "      - ChildProcessError: Виникає, коли виникає помилка при роботі з дочірнім процесом.\n",
        "      - ConnectionError: Базовий клас для виключень, пов'язаних зі з'єднанням.\n",
        "        - BrokenPipeError: Виникає, коли спроба запису в об'єкт труби, який більше не читається процесом на іншому кінці, закривається.\n",
        "        - ConnectionAbortedError: Виникає, коли з'єднання переривається.\n",
        "        - ConnectionRefusedError: Виникає, коли спроба підключення до порту відмовляється.\n",
        "        - ConnectionResetError: Виникає, коли з'єднання переривається з іншого кінця.\n",
        "      - FileExistsError: Виникає, коли файл або директорія вже існує.\n",
        "      - FileNotFoundError: Виникає, коли файл або директорія не знайдені.\n",
        "      - InterruptedError: Виникає, коли операція переривається сигналом.\n",
        "      - IsADirectoryError: Виникає, коли спроба виконати файлову операцію для директорії.\n",
        "      - NotADirectoryError: Виникає, коли спроба виконати операцію з файлами для об'єкту, який не є директорією.\n",
        "      - PermissionError: Виникає, коли немає дозволу на доступ до ресурсу або файлу.\n",
        "      - ProcessLookupError: Виникає, коли невірний ідентифікатор процесу передається функції.\n",
        "      - TimeoutError: Виникає, коли операція не встигла завершитися за визначений час.\n",
        "    - ReferenceError: Виникає, коли намагаєтесь отримати доступ до посилання, яке не вказує на об'єкт.\n",
        "    - RuntimeError: Базовий клас для виключень, пов'язаних з помилками виконання.\n",
        "      - NotImplementedError: Виникає, коли метод або функція не є реалізованими.\n",
        "      - RecursionError: Виникає, коли рекурсивний виклик досягає обмежень стеку.\n",
        "    - SyntaxError: Виникає, коли знайдена синтаксична помилка в програмному коді.\n",
        "      - IndentationError: Базовий клас для винятків, пов'язаних з відступами в коді.\n",
        "        - TabError: Виникає, коли використовуються несумісні пробіли та табуляція.\n",
        "    - SystemError: Виняток, що виникає при виявленні внутрішньої помилки в інтерпретаторі Python.\n",
        "    - TypeError: Виникає, коли оператор або функція викликається з неправильним типом даних або неправильними аргументами.\n",
        "    - ValueError: Виникає, коли аргумент має правильний тип, але недійсне значення.\n",
        "      - UnicodeError: Базовий клас для винятків, пов'язаних з рядками Unicode.\n",
        "        - UnicodeDecodeError: Виникає, коли неможливо декодувати рядок з Unicode.\n",
        "        - UnicodeEncodeError: Виникає, коли неможливо закодувати рядок до Unicode.\n",
        "        - UnicodeTranslateError: Виникає, коли виникає помилка при перекладі рядка Unicode.\n",
        "    - Warning: Базовий клас для всіх вибранок (попереджень) у Python.\n",
        "      - DeprecationWarning: Попередження, що сигналізує про відмінність від рекомендованого використання.\n",
        "      - PendingDeprecationWarning: Попередження, що сигналізує про майбутню відмінність від рекомендованого використання.\n",
        "      - RuntimeWarning: Попередження, що сигналізує про сумнівну поведінку під час виконання.\n",
        "      - SyntaxWarning: Попередження, що сигналізує про сумнівну синтаксичну конструкцію.\n",
        "      - UserWarning: Попередження, яка видається користувачем.\n",
        "      - FutureWarning: Попередження, що сигналізує про можливі зміни у майбутніх версіях.\n",
        "      - ImportWarning: Попередження, що сигналізує про проблеми з імпортом модуля.\n",
        "      - UnicodeWarning: Попередження, що сигналізує про проблеми з рядками Unicode.\n",
        "      - BytesWarning: Попередження, що сигналізує про проблеми з байтовими рядками.\n",
        "      - ResourceWarning: Попередження, що сигналізує про проблеми з ресурсами, які можуть призвести до витоку пам'яті.\n",
        "\n"
      ],
      "metadata": {
        "id": "gLkHm_9AC_IU"
      }
    }
  ]
}