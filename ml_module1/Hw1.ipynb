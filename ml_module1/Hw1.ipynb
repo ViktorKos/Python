{
 "cells": [
  {
   "cell_type": "markdown",
   "metadata": {},
   "source": [
    "1. Створіть одновимірний масив (вектор) з першими 10-ма натуральними числами та виведіть його значення."
   ]
  },
  {
   "cell_type": "code",
   "execution_count": 3,
   "metadata": {},
   "outputs": [
    {
     "name": "stdout",
     "output_type": "stream",
     "text": [
      "[0 1 2 3 4 5 6 7 8 9]\n"
     ]
    }
   ],
   "source": [
    "import numpy as np\n",
    "\n",
    "a = np.array([0, 1, 2, 3, 4, 5, 6, 7, 8, 9], dtype=int)\n",
    "print(a)"
   ]
  },
  {
   "cell_type": "markdown",
   "metadata": {},
   "source": [
    "2. Створіть двовимірний масив (матрицю) розміром 3x3, заповніть його нулями та виведіть його значення."
   ]
  },
  {
   "cell_type": "code",
   "execution_count": 4,
   "metadata": {},
   "outputs": [
    {
     "name": "stdout",
     "output_type": "stream",
     "text": [
      "[[0 0 0]\n",
      " [0 0 0]\n",
      " [0 0 0]]\n"
     ]
    }
   ],
   "source": [
    "b = np.zeros((3, 3), dtype=int)\n",
    "print(b)"
   ]
  },
  {
   "cell_type": "markdown",
   "metadata": {},
   "source": [
    "3. Створіть масив розміром 5x5, заповніть його випадковими цілими числами в діапазоні від 1 до 10 та виведіть його значення."
   ]
  },
  {
   "cell_type": "code",
   "execution_count": 5,
   "metadata": {},
   "outputs": [
    {
     "name": "stdout",
     "output_type": "stream",
     "text": [
      "[[ 2  5  2  9  5]\n",
      " [ 1  3  8  4  9]\n",
      " [ 8  2  4  3  2]\n",
      " [ 9  5  6 10  3]\n",
      " [ 7  8  1  3  4]]\n"
     ]
    }
   ],
   "source": [
    "c = np.random.randint(1, 11, size=(5, 5))\n",
    "print(c)"
   ]
  },
  {
   "cell_type": "markdown",
   "metadata": {},
   "source": [
    "4. Створіть масив розміром 4x4, заповніть його випадковими дійсними числами в діапазоні від 0 до 1 та виведіть його значення."
   ]
  },
  {
   "cell_type": "code",
   "execution_count": 6,
   "metadata": {},
   "outputs": [
    {
     "name": "stdout",
     "output_type": "stream",
     "text": [
      "[[0.47878042 0.25882524 0.32236354 0.22590115]\n",
      " [0.29111553 0.20050466 0.25909882 0.89101705]\n",
      " [0.56195314 0.30282025 0.90752958 0.88100622]\n",
      " [0.15505718 0.9048559  0.27324855 0.61201902]]\n"
     ]
    }
   ],
   "source": [
    "d = np.random.random((4, 4))\n",
    "print(d)"
   ]
  },
  {
   "cell_type": "markdown",
   "metadata": {},
   "source": [
    "5. Створіть два одновимірних масиви розміром 5, заповніть їх випадковими цілими числами в діапазоні від 1 до 10 та виконайте на них поелементні операції додавання, віднімання та множення."
   ]
  },
  {
   "cell_type": "code",
   "execution_count": 7,
   "metadata": {},
   "outputs": [
    {
     "name": "stdout",
     "output_type": "stream",
     "text": [
      "[4 7 2 8 2] [6 4 9 4 4]\n",
      "[10 11 11 12  6]\n",
      "[-2  3 -7  4 -2]\n",
      "[24 28 18 32  8]\n",
      "[0.66666667 1.75       0.22222222 2.         0.5       ]\n"
     ]
    }
   ],
   "source": [
    "e = np.random.randint(1, 10, size=(5,))\n",
    "f = np.random.randint(1, 10, size=(5,))\n",
    "print(e, f)\n",
    "print(e + f)\n",
    "print(e - f)\n",
    "print(e * f)\n",
    "print(e / f)"
   ]
  },
  {
   "cell_type": "markdown",
   "metadata": {},
   "source": [
    "6. Створіть два вектори розміром 7, заповніть довільними числами та знайдіть їх скалярний добуток."
   ]
  },
  {
   "cell_type": "code",
   "execution_count": 8,
   "metadata": {},
   "outputs": [
    {
     "name": "stdout",
     "output_type": "stream",
     "text": [
      "[0.15455256 0.05993893 0.05281248 0.80314923 0.06065479 0.47522705\n",
      " 0.18210692]\n",
      "[0.80148189 0.68216686 0.76429694 0.3250211  0.1189544  0.95975613\n",
      " 0.61855143]\n",
      "1.0421240143163675\n"
     ]
    }
   ],
   "source": [
    "g = np.random.rand(7)\n",
    "h = np.random.rand(7)\n",
    "gh = np.dot(g, h)\n",
    "print(g, h, sep='\\n')\n",
    "print(gh)"
   ]
  },
  {
   "cell_type": "markdown",
   "metadata": {},
   "source": [
    "7. Створіть дві матриці розміром 2x2 та 2x3, заповніть їх випадковими цілими числами в діапазоні від 1 до 10 та перемножте їх між собою."
   ]
  },
  {
   "cell_type": "code",
   "execution_count": 9,
   "metadata": {},
   "outputs": [
    {
     "name": "stdout",
     "output_type": "stream",
     "text": [
      "[[1 7]\n",
      " [9 6]]\n",
      "[[9 8 9]\n",
      " [2 4 5]]\n",
      "[[ 23  36  44]\n",
      " [ 93  96 111]]\n"
     ]
    }
   ],
   "source": [
    "i = np.random.randint(1, 11, (2, 2), dtype=int)\n",
    "j = np.random.randint(1, 11, (2, 3), dtype=int)\n",
    "print(i)\n",
    "print(j)\n",
    "print(np.dot(i, j))\n"
   ]
  },
  {
   "cell_type": "markdown",
   "metadata": {},
   "source": [
    "8. Створіть матрицю розміром 3x3, заповніть її випадковими цілими числами в діапазоні від 1 до 10 та знайдіть її обернену матрицю."
   ]
  },
  {
   "cell_type": "code",
   "execution_count": 10,
   "metadata": {},
   "outputs": [
    {
     "name": "stdout",
     "output_type": "stream",
     "text": [
      "[[10  4  7]\n",
      " [ 4  1  6]\n",
      " [10  2 10]]\n",
      "[[-0.04347826 -0.56521739  0.36956522]\n",
      " [ 0.43478261  0.65217391 -0.69565217]\n",
      " [-0.04347826  0.43478261 -0.13043478]]\n"
     ]
    }
   ],
   "source": [
    "k = np.random.randint(1, 11, (3,3))\n",
    "k_inv =np.linalg.inv(k)\n",
    "print(k)\n",
    "print(k_inv)"
   ]
  },
  {
   "cell_type": "markdown",
   "metadata": {},
   "source": [
    "9. Створіть матрицю розміром 4x4, заповніть її випадковими дійсними числами в діапазоні від 0 до 1 та транспонуйте її."
   ]
  },
  {
   "cell_type": "code",
   "execution_count": 11,
   "metadata": {},
   "outputs": [
    {
     "name": "stdout",
     "output_type": "stream",
     "text": [
      "[[0.6581496  0.68065334 0.58445385 0.17812452]\n",
      " [0.20037567 0.26297751 0.7072037  0.66415913]\n",
      " [0.93519778 0.50538268 0.16575032 0.20254749]\n",
      " [0.50712839 0.47465859 0.12974236 0.73188113]]\n",
      "[[0.6581496  0.20037567 0.93519778 0.50712839]\n",
      " [0.68065334 0.26297751 0.50538268 0.47465859]\n",
      " [0.58445385 0.7072037  0.16575032 0.12974236]\n",
      " [0.17812452 0.66415913 0.20254749 0.73188113]]\n"
     ]
    }
   ],
   "source": [
    "l = np.random.random((4, 4))\n",
    "l_transp = l.T\n",
    "print(l)\n",
    "print(l_transp) "
   ]
  },
  {
   "cell_type": "markdown",
   "metadata": {},
   "source": [
    "10. Створіть матрицю розміром 3x4 та вектор розміром 4, заповніть їх випадковими цілими числами в діапазоні від 1 до 10 та перемножте матрицю на вектор."
   ]
  },
  {
   "cell_type": "code",
   "execution_count": 12,
   "metadata": {},
   "outputs": [
    {
     "name": "stdout",
     "output_type": "stream",
     "text": [
      "[[10  4  6  8]\n",
      " [ 8  8  1  4]\n",
      " [ 5  5  5  3]]\n",
      "[ 5  2  6 10]\n",
      "[174 102  95]\n"
     ]
    }
   ],
   "source": [
    "m = np.random.randint(1, 11, size=(3, 4))\n",
    "n =np.random.randint(1, 11, 4)\n",
    "\n",
    "print(m)\n",
    "print(n)\n",
    "print(np.dot(m,n))"
   ]
  },
  {
   "cell_type": "markdown",
   "metadata": {},
   "source": [
    "11. Створіть матрицю розміром 2x3 та вектор розміром 3, заповніть їх випадковими дійсними числами в діапазоні від 0 до 1 та перемножте матрицю на вектор."
   ]
  },
  {
   "cell_type": "code",
   "execution_count": 13,
   "metadata": {},
   "outputs": [
    {
     "name": "stdout",
     "output_type": "stream",
     "text": [
      "[[0.95497814 0.38744394 0.25194535]\n",
      " [0.19004211 0.58767905 0.93612425]]\n",
      "[0.82510376 0.43648787 0.16178115]\n",
      "[0.99783065 0.5647665 ]\n"
     ]
    }
   ],
   "source": [
    "o = np.random.random((2,3))\n",
    "p =np.random.random(3)\n",
    "\n",
    "print(o)\n",
    "print(p)\n",
    "print(np.dot(o,p))"
   ]
  },
  {
   "cell_type": "markdown",
   "metadata": {},
   "source": [
    "12. Створіть дві матриці розміром 2x2, заповніть їх випадковими цілими числами в діапазоні від 1 до 10 та виконайте їхнє поелементне множення."
   ]
  },
  {
   "cell_type": "code",
   "execution_count": 14,
   "metadata": {},
   "outputs": [
    {
     "name": "stdout",
     "output_type": "stream",
     "text": [
      "[[9 5]\n",
      " [7 4]]\n",
      "[[10  9]\n",
      " [ 5  3]]\n",
      "[[90 45]\n",
      " [35 12]]\n"
     ]
    }
   ],
   "source": [
    "q = np.random.randint(1, 11, (2, 2))\n",
    "r = np.random.randint(1, 11, (2, 2))\n",
    "qr = np.multiply(q, r)\n",
    "print(q, r, qr, sep='\\n')"
   ]
  },
  {
   "cell_type": "markdown",
   "metadata": {},
   "source": [
    "13. Створіть дві матриці розміром 2x2, заповніть їх випадковими цілими числами в діапазоні від 1 до 10 та знайдіть їх добуток."
   ]
  },
  {
   "cell_type": "code",
   "execution_count": 15,
   "metadata": {},
   "outputs": [
    {
     "name": "stdout",
     "output_type": "stream",
     "text": [
      "[[2 4]\n",
      " [5 1]]\n",
      "[[4 3]\n",
      " [3 5]]\n",
      "[[20 26]\n",
      " [23 20]]\n"
     ]
    }
   ],
   "source": [
    "s = np.random.randint(1, 11, (2, 2))\n",
    "t = np.random.randint(1, 11, (2, 2))\n",
    "st = np.dot(s, t)\n",
    "print(s, t, st, sep='\\n')"
   ]
  },
  {
   "cell_type": "markdown",
   "metadata": {},
   "source": [
    "14. Створіть матрицю розміром 5x5, заповніть її випадковими цілими числами в діапазоні від 1 до 100 та знайдіть суму елементів матриці."
   ]
  },
  {
   "cell_type": "code",
   "execution_count": 16,
   "metadata": {},
   "outputs": [
    {
     "name": "stdout",
     "output_type": "stream",
     "text": [
      "[[  2  39  76  62  90]\n",
      " [ 78  56  12  19   3]\n",
      " [ 99  30  26  22   8]\n",
      " [ 81  36  54  76   8]\n",
      " [ 30  56  53 100  85]]\n",
      "1201\n"
     ]
    }
   ],
   "source": [
    "u = np.random.randint(1, 101, (5, 5))\n",
    "print(u, u.sum(), sep='\\n')"
   ]
  },
  {
   "cell_type": "markdown",
   "metadata": {},
   "source": [
    "15. Створіть дві матриці розміром 4x4, заповніть їх випадковими цілими числами в діапазоні від 1 до 10 та знайдіть їхню різницю."
   ]
  },
  {
   "cell_type": "code",
   "execution_count": 17,
   "metadata": {},
   "outputs": [
    {
     "name": "stdout",
     "output_type": "stream",
     "text": [
      "[[ 8  9  5 10]\n",
      " [ 5  8  8  2]\n",
      " [ 5  2  7  9]\n",
      " [ 4  1  1  4]]\n",
      "[[9 3 9 4]\n",
      " [1 1 9 2]\n",
      " [8 8 2 9]\n",
      " [1 8 1 8]]\n",
      "[[-1  6 -4  6]\n",
      " [ 4  7 -1  0]\n",
      " [-3 -6  5  0]\n",
      " [ 3 -7  0 -4]]\n",
      "[[-1  6 -4  6]\n",
      " [ 4  7 -1  0]\n",
      " [-3 -6  5  0]\n",
      " [ 3 -7  0 -4]]\n"
     ]
    }
   ],
   "source": [
    "v1 = np.random.randint(1, 11, (4, 4))\n",
    "v2 = np.random.randint(1, 11, (4, 4))\n",
    "v1_sub_v2 = np.subtract(v1, v2)\n",
    "print(v1, v2, v1-v2, v1_sub_v2, sep='\\n')"
   ]
  },
  {
   "cell_type": "markdown",
   "metadata": {},
   "source": [
    "16. Створіть матрицю розміром 3x3, заповніть її випадковими дійсними числами в діапазоні від 0 до 1 та знайдіть вектор-стовпчик, що містить суму елементів кожного рядка матриці."
   ]
  },
  {
   "cell_type": "code",
   "execution_count": 18,
   "metadata": {},
   "outputs": [
    {
     "name": "stdout",
     "output_type": "stream",
     "text": [
      "[[0.17865449 0.81825034 0.09252149]\n",
      " [0.00242953 0.04903267 0.77289572]\n",
      " [0.4864989  0.99292611 0.86033641]]\n",
      "[1.08942632 0.82435792 2.33976142]\n",
      "[[1.08942632]\n",
      " [0.82435792]\n",
      " [2.33976142]]\n"
     ]
    }
   ],
   "source": [
    "x = np.random.random((3, 3))\n",
    "x_vector = np.array([el.sum() for el in x])\n",
    "print(x)\n",
    "print(x_vector)\n",
    "# або так:\n",
    "row_sums_vector = np.sum(x, axis=1, keepdims=True)\n",
    "print(row_sums_vector)"
   ]
  },
  {
   "cell_type": "markdown",
   "metadata": {},
   "source": [
    "17. Створіть матрицю розміром 3x4 з довільними цілими числами і створінь матрицю з квадратами цих чисел. "
   ]
  },
  {
   "cell_type": "code",
   "execution_count": 19,
   "metadata": {},
   "outputs": [
    {
     "name": "stdout",
     "output_type": "stream",
     "text": [
      "[[666 740 473   7]\n",
      " [180 927 422 634]\n",
      " [476 373 765 741]]\n",
      "[[443556 547600 223729     49]\n",
      " [ 32400 859329 178084 401956]\n",
      " [226576 139129 585225 549081]]\n"
     ]
    }
   ],
   "source": [
    "y = np.random.randint(1, 1001, (3, 4))\n",
    "y_sqr = np.square(y)\n",
    "print(y, y_sqr, sep='\\n')\n"
   ]
  },
  {
   "cell_type": "markdown",
   "metadata": {},
   "source": [
    "18. Створіть вектор розміром 4, заповніть його випадковими цілими числами в діапазоні від 1 до 50 та знайдіть вектор з квадратними коренями цих чисел."
   ]
  },
  {
   "cell_type": "code",
   "execution_count": 20,
   "metadata": {},
   "outputs": [
    {
     "name": "stdout",
     "output_type": "stream",
     "text": [
      "[27 48 28 29]\n",
      "[5.19615242 6.92820323 5.29150262 5.38516481]\n"
     ]
    }
   ],
   "source": [
    "z = np.random.randint(1, 51, size=4)\n",
    "z_sqrt = np.sqrt(z)\n",
    "print(z, z_sqrt, sep='\\n')"
   ]
  }
 ],
 "metadata": {
  "kernelspec": {
   "display_name": "Python 3",
   "language": "python",
   "name": "python3"
  },
  "language_info": {
   "codemirror_mode": {
    "name": "ipython",
    "version": 3
   },
   "file_extension": ".py",
   "mimetype": "text/x-python",
   "name": "python",
   "nbconvert_exporter": "python",
   "pygments_lexer": "ipython3",
   "version": "3.11.6"
  }
 },
 "nbformat": 4,
 "nbformat_minor": 2
}
