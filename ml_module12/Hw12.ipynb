{
  "cells": [
    {
      "cell_type": "markdown",
      "metadata": {
        "id": "GPSnge3YdAWY"
      },
      "source": [
        "\n",
        "**Модуль 12. NLP Basics**\n",
        "\n",
        "---\n",
        "Зробіть summary нижчевказаного тексту використовуючи бібліотеки для NLP: nltk та SpaCy\n"
      ]
    },
    {
      "cell_type": "markdown",
      "source": [
        "\n",
        "Для реалізації завдання з використанням бібліотеки NLTK потрібно виконати наступні кроки:\n",
        "\n",
        "1. Виконати токенізацію тексту для розділення його на окремі слова або токени.\n",
        "2. Визначити частини мови (POS - Part of Speech) кожного токену.\n",
        "3. Вилучити ключові слова або фрази за допомогою методів для аналізу тексту, таких як ідентифікація іменованих сутностей (NER - Named Entity Recognition) або вилучення ключових слів.\n",
        "4. Сформувати summary, вибираючи найважливіші речення або фрази на основі визначених ключових слів та синтаксичного аналізу тексту.\n",
        "5. Щодо SpaCy, можна використати його для аналізу синтаксичних зв'язків у тексті, визначення іменованих сутностей та вилучення ключових фраз. Потім можна скористатися отриманою інформацією для побудови summary тексту, вибираючи найважливіші аспекти на основі синтаксичного аналізу та інших параметрів.\n",
        "\n",
        "Ці процеси можуть бути автоматизовані за допомогою відповідних функцій та методів, які надаються NLTK та SpaCy."
      ],
      "metadata": {
        "id": "PQyF5eG3GQlB"
      }
    },
    {
      "cell_type": "code",
      "source": [
        "text = 'The Orbiter Discovery, OV-103, is considered eligible for listing in the National Register of Historic Places (NRHP) in the context of the U.S. Space Shuttle Program (1969-2011) under Criterion A in the areas of Space Exploration and Transportation and under Criterion C in the area of Engineering. Because it has achieved significance within the past fifty years, Criteria Consideration G applies. Under Criterion A, Discovery is significant as the oldest of the three extant orbiter vehicles constructed for the Space Shuttle Program (SSP), the longest running American space program to date; she was the third of five orbiters built by NASA. Unlike the Mercury, Gemini, and Apollo programs, the SSP’s emphasis was on cost effectiveness and reusability, and eventually the construction of a space station. Including her maiden voyage (launched August 30, 1984), Discovery flew to space thirty-nine times, more than any of the other four orbiters; she was also the first orbiter to fly twenty missions. She had the honor of being chosen as the Return to Flight vehicle after both the Challenger and Columbia accidents. Discovery was the first shuttle to fly with the redesigned SRBs, a result of the Challenger accident, and the first shuttle to fly with the Phase II and Block I SSME. Discovery also carried the Hubble Space Telescope to orbit and performed two of the five servicing missions to the observatory. She flew the first and last dedicated Department of Defense (DoD) missions, as well as the first unclassified defense-related mission. In addition, Discovery was vital to the construction of the International Space Station (ISS); she flew thirteen of the thirty-seven total missions flown to the station by a U.S. Space Shuttle. She was the first orbiter to dock to the ISS, and the first to perform an exchange of a resident crew. Under Criterion C, Discovery is significant as a feat of engineering. According to Wayne Hale, a flight director from Johnson Space Center, the Space Shuttle orbiter represents a “huge technological leap from expendable rockets and capsules to a reusable, winged, hypersonic, cargo-carrying spacecraft.” Although her base structure followed a conventional aircraft design, she used advanced materials that both minimized her weight for cargo-carrying purposes and featured low thermal expansion ratios, which provided a stable base for her Thermal Protection System (TPS) materials. The Space Shuttle orbiter also featured the first reusable TPS; all previous spaceflight vehicles had a single-use, ablative heat shield. Other notable engineering achievements of the orbiter included the first reusable orbital propulsion system, and the first two-fault-tolerant Integrated Avionics System. As Hale stated, the Space Shuttle remains “the largest, fastest, winged hypersonic aircraft in history,” having regularly flown at twenty-five times the speed of sound.'"
      ],
      "metadata": {
        "id": "Oeo-YJxBS7ib"
      },
      "execution_count": 67,
      "outputs": []
    },
    {
      "cell_type": "code",
      "source": [
        "import spacy\n",
        "import nltk\n",
        "from nltk.corpus import stopwords\n",
        "from nltk.tokenize import word_tokenize, sent_tokenize\n",
        "from nltk.probability import FreqDist\n",
        "import string\n",
        "from heapq import nlargest\n",
        "from collections import defaultdict"
      ],
      "metadata": {
        "id": "HXgTvTlWTQKP"
      },
      "execution_count": 68,
      "outputs": []
    },
    {
      "cell_type": "code",
      "source": [
        "class NLTKProcessor:\n",
        "    def __init__(self, text):\n",
        "        self.text = text\n",
        "        nltk.download('punkt')\n",
        "        nltk.download('stopwords')\n",
        "        self.stop_words = set(stopwords.words('english'))\n",
        "        self.punctuation = string.punctuation + '\\n'\n",
        "\n",
        "    def prepare_text(self):\n",
        "        words = word_tokenize(self.text)\n",
        "        words = [word.lower() for word in words if word.isalnum()]\n",
        "        words = [word for word in words if word not in self.stop_words]\n",
        "        return words\n",
        "\n",
        "    def generate_summary(self, num_sentences=3):\n",
        "        prepared_text = self.prepare_text()\n",
        "        freq_dist = FreqDist(prepared_text)\n",
        "        ranking = {}\n",
        "        for i, sentence in enumerate(sent_tokenize(self.text)):\n",
        "            for word in word_tokenize(sentence.lower()):\n",
        "                if word in freq_dist:\n",
        "                    if i not in ranking:\n",
        "                        ranking[i] = freq_dist[word]\n",
        "                    else:\n",
        "                        ranking[i] += freq_dist[word]\n",
        "\n",
        "        top_sentences = nlargest(num_sentences, ranking, key=ranking.get)\n",
        "        summary = [sent_tokenize(self.text)[i] for i in sorted(top_sentences)]\n",
        "        return ' '.join(summary)\n",
        "\n",
        "\n"
      ],
      "metadata": {
        "id": "jQ6oR_ENc13i"
      },
      "execution_count": 69,
      "outputs": []
    },
    {
      "cell_type": "code",
      "source": [
        "processor = TextProcessor(text)\n",
        "nltk_processor = NLTKProcessor(text)\n",
        "nltk_summary = nltk_processor.generate_summary()\n",
        "print(\"NLTK Summary:\")\n",
        "print(nltk_summary)\n",
        "print()"
      ],
      "metadata": {
        "colab": {
          "base_uri": "https://localhost:8080/"
        },
        "id": "ePQE1JvYdANz",
        "outputId": "0a4d17a6-6f5b-4416-9a53-a9e12cb7a2a6"
      },
      "execution_count": 70,
      "outputs": [
        {
          "output_type": "stream",
          "name": "stdout",
          "text": [
            "NLTK Summary:\n",
            "The Orbiter Discovery, OV-103, is considered eligible for listing in the National Register of Historic Places (NRHP) in the context of the U.S. Space Shuttle Program (1969-2011) under Criterion A in the areas of Space Exploration and Transportation and under Criterion C in the area of Engineering. Under Criterion A, Discovery is significant as the oldest of the three extant orbiter vehicles constructed for the Space Shuttle Program (SSP), the longest running American space program to date; she was the third of five orbiters built by NASA. According to Wayne Hale, a flight director from Johnson Space Center, the Space Shuttle orbiter represents a “huge technological leap from expendable rockets and capsules to a reusable, winged, hypersonic, cargo-carrying spacecraft.” Although her base structure followed a conventional aircraft design, she used advanced materials that both minimized her weight for cargo-carrying purposes and featured low thermal expansion ratios, which provided a stable base for her Thermal Protection System (TPS) materials.\n",
            "\n"
          ]
        },
        {
          "output_type": "stream",
          "name": "stderr",
          "text": [
            "[nltk_data] Downloading package punkt to /root/nltk_data...\n",
            "[nltk_data]   Package punkt is already up-to-date!\n",
            "[nltk_data] Downloading package stopwords to /root/nltk_data...\n",
            "[nltk_data]   Package stopwords is already up-to-date!\n",
            "[nltk_data] Downloading package punkt to /root/nltk_data...\n",
            "[nltk_data]   Package punkt is already up-to-date!\n",
            "[nltk_data] Downloading package stopwords to /root/nltk_data...\n",
            "[nltk_data]   Package stopwords is already up-to-date!\n"
          ]
        }
      ]
    },
    {
      "cell_type": "code",
      "source": [
        "class SpaCyProcessor:\n",
        "    def __init__(self, text):\n",
        "        self.text = text\n",
        "        self.nlp = spacy.load('en_core_web_sm')\n",
        "        nltk.download('punkt')\n",
        "        nltk.download('stopwords')\n",
        "        self.stop_words = set(stopwords.words('english'))\n",
        "        self.punctuation = string.punctuation + '\\n'\n",
        "\n",
        "    def prepare_text(self):\n",
        "        doc = self.nlp(self.text)\n",
        "        tokens = [token.text for token in doc]\n",
        "        tokens = [token.lower() for token in tokens if token.isalnum()]\n",
        "        tokens = [token for token in tokens if token not in self.stop_words]\n",
        "        return tokens\n",
        "\n",
        "    def generate_summary(self, prepared_text, num_sentences=3):\n",
        "        freq_dist = FreqDist(prepared_text)\n",
        "        ranking = {}\n",
        "        for i, sentence in enumerate(sent_tokenize(self.text)):\n",
        "            doc = self.nlp(sentence)\n",
        "            for token in doc:\n",
        "                if token.text.lower() in freq_dist:\n",
        "                    if i not in ranking:\n",
        "                        ranking[i] = freq_dist[token.text.lower()]\n",
        "                    else:\n",
        "                        ranking[i] += freq_dist[token.text.lower()]\n",
        "\n",
        "        top_sentences = nlargest(num_sentences, ranking, key=ranking.get)\n",
        "        summary = [sent_tokenize(self.text)[i] for i in sorted(top_sentences)]\n",
        "        return ' '.join(summary)\n"
      ],
      "metadata": {
        "id": "uZyJCpu-hAcv"
      },
      "execution_count": 71,
      "outputs": []
    },
    {
      "cell_type": "code",
      "source": [
        "spacy_processor = SpaCyProcessor(text)\n",
        "prepared_text = spacy_processor.prepare_text()\n",
        "print('tokens:')\n",
        "print(prepared_text)\n",
        "print()\n",
        "spacy_summary = spacy_processor.generate_summary(prepared_text)\n",
        "print(\"\\nSpaCy Summary:\")\n",
        "print(spacy_summary)\n"
      ],
      "metadata": {
        "colab": {
          "base_uri": "https://localhost:8080/"
        },
        "id": "045bhWm1hIcX",
        "outputId": "09017600-9fed-42e5-ff67-b3a6c116a357"
      },
      "execution_count": 72,
      "outputs": [
        {
          "output_type": "stream",
          "name": "stderr",
          "text": [
            "[nltk_data] Downloading package punkt to /root/nltk_data...\n",
            "[nltk_data]   Package punkt is already up-to-date!\n",
            "[nltk_data] Downloading package stopwords to /root/nltk_data...\n",
            "[nltk_data]   Package stopwords is already up-to-date!\n"
          ]
        },
        {
          "output_type": "stream",
          "name": "stdout",
          "text": [
            "tokens:\n",
            "['orbiter', 'discovery', 'considered', 'eligible', 'listing', 'national', 'register', 'historic', 'places', 'nrhp', 'context', 'space', 'shuttle', 'program', '1969', '2011', 'criterion', 'areas', 'space', 'exploration', 'transportation', 'criterion', 'c', 'area', 'engineering', 'achieved', 'significance', 'within', 'past', 'fifty', 'years', 'criteria', 'consideration', 'g', 'applies', 'criterion', 'discovery', 'significant', 'oldest', 'three', 'extant', 'orbiter', 'vehicles', 'constructed', 'space', 'shuttle', 'program', 'ssp', 'longest', 'running', 'american', 'space', 'program', 'date', 'third', 'five', 'orbiters', 'built', 'nasa', 'unlike', 'mercury', 'gemini', 'apollo', 'programs', 'ssp', 'emphasis', 'cost', 'effectiveness', 'reusability', 'eventually', 'construction', 'space', 'station', 'including', 'maiden', 'voyage', 'launched', 'august', '30', '1984', 'discovery', 'flew', 'space', 'thirty', 'nine', 'times', 'four', 'orbiters', 'also', 'first', 'orbiter', 'fly', 'twenty', 'missions', 'honor', 'chosen', 'return', 'flight', 'vehicle', 'challenger', 'columbia', 'accidents', 'discovery', 'first', 'shuttle', 'fly', 'redesigned', 'srbs', 'result', 'challenger', 'accident', 'first', 'shuttle', 'fly', 'phase', 'ii', 'block', 'ssme', 'discovery', 'also', 'carried', 'hubble', 'space', 'telescope', 'orbit', 'performed', 'two', 'five', 'servicing', 'missions', 'observatory', 'flew', 'first', 'last', 'dedicated', 'department', 'defense', 'dod', 'missions', 'well', 'first', 'unclassified', 'defense', 'related', 'mission', 'addition', 'discovery', 'vital', 'construction', 'international', 'space', 'station', 'iss', 'flew', 'thirteen', 'thirty', 'seven', 'total', 'missions', 'flown', 'station', 'space', 'shuttle', 'first', 'orbiter', 'dock', 'iss', 'first', 'perform', 'exchange', 'resident', 'crew', 'criterion', 'c', 'discovery', 'significant', 'feat', 'engineering', 'according', 'wayne', 'hale', 'flight', 'director', 'johnson', 'space', 'center', 'space', 'shuttle', 'orbiter', 'represents', 'huge', 'technological', 'leap', 'expendable', 'rockets', 'capsules', 'reusable', 'winged', 'hypersonic', 'cargo', 'carrying', 'spacecraft', 'although', 'base', 'structure', 'followed', 'conventional', 'aircraft', 'design', 'used', 'advanced', 'materials', 'minimized', 'weight', 'cargo', 'carrying', 'purposes', 'featured', 'low', 'thermal', 'expansion', 'ratios', 'provided', 'stable', 'base', 'thermal', 'protection', 'system', 'tps', 'materials', 'space', 'shuttle', 'orbiter', 'also', 'featured', 'first', 'reusable', 'tps', 'previous', 'spaceflight', 'vehicles', 'single', 'use', 'ablative', 'heat', 'shield', 'notable', 'engineering', 'achievements', 'orbiter', 'included', 'first', 'reusable', 'orbital', 'propulsion', 'system', 'first', 'two', 'fault', 'tolerant', 'integrated', 'avionics', 'system', 'hale', 'stated', 'space', 'shuttle', 'remains', 'largest', 'fastest', 'winged', 'hypersonic', 'aircraft', 'history', 'regularly', 'flown', 'twenty', 'five', 'times', 'speed', 'sound']\n",
            "\n",
            "\n",
            "SpaCy Summary:\n",
            "The Orbiter Discovery, OV-103, is considered eligible for listing in the National Register of Historic Places (NRHP) in the context of the U.S. Space Shuttle Program (1969-2011) under Criterion A in the areas of Space Exploration and Transportation and under Criterion C in the area of Engineering. Under Criterion A, Discovery is significant as the oldest of the three extant orbiter vehicles constructed for the Space Shuttle Program (SSP), the longest running American space program to date; she was the third of five orbiters built by NASA. According to Wayne Hale, a flight director from Johnson Space Center, the Space Shuttle orbiter represents a “huge technological leap from expendable rockets and capsules to a reusable, winged, hypersonic, cargo-carrying spacecraft.” Although her base structure followed a conventional aircraft design, she used advanced materials that both minimized her weight for cargo-carrying purposes and featured low thermal expansion ratios, which provided a stable base for her Thermal Protection System (TPS) materials.\n"
          ]
        }
      ]
    }
  ],
  "metadata": {
    "colab": {
      "provenance": []
    },
    "kernelspec": {
      "display_name": "Python 3",
      "name": "python3"
    },
    "language_info": {
      "name": "python"
    }
  },
  "nbformat": 4,
  "nbformat_minor": 0
}