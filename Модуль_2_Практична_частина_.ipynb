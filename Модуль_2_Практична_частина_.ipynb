{
  "nbformat": 4,
  "nbformat_minor": 0,
  "metadata": {
    "colab": {
      "provenance": [],
      "include_colab_link": true
    },
    "kernelspec": {
      "name": "python3",
      "display_name": "Python 3"
    },
    "language_info": {
      "name": "python"
    }
  },
  "cells": [
    {
      "cell_type": "markdown",
      "metadata": {
        "id": "view-in-github",
        "colab_type": "text"
      },
      "source": [
        "<a href=\"https://colab.research.google.com/github/ViktorKos/Python/blob/main/%D0%9C%D0%BE%D0%B4%D1%83%D0%BB%D1%8C_2_%D0%9F%D1%80%D0%B0%D0%BA%D1%82%D0%B8%D1%87%D0%BD%D0%B0_%D1%87%D0%B0%D1%81%D1%82%D0%B8%D0%BD%D0%B0_.ipynb\" target=\"_parent\"><img src=\"https://colab.research.google.com/assets/colab-badge.svg\" alt=\"Open In Colab\"/></a>"
      ]
    },
    {
      "cell_type": "markdown",
      "metadata": {
        "id": "OeHSz3_b5ehN"
      },
      "source": [
        "# Задачі для практичного закріплення знань першого дня\n",
        "\n",
        "\n",
        "Завдання практичного блоку: закріпити отримані знання на теоретичній частині, при цьому студенти на рівні з викладачем вирішують завдання демонструючи екран і пояснюючи чому вибраний певний підхід для їх рішення.\n"
      ]
    },
    {
      "cell_type": "markdown",
      "metadata": {
        "id": "FEiST8Eb6C7Q"
      },
      "source": [
        "## Задача 1.\n",
        "Задача 15 з 2 модуля автоперевірки\n",
        "\n"
      ]
    },
    {
      "cell_type": "code",
      "source": [
        "result = None\n",
        "operand = None\n",
        "operator = None\n",
        "wait_for_number = True\n",
        "\n",
        "while True:\n",
        "    user_input = input(\"Wait for input: \")\n",
        "\n",
        "    if wait_for_number and result is None:\n",
        "        try:\n",
        "            result = float(user_input)\n",
        "            wait_for_number = False\n",
        "        except ValueError:\n",
        "            print(f\"'{user_input}' is not a number. Try again.\")\n",
        "\n",
        "    elif user_input == '=':\n",
        "        print(result)\n",
        "        break\n",
        "\n",
        "    elif not wait_for_number:\n",
        "        if user_input == '+' or user_input == '-' or user_input == '*' or user_input == '/':\n",
        "            operator = user_input\n",
        "            wait_for_number = True\n",
        "        else:\n",
        "            print(f\"{user_input} is not '+' or '-' or '/' or '*'.Try again\")\n",
        "\n",
        "    elif wait_for_number:\n",
        "        try:\n",
        "            operand = float(user_input)\n",
        "            result = eval(f\"{result} {operator} {operand}\")\n",
        "            operand = None\n",
        "            operator = None\n",
        "            wait_for_number = False\n",
        "        except ZeroDivisionError:\n",
        "            operand = None\n",
        "            continue\n",
        "        except ValueError:\n",
        "            print(f\"'{user_input}' is not a number. Try again.\")"
      ],
      "metadata": {
        "id": "HKtz-hYxRWA_"
      },
      "execution_count": null,
      "outputs": []
    },
    {
      "cell_type": "markdown",
      "metadata": {
        "id": "DLMQ6iF361Hw"
      },
      "source": [
        "## Задача 2.\n",
        "Перевірити чи всі значення першої строки знаходяться в другій строці\n",
        "\n",
        "Input: s = \"abc\", t = \"ahbgdc\"\n",
        "Output: true\n",
        "\n",
        "Input: s = \"axc\", t = \"ahbgdc\"\n",
        "Output: false"
      ]
    },
    {
      "cell_type": "code",
      "source": [
        "string_one = input(\"Enter string: \")\n",
        "string_two = input(\"Enter string to compare: \")\n",
        "\n",
        "for char in string_one:\n",
        "    if char not in string_two:\n",
        "        print(False)\n",
        "        break\n",
        "else: print(True)"
      ],
      "metadata": {
        "id": "Gd_myQDH5XUb"
      },
      "execution_count": null,
      "outputs": []
    },
    {
      "cell_type": "markdown",
      "metadata": {
        "id": "dCUJCGdg8gpI"
      },
      "source": [
        "## Задача 3.\n",
        "У математиці послідовність Фібоначчі - це послідовність, у якій кожне число є сумою двох попередніх.\n",
        "За визначенням, перші два числа в послідовності Фібоначчі є або 1 і 1, або 0 і 1, залежно від обраного початку,\n",
        "а кожне наступне число є сумою двох попередніх."
      ]
    },
    {
      "cell_type": "code",
      "source": [
        "a, b = 0, 1\n",
        "for _ in range(10):\n",
        "    print(a)\n",
        "    a, b = b, a + b"
      ],
      "metadata": {
        "id": "s82FRmVK5kHy"
      },
      "execution_count": null,
      "outputs": []
    },
    {
      "cell_type": "markdown",
      "metadata": {
        "id": "r1wjuRIg-K5M"
      },
      "source": [
        "## Задача 4.\n",
        "Перевірка чи число є простим (Додатков знайти всі числа в діапазоні який веде користувач)"
      ]
    },
    {
      "cell_type": "code",
      "source": [
        "while True:\n",
        "    is_prime = True\n",
        "    try:\n",
        "        user_input = int(input(\"Enter number: \"))\n",
        "\n",
        "        if user_input < 0:\n",
        "            break\n",
        "\n",
        "        for i in range(2, int(user_input**0.5) + 1):\n",
        "            if user_input % i == 0:\n",
        "                is_prime = False\n",
        "        else:\n",
        "            print(is_prime)\n",
        "    except ValueError:\n",
        "        print(\"Not natural number\")"
      ],
      "metadata": {
        "id": "bgW_X6X-5ngS"
      },
      "execution_count": null,
      "outputs": []
    },
    {
      "cell_type": "code",
      "source": [
        "try:\n",
        "    user_input = int(input(\"Enter number: \"))\n",
        "    for number in range(user_input):\n",
        "\n",
        "            if user_input < 0:\n",
        "                break\n",
        "            for i in range(2, int(number**0.5) + 1):\n",
        "                if number % i == 0:\n",
        "                    break\n",
        "            else:\n",
        "                print(number)\n",
        "except ValueError:\n",
        "    print(\"Not natural number\")"
      ],
      "metadata": {
        "id": "qjgPE09w5rJp"
      },
      "execution_count": null,
      "outputs": []
    },
    {
      "cell_type": "markdown",
      "metadata": {
        "id": "a2Xl0a1k_dv9"
      },
      "source": [
        "## Задача 5.\n",
        "Скласти програму перевірки, чи є задане тризначне число паліндромом."
      ]
    },
    {
      "cell_type": "code",
      "source": [
        "number = int(input(\"Enter three-digit number: \"))\n",
        "\n",
        "hundred = number // 100\n",
        "units = number % 10\n",
        "\n",
        "if hundred == units:\n",
        "    print(\"Is palindrome\")\n",
        "else:\n",
        "    print(\"Not palindrome\")"
      ],
      "metadata": {
        "id": "jX-xJ9Uy56Xb"
      },
      "execution_count": null,
      "outputs": []
    },
    {
      "cell_type": "markdown",
      "metadata": {
        "id": "FfAP5EsC2XQq"
      },
      "source": [
        "## Задача 6\n",
        "Дано координати 2-х точок. Розрахувати чи є відстань між ними меншою за 5."
      ]
    },
    {
      "cell_type": "code",
      "source": [
        "from math import sqrt, pow\n",
        "\n",
        "x1_coord = float(input(\"Enter the x coordinate of the first point \"))\n",
        "y1_coord = float(input(\"Enter the y coordinate of the first point\"))\n",
        "x2_coord = float(input(\"Enter the x coordinate of the second point\"))\n",
        "y2_coord = float(input(\"Enter the y coordinate of the second point\"))\n",
        "\n",
        "distance = round(sqrt(pow(x2_coord - x1_coord, 2) + pow(y2_coord - y1_coord, 2)), 2)\n",
        "\n",
        "if distance < 5:\n",
        "    print(\"Distance is less than five\")\n",
        "print(f\"Distance is equal to {distance}\")"
      ],
      "metadata": {
        "id": "8s4LGCxZ5-MK"
      },
      "execution_count": null,
      "outputs": []
    },
    {
      "cell_type": "markdown",
      "metadata": {
        "id": "P21e7PWG3HcT"
      },
      "source": [
        "## Задача 7\n",
        "Скласти програму, яка вводить цілі k, l. Якщо вони не рівні, то менше з них замінює більшим,\n",
        "інакше обидва замінює на 0."
      ]
    },
    {
      "cell_type": "code",
      "source": [
        "k = int(input(\"Enter k: \"))\n",
        "l = int(input(\"Enter l: \"))\n",
        "\n",
        "if k != l:\n",
        "    if k < l:\n",
        "        k = l\n",
        "    else:\n",
        "        l = k\n",
        "else:\n",
        "    k, l = 0, 0\n",
        "\n",
        "print(f\"k equal to {k} , l equal to {l}\")"
      ],
      "metadata": {
        "colab": {
          "base_uri": "https://localhost:8080/"
        },
        "id": "dxYgWQfy6DOi",
        "outputId": "dffd81a3-9881-45a3-9ec1-6fd43b4ba1fd"
      },
      "execution_count": null,
      "outputs": [
        {
          "output_type": "stream",
          "name": "stdout",
          "text": [
            "Enter k: 5\n",
            "Enter l: 7\n",
            "k equal to 7 , l equal to 7\n"
          ]
        }
      ]
    },
    {
      "cell_type": "markdown",
      "metadata": {
        "id": "jdWpeUW22NR9"
      },
      "source": [
        "## Задача 8\n",
        "Скласти програму, яка запитує дату (число, місяць, рік) і перевіряє коректність введених даних\n"
      ]
    },
    {
      "cell_type": "code",
      "source": [
        "day = int(input(\"Enter day: \"))\n",
        "month = int(input(\"Enter month: \"))\n",
        "year = int(input(\"Enter year: \"))\n",
        "\n",
        "is_leap_year = False\n",
        "\n",
        "if day and month and year:\n",
        "    if month <= 0 or month > 12:\n",
        "        print(\"Month should be from 1 to 12\")\n",
        "    if month == 1 or month == 3 or month == 5 or month == 7 or month == 8 or month == 10 or month == 12:\n",
        "        if day <= 0 or day > 31:\n",
        "            print(\"Day should be from 1 to 31\")\n",
        "    else:\n",
        "        if day <= 0 or day > 30:\n",
        "            print(\"Day should be from 1 to 30\")\n",
        "\n",
        "    if month == 2:\n",
        "        if year % 400 == 0:\n",
        "            is_leap_year = True\n",
        "        elif year % 100 == 0:\n",
        "            is_leap_year = False\n",
        "        elif year % 4 == 0:\n",
        "            is_leap_year = True\n",
        "        else:\n",
        "            is_leap_year = False\n",
        "\n",
        "        if is_leap_year:\n",
        "            if day <= 0 or day > 29:\n",
        "                print(\"Day should be from 1 to 29\")\n",
        "        else:\n",
        "            if day <= 0 or day > 28:\n",
        "                print(\"Day should be from 1 to 28\")\n",
        "else:\n",
        "    print(\"Not all parameters is included\")"
      ],
      "metadata": {
        "id": "RJ8IpPR06eeB"
      },
      "execution_count": null,
      "outputs": []
    },
    {
      "cell_type": "markdown",
      "metadata": {
        "id": "J9nXZUq26Nmq"
      },
      "source": [
        "## Задача 9\n",
        "Усі трикутники можуть бути віднесені до того чи іншого класу (рівнобедрені, рівнобічні та різнобічні)\n",
        "на підставі довжин їхніх сторін. Рівносторонній трикутник характеризується однаковою довжиною всіх\n",
        "трьох сторін, рівнобедрений - двох сторін з трьох, а у різностороннього трикутника всі сторони різної\n",
        "довжини. Напишіть програму, яка запитуватиме у користувача довжини всіх трьох сторін трикутника і\n",
        "видаватиме повідомлення про те, до якого типу слід його відносити."
      ]
    },
    {
      "cell_type": "code",
      "source": [
        "from math import sqrt, pow\n",
        "triangle_type = None\n",
        "\n",
        "side1 = float(input(\"Enter first side of triangle: \"))\n",
        "side2 = float(input(\"Enter second side of triangle: \"))\n",
        "side3 = float(input(\"Enter third side of triangle: \"))\n",
        "\n",
        "if (side1 + side2) > side3 and (side1 + side3) > side2 and (side3 + side2) > side1:\n",
        "\n",
        "    if side1 == side2 and side3 == side2 and side3 == side1:\n",
        "        triangle_type = \"equilateral\"\n",
        "    elif side1 == side2 or side3 == side2 or side1 == side3:\n",
        "        triangle_type = \"isosceles\"\n",
        "    elif sqrt(pow(side1, 2) + pow(side2,2)) == side3 or\\\n",
        "        sqrt(pow(side1, 2) + pow(side3, 2)) == side2 or\\\n",
        "        sqrt(pow(side3, 2) + pow(side2, 2)) == side1:\n",
        "        triangle_type = \"right-angled\"\n",
        "    else:\n",
        "        triangle_type = \"differential\"\n",
        "\n",
        "    print(triangle_type)\n",
        "else:\n",
        "    print(\"Not triangle\")"
      ],
      "metadata": {
        "id": "qKjluhOk6gvD"
      },
      "execution_count": null,
      "outputs": []
    },
    {
      "cell_type": "markdown",
      "metadata": {
        "id": "R9fVnru4-iLH"
      },
      "source": [
        "## Задача 10\n",
        "У банк поклали 100 доларів під 5 % річних.\n",
        "Скласти програму обчислення кількості грошей на рахунку через 10 років. (складні щомісячні відсотки)"
      ]
    },
    {
      "cell_type": "code",
      "source": [
        "PERCENT = 0.05\n",
        "\n",
        "deposit = 100\n",
        "waiting_year = 10\n",
        "\n",
        "print(round(deposit * (1 + PERCENT / 12) ** (12 * 10), 2))\n",
        "\n",
        "\n",
        "for year in range(1, waiting_year + 1):\n",
        "    new_deposit = deposit * (1 + PERCENT / 12) ** 12\n",
        "    deposit = new_deposit\n",
        "\n",
        "print(round(deposit,2))\n"
      ],
      "metadata": {
        "id": "hVloiwcz6jyK"
      },
      "execution_count": null,
      "outputs": []
    },
    {
      "cell_type": "markdown",
      "metadata": {
        "id": "5WoFOUes_X2R"
      },
      "source": [
        "## Задача 11\n",
        "Користувач вводить строку, перевірити чи дана строка є паліндромом"
      ]
    },
    {
      "cell_type": "code",
      "source": [
        "line = input(\"Enter string: \")\n",
        "line = line.lower()\n",
        "\n",
        "if line == line[::-1]:\n",
        "    print(\"Is palindrome\")\n",
        "else:\n",
        "    print(\"Not palindrome\")"
      ],
      "metadata": {
        "id": "quVceeN_6nmD"
      },
      "execution_count": null,
      "outputs": []
    }
  ]
}