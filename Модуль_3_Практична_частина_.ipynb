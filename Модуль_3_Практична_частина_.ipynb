{
  "nbformat": 4,
  "nbformat_minor": 0,
  "metadata": {
    "colab": {
      "provenance": [],
      "include_colab_link": true
    },
    "kernelspec": {
      "name": "python3",
      "display_name": "Python 3"
    },
    "language_info": {
      "name": "python"
    }
  },
  "cells": [
    {
      "cell_type": "markdown",
      "metadata": {
        "id": "view-in-github",
        "colab_type": "text"
      },
      "source": [
        "<a href=\"https://colab.research.google.com/github/ViktorKos/Python/blob/main/%D0%9C%D0%BE%D0%B4%D1%83%D0%BB%D1%8C_3_%D0%9F%D1%80%D0%B0%D0%BA%D1%82%D0%B8%D1%87%D0%BD%D0%B0_%D1%87%D0%B0%D1%81%D1%82%D0%B8%D0%BD%D0%B0_.ipynb\" target=\"_parent\"><img src=\"https://colab.research.google.com/assets/colab-badge.svg\" alt=\"Open In Colab\"/></a>"
      ]
    },
    {
      "cell_type": "markdown",
      "metadata": {
        "id": "OeHSz3_b5ehN"
      },
      "source": [
        "# Задачі для практичного закріплення знань першого дня\n",
        "\n",
        "\n",
        "Завдання практичного блоку: закріпити отримані знання на теоретичній частині, при цьому студенти на рівні з викладачем вирішують завдання демонструючи екран і пояснюючи чому вибраний певний підхід для їх рішення.\n"
      ]
    },
    {
      "cell_type": "markdown",
      "metadata": {
        "id": "FEiST8Eb6C7Q"
      },
      "source": [
        "## Задача 1.\n",
        "Функція приймає рядок, а повертає словник, де ключ це символ рядка, а значення код ASCII\n",
        "\n"
      ]
    },
    {
      "cell_type": "code",
      "source": [
        "def codes_of_srting(string: str) -> dict:\n",
        "    codes = dict()\n",
        "    for char in string:\n",
        "        if char not in codes:\n",
        "            codes[char] = ord(char)\n",
        "    return codes\n",
        "\n",
        "print(codes_of_srting(\"Hello world\"))"
      ],
      "metadata": {
        "id": "NZ24B2HIR7kM"
      },
      "execution_count": null,
      "outputs": []
    },
    {
      "cell_type": "markdown",
      "metadata": {
        "id": "DLMQ6iF361Hw"
      },
      "source": [
        "## Задача 2.\n",
        "Визначаємо, чи є число простим"
      ]
    },
    {
      "cell_type": "code",
      "source": [
        "def is_prime(number):\n",
        "    if number < 1:\n",
        "        return False\n",
        "    for i in range(2, number):\n",
        "        if number % i == 0:\n",
        "            return False\n",
        "    return True\n",
        "\n",
        "\n",
        "def main():\n",
        "    user_input = int(input(\"Enter natural value: \"))\n",
        "    if is_prime(user_input):\n",
        "        print(f\"{user_input} -- is prime number\")\n",
        "    else:\n",
        "        print(f\"{user_input} -- is not prime number\")\n",
        "\n",
        "\n",
        "if __name__ == '__main__':\n",
        "    main()"
      ],
      "metadata": {
        "id": "GYVsC6WJUHLC"
      },
      "execution_count": null,
      "outputs": []
    },
    {
      "cell_type": "markdown",
      "metadata": {
        "id": "dCUJCGdg8gpI"
      },
      "source": [
        "## Задача 3.\n",
        " Напишемо функцію, яка залежно від переданого параметра повертатиме суму або добуток введених чисел"
      ]
    },
    {
      "cell_type": "code",
      "source": [
        "def collector_of_number(operator = \"+\"):\n",
        "    result = None\n",
        "\n",
        "    if operator == \"+\":\n",
        "        result = 0\n",
        "\n",
        "    if operator == \"*\":\n",
        "        result = 1\n",
        "\n",
        "    if result is None:\n",
        "        return \"Operator is not used in current function\"\n",
        "\n",
        "    while True:\n",
        "        user_input = input(\"Enter value: \")\n",
        "        if user_input == \"=\":\n",
        "            break\n",
        "        if operator == \"+\":\n",
        "            result += float(user_input)\n",
        "        if operator == \"*\":\n",
        "            result *= float(user_input)\n",
        "\n",
        "    return result\n",
        "\n",
        "res = collector_of_number()\n",
        "print(\"1\", res)\n",
        "\n",
        "res = collector_of_number(\"*\")\n",
        "print(\"2\", res)\n",
        "\n",
        "res = collector_of_number(\"-\")\n",
        "print(\"3\", res)"
      ],
      "metadata": {
        "id": "-oepDgxiXJsC"
      },
      "execution_count": null,
      "outputs": []
    },
    {
      "cell_type": "markdown",
      "metadata": {
        "id": "r1wjuRIg-K5M"
      },
      "source": [
        "## Задача 4.\n",
        "Реалізуємо функцію розрахунку нової ціни на товар з урахуванням деякої знижки. Значення змінної `discount` лежить у діапазоні від 0 до 1"
      ]
    },
    {
      "cell_type": "code",
      "source": [
        "def actual_price(item, discount: float = 0):\n",
        "    return item * (1 - discount)\n",
        "\n",
        "\n",
        "price_bread = 10\n",
        "price_butter = 70\n",
        "price_sugar = 40\n",
        "\n",
        "print(f\"Previous price on bread {price_bread}, new price {actual_price(price_bread)}\")\n",
        "print(f\"Previous price on butter {price_butter}, new price {actual_price(price_butter, 0.1)}\")\n",
        "print(f\"Previous price on sugar {price_sugar}, new price {actual_price(price_sugar, 0.05)}\")"
      ],
      "metadata": {
        "id": "3IPvCiJ8bw-c"
      },
      "execution_count": null,
      "outputs": []
    },
    {
      "cell_type": "markdown",
      "metadata": {
        "id": "a2Xl0a1k_dv9"
      },
      "source": [
        "## Задача 5.\n",
        "Python широко використовується в наукових обчисленнях. І в третьому блоці навчання \"Аналіз даних\" ми наприклад познайомимося з бібліотекою SciPy та її методами.\n",
        "\n",
        "А зараз ми напишемо функцію пошуку максимального значення функції $y=a \\cdot x^3 + b \\cdot x - c$ за зміни $x$ від $x_{start}$ до $x_{end}$ з кроком $h$. Вихідні дані: $a=2.14$; $c=3.25$; $b=-4.21$; $h=0.5$; ."
      ]
    },
    {
      "cell_type": "code",
      "source": [
        "def max_value_of_function(x_start, x_end, step=0.5):\n",
        "    a = 2.14\n",
        "    b = -4.21\n",
        "    c = 3.25\n",
        "\n",
        "    max_value = float('-inf')\n",
        "\n",
        "    x = x_start\n",
        "    while x <= x_end:\n",
        "        y = a * pow(x, 3) + b*x - c\n",
        "        if y > max_value:\n",
        "            max_value = y\n",
        "        x += step\n",
        "\n",
        "    return max_value\n",
        "\n",
        "\n",
        "print(max_value_of_function(0, 10))"
      ],
      "metadata": {
        "colab": {
          "base_uri": "https://localhost:8080/"
        },
        "id": "3XBL78yqd56y",
        "outputId": "d1da79a3-7c6b-42b6-a8dd-8469f1afbaa0"
      },
      "execution_count": null,
      "outputs": [
        {
          "output_type": "stream",
          "name": "stdout",
          "text": [
            "2094.65\n"
          ]
        }
      ]
    },
    {
      "cell_type": "markdown",
      "metadata": {
        "id": "FfAP5EsC2XQq"
      },
      "source": [
        "## Задача 6\n",
        "Так само треба пам'ятати, що обчислення проводяться з деякою точністю. Наприклад знаходження коренів, обчислення сум тощо.\n",
        "\n",
        "Наприклад необхідно обчислити нескінченну суму $\\displaystyle\\sum_{i=1}^{\\infty} \\cfrac{(-1)^i}{(i+1)!}$ з точністю $\\epsilon = 0.0001$. Кажуть, що треба знайти розв'язок з точністю чотири знаки після коми. Будемо вважати, що необхідної точності досягнуто, якщо черговий доданок виявився за модулем меншим, ніж $\\epsilon$ або різниця значень між ітераціями стає меншою ніж $\\epsilon$"
      ]
    },
    {
      "cell_type": "code",
      "source": [
        "def factorial(n):\n",
        "    return 1 if n < 2 else n * factorial(n - 1)\n",
        "\n",
        "def sum_inf(epsilon = 0.0001):\n",
        "    i = 1\n",
        "    sum = pow(-1, i) / factorial(i + 1)\n",
        "    while True:\n",
        "        i += 1\n",
        "        result = pow(-1, i) / factorial(i + 1)\n",
        "        if abs(result) < epsilon: # (-1) -> 1, (1) -> 1\n",
        "            break\n",
        "        sum += result\n",
        "    return sum\n",
        "\n",
        "print(sum_inf())"
      ],
      "metadata": {
        "id": "gjzNnBpXgOG8"
      },
      "execution_count": null,
      "outputs": []
    },
    {
      "cell_type": "markdown",
      "metadata": {
        "id": "P21e7PWG3HcT"
      },
      "source": [
        "## Задача 7\n",
        "Припустимо, що підприємство друкує рекламні листівки за ринковою ціною `p` (тобто можливості встановити ціну немає). Надійшло велике замовлення, яке потрібно виконати: потрібно виготовити `n`-у кількість листівок. Товар виробляється в кількостях кратних 100, тобто замовити можна від 100, 200, 300 і т.д.  Для виробництва 100 листівок витрати будуть такого характеру:\n",
        "\n",
        "- майстер із друку (якому за 100 листівок платять 75 грн),\n",
        "- 100 аркушів спецпаперу (коштує 120 грн)\n",
        "- витрата чорнила на 100 аркушів паперу (20грн).\n",
        "\n",
        "Порахуйте, скільки компанія заробить залежно від ціни та кількості замовлених рекламних листівок\n",
        "\n",
        "> Пам'ятайте, що прибуток рахується як виручка мінус витрати, де витрати це гроші, витрачені на роботу (людей) і матеріали"
      ]
    },
    {
      "cell_type": "code",
      "source": [
        "MASTER_WORK = 75\n",
        "HUNDRED_PAPER_PRICE = 120\n",
        "INC_PRICE = 20\n",
        "\n",
        "def profit(p, n):\n",
        "    if n % 100 != 0:\n",
        "        return \"Error, not divide by 100\"\n",
        "\n",
        "    number_hundreds = n // 100\n",
        "    return n * p - number_hundreds * (MASTER_WORK + HUNDRED_PAPER_PRICE + INC_PRICE)\n",
        "\n",
        "print(profit(2.5, 1000))\n",
        "print(profit(5, 145))"
      ],
      "metadata": {
        "id": "_xylfUnoid4e"
      },
      "execution_count": null,
      "outputs": []
    },
    {
      "cell_type": "markdown",
      "metadata": {
        "id": "jdWpeUW22NR9"
      },
      "source": [
        "## Задача 8\n",
        "Компанії платять податки. При чому розмір податку, найчастіше залежить від прибутку (податок на прибуток).\n",
        "Припустимо гіпотетично, що якщо прибуток компанії склав до 100000 (сто тисяч), компанія повинна заплатити 5% від нього, якщо прибуток до 1000000 (мільйон), податок становить 8%, якщо виторг більший за 10000000 (десять мільйонів), компанія платить 15% податок. Використовуйте функцію з четвертого завдання, щоб порахувати, який буде прибуток компанії після сплати податків"
      ]
    },
    {
      "cell_type": "code",
      "source": [
        "MASTER_WORK = 75\n",
        "HUNDRED_PAPER_PRICE = 120\n",
        "INC_PRICE = 20\n",
        "\n",
        "TAX_MIN = 0.05\n",
        "TAX_MID = 0.08\n",
        "TAX_MAX = 0.15\n",
        "\n",
        "\n",
        "def profit(p, n):\n",
        "    if n % 100 != 0:\n",
        "        return \"Error, not divide by 100\"\n",
        "\n",
        "    number_hundreds = n // 100\n",
        "    return n * p - number_hundreds * (MASTER_WORK + HUNDRED_PAPER_PRICE + INC_PRICE)\n",
        "\n",
        "\n",
        "def profit_after_tax(p, n):\n",
        "    profit_before_tax = profit(p, n)\n",
        "    if profit_before_tax < 100_000:\n",
        "        return profit_before_tax * (1 - TAX_MIN)\n",
        "    elif profit_before_tax < 1_000_000:\n",
        "        return profit_before_tax * (1 - TAX_MID)\n",
        "    else:\n",
        "        return profit_before_tax * (1 - TAX_MAX)\n",
        "\n",
        "\n",
        "print(f\"Before tax {profit(2.5, 500000)}\")\n",
        "print(f\"After tax {profit_after_tax(2.5, 500000)}\")"
      ],
      "metadata": {
        "id": "43eUjbQ7kc9M"
      },
      "execution_count": null,
      "outputs": []
    },
    {
      "cell_type": "markdown",
      "metadata": {
        "id": "J9nXZUq26Nmq"
      },
      "source": [
        "## Задача 9\n",
        "Тепер давайте потренуємося переводити час у секунди. Напишіть функцію, у яку можна передати будь-який період часу (будь-яку кількість секунд, хвилин, годин, днів і тижнів). Встановіть значення за замовчуванням рівними 0, щоб ми могли передавати тільки потрібні нам величини. А тепер переведіть усі ці значення в секунди"
      ]
    },
    {
      "cell_type": "code",
      "source": [
        "def to_seconds(seconds=0, minutes=0, hours=0, days=0, weeks=0):\n",
        "    seconds_in_minute = 60\n",
        "    seconds_in_hour = 60 * seconds_in_minute\n",
        "    seconds_in_day = 24 * seconds_in_hour\n",
        "    seconds_in_week = 7 * seconds_in_day\n",
        "\n",
        "    return seconds +\\\n",
        "        minutes * seconds_in_minute +\\\n",
        "        hours * seconds_in_hour +\\\n",
        "        days * seconds_in_day +\\\n",
        "        weeks * seconds_in_week\n",
        "\n",
        "print(to_seconds(minutes=7, hours=2, weeks=3))"
      ],
      "metadata": {
        "id": "fnI00G22mPHA"
      },
      "execution_count": null,
      "outputs": []
    },
    {
      "cell_type": "markdown",
      "metadata": {
        "id": "R9fVnru4-iLH"
      },
      "source": [
        "## Задача 10\n",
        "Програма загадує ціле число від 0 до n, де n - переданий у функцію параметр. Користувач намагається відгадати загадане число. Якщо користувач назвав занадто велике число, функція повинна відповісти 'Smaller'. Якщо він назвав занадто маленьке число, функція повинна 'Larger'. Якщо користувач вгадав число, функція повинна відповісти 'You won!' і говорить за скільки спроб він вгадав"
      ]
    },
    {
      "cell_type": "code",
      "source": [
        "def predict_number(number):\n",
        "    count = 0\n",
        "    goal = randint(0, number)\n",
        "\n",
        "    while True:\n",
        "        user_input = int(input(f\"Enter natural number from 0 to {number}: \"))\n",
        "        count += 1\n",
        "\n",
        "        if user_input > goal:\n",
        "            print(\"Smaller\")\n",
        "        elif user_input < goal:\n",
        "            print(\"Larger\")\n",
        "        else:\n",
        "            print(f\"You win!, Number of attempts {count}\")\n",
        "            break\n",
        "\n",
        "predict_number(10)"
      ],
      "metadata": {
        "id": "xFEeha1zyLlI"
      },
      "execution_count": null,
      "outputs": []
    }
  ]
}