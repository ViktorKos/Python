{
  "nbformat": 4,
  "nbformat_minor": 0,
  "metadata": {
    "colab": {
      "provenance": [],
      "toc_visible": true,
      "include_colab_link": true
    },
    "kernelspec": {
      "name": "python3",
      "display_name": "Python 3"
    },
    "language_info": {
      "name": "python"
    }
  },
  "cells": [
    {
      "cell_type": "markdown",
      "metadata": {
        "id": "view-in-github",
        "colab_type": "text"
      },
      "source": [
        "<a href=\"https://colab.research.google.com/github/ViktorKos/Python/blob/main/%D0%9C%D0%BE%D0%B4%D1%83%D0%BB%D1%8C_3_%D0%A2%D0%B5%D0%BE%D1%80%D0%B5%D1%82%D0%B8%D1%87%D0%BD%D0%B0_%D1%87%D0%B0%D1%81%D1%82%D0%B8%D0%BD%D0%B0.ipynb\" target=\"_parent\"><img src=\"https://colab.research.google.com/assets/colab-badge.svg\" alt=\"Open In Colab\"/></a>"
      ]
    },
    {
      "cell_type": "markdown",
      "metadata": {
        "id": "OeHSz3_b5ehN"
      },
      "source": [
        "# Задачі для теоретичного заняття третього дня\n",
        "\n",
        "Задачі теоретичного блоку: продемонструвати на практичному прикладі теорію пов'язану з функціями, множиними параметрами, рекурсією, входом в програму, імпортом бібліотек\n",
        "\n",
        "Для самостійного опрацювання і спроб запускати всі існуючі задачі не заважаючи іншим студентам курсу потрібно здійснити наступні кроки:\n",
        "\n",
        "1. Натиснути кнопку \"Файл\" в лівому верхньому куті\n",
        "2. Вибрати пункт \"Зберегти копію на диску\"\n",
        "3. У вікні з вашою копією у правому верхньому куті натиснути \"Підключитись\"\n",
        "\n",
        "Можете запускати всі задачі, які забажаєте і писати власні програми вивчаючи функціонал цього середовища\n"
      ]
    },
    {
      "cell_type": "markdown",
      "metadata": {
        "id": "nj7xUMn2xUFm"
      },
      "source": [
        "## Оголошення і виклик функції\n"
      ]
    },
    {
      "cell_type": "code",
      "source": [
        "# Оголошення виклику функції без вхідних параметрів з поверненням результату\n",
        "\n",
        "def foo():\n",
        "    a = 4\n",
        "    b = 8\n",
        "    return a + b\n",
        "\n",
        "result = foo()\n",
        "\n",
        "print(result)"
      ],
      "metadata": {
        "id": "eg08iSgSXMHc"
      },
      "execution_count": null,
      "outputs": []
    },
    {
      "cell_type": "code",
      "source": [
        "# Вигляд по всім вимогам з використанням вхідних параметрів\n",
        "\n",
        "def add(a: int, b: int) -> int:\n",
        "    \"\"\"\n",
        "    Function of adding two numbers\n",
        "\n",
        "    Input:\n",
        "    a = integer\n",
        "    b = integer\n",
        "\n",
        "    Output:\n",
        "    :return -> integer\n",
        "    \"\"\"\n",
        "    return a + b\n",
        "\n",
        "result: int = add(2, 4)\n",
        "print(result)"
      ],
      "metadata": {
        "colab": {
          "base_uri": "https://localhost:8080/"
        },
        "id": "gQSGGzncWxxs",
        "outputId": "84d315f1-51ba-40aa-dbf6-18a84e1add31"
      },
      "execution_count": null,
      "outputs": [
        {
          "output_type": "stream",
          "name": "stdout",
          "text": [
            "6\n"
          ]
        }
      ]
    },
    {
      "cell_type": "markdown",
      "source": [
        "Оголошення функції де с - змінна є необовязковою"
      ],
      "metadata": {
        "id": "u18WliE-cepu"
      }
    },
    {
      "cell_type": "code",
      "source": [
        "def multiply(a, b, c=None):\n",
        "    if c is None:\n",
        "        return a * b\n",
        "    else:\n",
        "        return a * b * c\n",
        "\n",
        "print(multiply(2, 4, 3))"
      ],
      "metadata": {
        "id": "fUE0FGUkcgif"
      },
      "execution_count": null,
      "outputs": []
    },
    {
      "cell_type": "markdown",
      "source": [
        "Оголошення функції де с - змінна є обовязковою"
      ],
      "metadata": {
        "id": "fqwFpikXnOhK"
      }
    },
    {
      "cell_type": "code",
      "source": [
        "def multiply(a, b, c):\n",
        "    if c is None:\n",
        "        return a * b\n",
        "    else:\n",
        "        return a * b * c\n",
        "\n",
        "print(multiply(2, 4))"
      ],
      "metadata": {
        "id": "Vj2gBlFdctNt"
      },
      "execution_count": null,
      "outputs": []
    },
    {
      "cell_type": "code",
      "source": [
        "# Стандартний виклик функції з передачею конкретної кількості параметрів\n",
        "def add(a, b):\n",
        "  return a+b\n",
        "\n",
        "print(add(2, 3))\n",
        "\n",
        "#print(add(2, 3, 4)) -> TypeError: add() takes 2 positional arguments but 3 were given\n",
        "\n",
        "# Виклик функції з передачею множини параметрів\n",
        "def print_result(*args):\n",
        "    for value in args:\n",
        "        print(value)\n",
        "\n",
        "print_result(2,3,4,5,'',7,8, \"23sd525\")"
      ],
      "metadata": {
        "id": "yArWDgFxXGl1"
      },
      "execution_count": null,
      "outputs": []
    },
    {
      "cell_type": "markdown",
      "source": [
        "Розрахунок суми всіх чисел, що подаються через *args"
      ],
      "metadata": {
        "id": "urNBsKYkcMl_"
      }
    },
    {
      "cell_type": "code",
      "source": [
        "def sum(*nums):\n",
        "    print(nums)\n",
        "    print(type(nums))\n",
        "    result = 0\n",
        "    for value in nums:\n",
        "        try:\n",
        "            result += float(value)\n",
        "        except ValueError:\n",
        "            continue\n",
        "    return result\n",
        "\n",
        "print(sum(1,2,3,4,\"\",6,\"JADAS\"))"
      ],
      "metadata": {
        "id": "6k6LCIyCcHfo"
      },
      "execution_count": null,
      "outputs": []
    },
    {
      "cell_type": "markdown",
      "source": [
        "Виористання множини іменних параметрів"
      ],
      "metadata": {
        "id": "NQT3vJJPneSq"
      }
    },
    {
      "cell_type": "code",
      "source": [
        "def gretting(**kwargs):\n",
        "    print(kwargs)\n",
        "    # Параметри дістаються через функцію довідника .get -> не створює нові значення у довіднику\n",
        "    name = kwargs.get(\"name\", \"Unknown\")\n",
        "    age = kwargs.get(\"age\", None)\n",
        "    print(kwargs)\n",
        "    return f\"Hello {name}, you are have {age} years old\"\n",
        "\n",
        "print(gretting())\n",
        "\n",
        "print(gretting(name=\"Oleh\", age=100))"
      ],
      "metadata": {
        "colab": {
          "base_uri": "https://localhost:8080/"
        },
        "id": "S4AEZaBScw1N",
        "outputId": "d6a81a8a-f566-4514-e43c-0347c31e98fd"
      },
      "execution_count": null,
      "outputs": [
        {
          "output_type": "stream",
          "name": "stdout",
          "text": [
            "{}\n",
            "{}\n",
            "Hello Unknown, you are have None years old\n",
            "{'name': 'Oleh', 'age': 100}\n",
            "{'name': 'Oleh', 'age': 100}\n",
            "Hello Oleh, you are have 100 years old\n"
          ]
        }
      ]
    },
    {
      "cell_type": "code",
      "source": [
        "def gretting(**kwargs):\n",
        "    print(kwargs)\n",
        "    # Параметри дістаються через функцію довідника .setdefault -> створює нові значення у довіднику\n",
        "    name = kwargs.setdefault(\"name\", \"Unknown\")\n",
        "    age = kwargs.setdefault(\"age\", None)\n",
        "    print(kwargs)\n",
        "    return f\"Hello {name}, you are have {age} years old\"\n",
        "\n",
        "print(gretting())\n",
        "\n",
        "print(gretting(name=\"Oleh\", age=100))"
      ],
      "metadata": {
        "colab": {
          "base_uri": "https://localhost:8080/"
        },
        "id": "n8tsN6-1c_CN",
        "outputId": "bc8c3a6b-b110-4b95-a423-98e32b1de128"
      },
      "execution_count": null,
      "outputs": [
        {
          "output_type": "stream",
          "name": "stdout",
          "text": [
            "{}\n",
            "{'name': 'Unknown'}\n",
            "Hello Unknown, you are have None years old\n",
            "{'name': 'Oleh', 'age': 100}\n",
            "{'name': 'Oleh', 'age': 100}\n",
            "Hello Oleh, you are have 100 years old\n"
          ]
        }
      ]
    },
    {
      "cell_type": "markdown",
      "source": [
        "Оголошення функції з використанням всіх видів передачі вхідних параметрів"
      ],
      "metadata": {
        "id": "JwLiYgMMoAId"
      }
    },
    {
      "cell_type": "code",
      "source": [
        "\n",
        "def result(a, *args, **kwargs):\n",
        "    print(a)\n",
        "    print(args)\n",
        "    print(kwargs)\n",
        "    print(kwargs['may']/9)\n",
        "\n",
        "\n",
        "result(78, 346, 'sgsdg', \"sdgsdg\", 35346, hello=\"Python\", may=45)\n"
      ],
      "metadata": {
        "id": "o8zM3ohQccy-"
      },
      "execution_count": null,
      "outputs": []
    },
    {
      "cell_type": "markdown",
      "source": [
        "## Види зміних"
      ],
      "metadata": {
        "id": "vy7BpxMMQX87"
      }
    },
    {
      "cell_type": "markdown",
      "source": [
        "Local зміна a i b"
      ],
      "metadata": {
        "id": "Twoq1phbeAcE"
      }
    },
    {
      "cell_type": "code",
      "source": [
        "def foo():\n",
        "    a = 4\n",
        "    b = 8\n",
        "    return a + b\n",
        "\n",
        "result = foo()\n",
        "\n",
        "print(result)"
      ],
      "metadata": {
        "id": "kGWqdDqdd_pD"
      },
      "execution_count": null,
      "outputs": []
    },
    {
      "cell_type": "markdown",
      "source": [
        "Global зміна x"
      ],
      "metadata": {
        "id": "9aF7CmW0mw7q"
      }
    },
    {
      "cell_type": "code",
      "source": [
        "x = 10\n",
        "\n",
        "def foo():\n",
        "    global x\n",
        "    x = 5\n",
        "    print(x)\n",
        "\n",
        "\n",
        "foo()\n",
        "print(x)"
      ],
      "metadata": {
        "id": "LPnN87_Wdly0"
      },
      "execution_count": null,
      "outputs": []
    },
    {
      "cell_type": "markdown",
      "source": [
        "Nonlocal зміна password"
      ],
      "metadata": {
        "id": "p3kSONuMmzzx"
      }
    },
    {
      "cell_type": "code",
      "source": [
        "password = 1234\n",
        "\n",
        "def security(password):\n",
        "    print(password)\n",
        "\n",
        "    def divide():\n",
        "        #print(password) -> Error\n",
        "        nonlocal password\n",
        "        print(password)\n",
        "        return password / 2\n",
        "\n",
        "    return divide()\n",
        "\n",
        "print(password)\n",
        "print(security(3456))"
      ],
      "metadata": {
        "colab": {
          "base_uri": "https://localhost:8080/"
        },
        "id": "8DoMkm_ldmXG",
        "outputId": "8f43a61d-6bcc-4fd8-a8a8-e6347c64f450"
      },
      "execution_count": null,
      "outputs": [
        {
          "output_type": "stream",
          "name": "stdout",
          "text": [
            "1234\n",
            "3456\n",
            "3456\n",
            "1728.0\n"
          ]
        }
      ]
    },
    {
      "cell_type": "markdown",
      "source": [
        "##Рекурсія"
      ],
      "metadata": {
        "id": "_yn27bu-eDFU"
      }
    },
    {
      "cell_type": "code",
      "source": [
        "def fibonachi(n):\n",
        "    return n if n == 1 or n == 0 else fibonachi(n-2)+fibonachi(n-1)\n",
        "print(fibonachi(8))"
      ],
      "metadata": {
        "id": "U5pZ_oaHdz20"
      },
      "execution_count": null,
      "outputs": []
    },
    {
      "cell_type": "code",
      "source": [
        "def factorial(n):\n",
        "    print(n)\n",
        "    if n == 0 or n == 1:\n",
        "        return n\n",
        "    else:\n",
        "        return n * factorial(n-1)\n",
        "\n",
        "print(factorial(5))"
      ],
      "metadata": {
        "id": "hX93whCJeFjj"
      },
      "execution_count": null,
      "outputs": []
    },
    {
      "cell_type": "code",
      "source": [
        "def power(base, exponent):\n",
        "    if exponent == 0:\n",
        "        return 1\n",
        "    else:\n",
        "        return base * power(base, exponent-1)\n",
        "\n",
        "print(power(2, 8))\n",
        "print(pow(2, 3))"
      ],
      "metadata": {
        "id": "SMP4JLazeHjD"
      },
      "execution_count": null,
      "outputs": []
    },
    {
      "cell_type": "markdown",
      "source": [
        "Як працюють слайс даних у Python\n",
        "[1:5:2] -->  \n",
        "[1::] - з якого елементу починається формування вибірки \\\n",
        "[:5:] - до якого елементу формується вибірка\\\n",
        "[::2] - крок формування вибірки, в даному випадку. береться кожен 2 елемент"
      ],
      "metadata": {
        "id": "qRYws4p4l0YM"
      }
    },
    {
      "cell_type": "code",
      "source": [
        "def result(*args):\n",
        "    print(args)\n",
        "    print(args[1:3])\n",
        "\n",
        "result(78, 346, 'sgsdg', \"sdgsdg\", 35346)"
      ],
      "metadata": {
        "id": "vfjKkc0geKBl"
      },
      "execution_count": null,
      "outputs": []
    },
    {
      "cell_type": "code",
      "source": [
        "def is_palindrome(word):\n",
        "    print(word)\n",
        "    if len(word) <= 1:\n",
        "        return True\n",
        "    elif word[0] != word[-1]:\n",
        "        return False\n",
        "    else:\n",
        "        return is_palindrome(word[1:-1])\n",
        "\n",
        "print(is_palindrome(\"qwertyrewq\"))"
      ],
      "metadata": {
        "id": "ivy9-F-PeM27"
      },
      "execution_count": null,
      "outputs": []
    },
    {
      "cell_type": "markdown",
      "source": [
        "##Приклади імпорту даних у різні способи"
      ],
      "metadata": {
        "id": "qJuHAM6geQoj"
      }
    },
    {
      "cell_type": "code",
      "source": [
        "import math\n",
        "\n",
        "print(math.pi)\n",
        "\n",
        "\n",
        "from math import *\n",
        "\n",
        "print(pi)\n",
        "\n",
        "\n",
        "from math import pi as PI_NUMBER\n",
        "\n",
        "print(PI_NUMBER)"
      ],
      "metadata": {
        "colab": {
          "base_uri": "https://localhost:8080/"
        },
        "id": "qARSLEUzePNq",
        "outputId": "8f7346be-1663-4f53-929d-df3d39b14353"
      },
      "execution_count": null,
      "outputs": [
        {
          "output_type": "stream",
          "name": "stdout",
          "text": [
            "3.141592653589793\n",
            "3.141592653589793\n",
            "3.141592653589793\n"
          ]
        }
      ]
    },
    {
      "cell_type": "markdown",
      "source": [
        "Не рекомендується використовувати import *, так як декілька бібліотек можуть мати однакові назви функцій, що при виклику призведе до небажаних помилок"
      ],
      "metadata": {
        "id": "FOp4JOKykM-e"
      }
    },
    {
      "cell_type": "code",
      "source": [
        "# test.py\n",
        "\n",
        "def add(a, b):\n",
        "    print(a + b)\n",
        "\n",
        "\n",
        "if __name__ == \"__main__\":\n",
        "    add(55, 76)"
      ],
      "metadata": {
        "id": "ZSsIDA6Lix0O"
      },
      "execution_count": null,
      "outputs": []
    },
    {
      "cell_type": "code",
      "source": [
        "# def_test.py\n",
        "\n",
        "def add(a, b):\n",
        "    print(str(a) + str(b))\n",
        "\n",
        "\n",
        "if __name__ == \"__main__\":\n",
        "    add(55, 76)"
      ],
      "metadata": {
        "id": "EIIeS0Ynix89"
      },
      "execution_count": null,
      "outputs": []
    },
    {
      "cell_type": "code",
      "source": [
        "# main.py\n",
        "\n",
        "from test import *\n",
        "from def_test import *\n",
        "\n",
        "add(2, 56)\n"
      ],
      "metadata": {
        "id": "HsFq-WwpfGJi"
      },
      "execution_count": null,
      "outputs": []
    },
    {
      "cell_type": "markdown",
      "source": [
        "Записати у довідник кількість кожного елемента, який передається у строці"
      ],
      "metadata": {
        "id": "7RoICbCjj4NW"
      }
    },
    {
      "cell_type": "code",
      "source": [
        "operation_dict = dict()\n",
        "\n",
        "user_input = input(\"Enter sentence: \")\n",
        "\n",
        "for char in user_input:\n",
        "    if char not in operation_dict.keys():\n",
        "        operation_dict[char] = 1\n",
        "    else:\n",
        "        operation_dict[char] += 1\n",
        "\n",
        "print(operation_dict)\n",
        "print(operation_dict.keys())\n",
        "print(operation_dict.values())"
      ],
      "metadata": {
        "id": "nA2kLl6zj4iZ"
      },
      "execution_count": null,
      "outputs": []
    }
  ]
}