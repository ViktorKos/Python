{
  "nbformat": 4,
  "nbformat_minor": 0,
  "metadata": {
    "colab": {
      "provenance": [],
      "include_colab_link": true
    },
    "kernelspec": {
      "name": "python3",
      "display_name": "Python 3"
    },
    "language_info": {
      "name": "python"
    }
  },
  "cells": [
    {
      "cell_type": "markdown",
      "metadata": {
        "id": "view-in-github",
        "colab_type": "text"
      },
      "source": [
        "<a href=\"https://colab.research.google.com/github/ViktorKos/Python/blob/main/%D0%9C%D0%BE%D0%B4%D1%83%D0%BB%D1%8C_4_%D0%9F%D1%80%D0%B0%D0%BA%D1%82%D0%B8%D1%87%D0%BD%D0%B0_%D1%87%D0%B0%D1%81%D1%82%D0%B8%D0%BD%D0%B0_.ipynb\" target=\"_parent\"><img src=\"https://colab.research.google.com/assets/colab-badge.svg\" alt=\"Open In Colab\"/></a>"
      ]
    },
    {
      "cell_type": "markdown",
      "metadata": {
        "id": "OeHSz3_b5ehN"
      },
      "source": [
        "# Задачі для практичного закріплення знань першого дня\n",
        "\n",
        "\n",
        "Завдання практичного блоку: закріпити отримані знання на теоретичній частині, при цьому студенти на рівні з викладачем вирішують завдання демонструючи екран і пояснюючи чому вибраний певний підхід для їх рішення.\n"
      ]
    },
    {
      "cell_type": "markdown",
      "source": [
        "# Списки"
      ],
      "metadata": {
        "id": "0EFDQS3eGmHh"
      }
    },
    {
      "cell_type": "markdown",
      "source": [
        " ## Лінія найкращої відповідності\n",
        "\n",
        "Лінією найкращої відповідності називається пряма, що проходить на\n",
        "найменшій відстані від набору з `n` точок. У цій вправі ми\n",
        "припустимо, що кожна точка в колекції має координати `x`\n",
        "і `y`. Символи $\\bar{x}$ і $\\bar{y}$ ми використовуватимемо для підрахунку середніх значень по осях `x` і `y` відповідно. Лінія найкращої відповідності представлена формулою $y = mx + b$, де $m$ і $b$ обчислюються за такими\n",
        "формулами:\n",
        "$m = \\dfrac{\\sum xy -  \\dfrac{(\\sum x)(\\sum y)}{n}}{\\sum x^2 - \\dfrac{(\\sum x)^2}{n}}$\n",
        "\n",
        "$ b = \\bar{y} - m \\cdot \\bar{x}$\n",
        "\n",
        "Напишемо програму, яка запитуватиме в користувача координати колекції точок. При цьому користувач має вводити спочатку координату `x`, а потім `y`. Введення координат може тривати до тих пір\n",
        "доти, доки користувач не залишить порожнім введення координати `x`. Відобразіть формулу, що характеризує лінію найкращої відповідності, виду\n",
        "$y = mx + b$ шляхом заміни змінних `m` і `b` на значення, обчислені\n",
        "за попередніми формулами. Наприклад, якщо користувач введе три\n",
        "точки `(1, 1)`, `(2, 2.1)` і `(3, 2.9)`, підсумкова формула має набути вигляду:\n",
        "$y = 0,95x + 0,1$."
      ],
      "metadata": {
        "id": "4APzy0c9Gov0"
      }
    },
    {
      "cell_type": "code",
      "source": [
        "def best_fit_line(data):\n",
        "    list_x  = list()\n",
        "    list_y  = list()\n",
        "\n",
        "    for coord in data:\n",
        "        list_x.append(coord[0])\n",
        "        list_y.append(coord[1])\n",
        "\n",
        "    m1 = 0.0\n",
        "\n",
        "    for i in range(len(data)):\n",
        "        m1 += list_x[i] * list_y[i]\n",
        "\n",
        "    m2 = (sum(list_x) * sum(list_y)) / len(data)\n",
        "\n",
        "    m3 = 0.0\n",
        "\n",
        "    for i in range(len(data)):\n",
        "        m3 += pow(list_x[i], 2)\n",
        "\n",
        "    m4 = pow(sum(list_x), 2) / len(data)\n",
        "\n",
        "    m = round((m1 - m2) / (m3 - m4), 2)\n",
        "\n",
        "    b = round((sum(list_y)/ len(list_y)) - m * (sum(list_x)/ len(list_x)), 2)\n",
        "\n",
        "    return m, b\n",
        "\n",
        "data = list()\n",
        "x = input(\"Enter x coord: \")\n",
        "while x != '':\n",
        "    y = input(\"Enter Y coord: \")\n",
        "    data.extend([[float(x), float(y)]])\n",
        "    x = input(\"Enter x coord: \")\n",
        "\n",
        "m, b = best_fit_line(data)\n",
        "print(f\"y = {m}x + {b} \")"
      ],
      "metadata": {
        "id": "EA90EABFH-d1"
      },
      "execution_count": null,
      "outputs": []
    },
    {
      "cell_type": "markdown",
      "source": [
        "# Гра в карти\n",
        "Масті:\n",
        "\n",
        "s (Spades) Піки\\\n",
        "h (Hearts) Черви\\\n",
        "d (Diamonds) Бубни\\\n",
        "c (Clovers) Хрести"
      ],
      "metadata": {
        "id": "WptksU7kHaNC"
      }
    },
    {
      "cell_type": "markdown",
      "source": [
        "Створимо колоду карт"
      ],
      "metadata": {
        "id": "QiDTV0XuHxO6"
      }
    },
    {
      "cell_type": "code",
      "source": [
        "def create_deck():\n",
        "    suits = ['s', 'h', 'd', 'c']\n",
        "    values = ['2', '3', '4', '5', '6', '7', '8', '9', '10', 'J', 'Q', 'K', 'A']\n",
        "    deck = list()\n",
        "    for suit in suits:\n",
        "        for value in values:\n",
        "            deck.append(f'{value}{suit}')\n",
        "    return deck"
      ],
      "metadata": {
        "id": "kf3FUKOqH--R"
      },
      "execution_count": null,
      "outputs": []
    },
    {
      "cell_type": "markdown",
      "source": [
        "Перетасуємо карти"
      ],
      "metadata": {
        "id": "mbvWyYbQHzcs"
      }
    },
    {
      "cell_type": "code",
      "source": [
        "from random import randrange\n",
        "\n",
        "def shuffle_deck(deck):\n",
        "    new_deck = deck.copy()\n",
        "    for i in range(0, len(deck)):\n",
        "        other_index = randrange(0, len(new_deck))\n",
        "        new_deck[i], new_deck[other_index] = new_deck[other_index], new_deck[i]\n",
        "    return new_deck"
      ],
      "metadata": {
        "id": "8JPUN1b9H_Ze"
      },
      "execution_count": null,
      "outputs": []
    },
    {
      "cell_type": "markdown",
      "source": [
        "Виконаємо роздачу карт"
      ],
      "metadata": {
        "id": "oMNTIQ9wH2Ud"
      }
    },
    {
      "cell_type": "code",
      "source": [
        "def deal(players, cards, deck):\n",
        "    if players * cards > len(deck):\n",
        "        return deck\n",
        "\n",
        "    table = list()\n",
        "\n",
        "    for _ in range(0, cards):\n",
        "        for player in range(0, players):\n",
        "            if player >= len(table):\n",
        "                table.append([deck.pop()])\n",
        "            else:\n",
        "                table[player].append(deck.pop())\n",
        "    return table"
      ],
      "metadata": {
        "id": "0-G0tJg5H_05"
      },
      "execution_count": null,
      "outputs": []
    },
    {
      "cell_type": "markdown",
      "source": [
        "Імітуємо гру"
      ],
      "metadata": {
        "id": "nqQ3K5pZH5-m"
      }
    },
    {
      "cell_type": "code",
      "source": [
        "def main(players, cards):\n",
        "\n",
        "    init_deck = create_deck()\n",
        "    print(f\"Open new deck: {init_deck}\")\n",
        "\n",
        "    deck = shuffle_deck(init_deck)\n",
        "\n",
        "    print(f\"Shuffle deck: {deck}\")\n",
        "    print(f\"Invite {players} players to table\")\n",
        "    print(f\"Give cards to players ({cards} to one player)\")\n",
        "\n",
        "    table = deal(players, cards, deck)\n",
        "\n",
        "    for i in range(players):\n",
        "        print(f\"Players №{i+1} has cards: {table[i]}\")\n",
        "\n",
        "    print(f\"Deck in the final {deck}\")\n",
        "\n",
        "\n",
        "if __name__ == '__main__':\n",
        "    main(4, 6)"
      ],
      "metadata": {
        "id": "41_IzHIoHwan"
      },
      "execution_count": null,
      "outputs": []
    },
    {
      "cell_type": "markdown",
      "source": [
        "# Словники"
      ],
      "metadata": {
        "id": "mxXuJXkRIAvY"
      }
    },
    {
      "cell_type": "markdown",
      "source": [
        "Переводимо слова азбуку морзе"
      ],
      "metadata": {
        "id": "IyGiDBkgIGCQ"
      }
    },
    {
      "cell_type": "code",
      "source": [
        "morze_dict = {'A': '.-', 'B': '-...', 'C': '-.-.', 'D': '-..', 'E': '.', 'F': '..-.', 'G': '--.', 'H': '....',\n",
        "              'I': '..', 'J': '.---', 'K': '-.-', 'L': '.-..', 'M': '--', 'N': '-.', 'O': '---', 'P': '.--.',\n",
        "              'Q': '--.-', 'R': '.-.', 'S': '...', 'T': '-', 'U': '..-', 'V': '...-', 'W': '.--', 'X': '-..-',\n",
        "              'Y': '-.--', 'Z': '--..', '0': '-----', '1': '.----', '2': '..---', '3': '...--', '4': '....-',\n",
        "              '5': '.....', '6': '-....', '7': '--...', '8': '---..', '9': '----.'}\n",
        "\n",
        "\n",
        "def convert_to_morze(text):\n",
        "    text = text.upper()\n",
        "    result = \"\"\n",
        "    for char in text:\n",
        "        if char in morze_dict:\n",
        "            result += morze_dict.get(char) + \" \"\n",
        "    return result[:-1]\n",
        "\n",
        "# def convert_to_morze(text):\n",
        "#     text = text.upper()\n",
        "#     result = list()\n",
        "#     for char in text:\n",
        "#         if char in morze_dict:\n",
        "#             result.append(morze_dict.get(char))\n",
        "#     return ' '.join(result)\n",
        "\n",
        "\n",
        "text = input(\"Enter text to convert: \")\n",
        "print(convert_to_morze(text))\n"
      ],
      "metadata": {
        "id": "CZUHu82PIDzQ"
      },
      "execution_count": null,
      "outputs": []
    },
    {
      "cell_type": "markdown",
      "source": [
        "# Pathlib"
      ],
      "metadata": {
        "id": "9C22msXSITPb"
      }
    },
    {
      "cell_type": "markdown",
      "source": [
        "## Приклад рекурсивного проходу по директоріях.\n",
        "\n",
        "Створити кілька папок із вкладеними файлами та папками. Показати рекурсивний прохід деревом директорій."
      ],
      "metadata": {
        "id": "pYh9CN9QIWzX"
      }
    },
    {
      "cell_type": "code",
      "source": [
        "from pathlib import Path\n",
        "import sys\n",
        "\n",
        "folder_path = Path(sys.argv[1])\n",
        "\n",
        "def parse_folder(path):\n",
        "    for elements in path.iterdir():\n",
        "        if elements.is_dir():\n",
        "            print(f\"parse folder: This is folder - {elements.name}\")\n",
        "        if elements.is_file():\n",
        "            print(f\"parse file: This is file - {elements.name}\")\n",
        "\n",
        "def parse_folder_recursion(path):\n",
        "    for elements in path.iterdir():\n",
        "        if elements.is_dir():\n",
        "            parse_folder_recursion(elements)\n",
        "        else:\n",
        "            print(f\"parse file: This is file - {elements.name}\")\n",
        "\n",
        "if __name__ == '__main__':\n",
        "    parse_folder(folder_path)\n",
        "    parse_folder_recursion(folder_path)"
      ],
      "metadata": {
        "id": "h327pZ_DIWFI"
      },
      "execution_count": null,
      "outputs": []
    },
    {
      "cell_type": "markdown",
      "source": [
        "Гра Hangman"
      ],
      "metadata": {
        "id": "IOBx6_OZItuj"
      }
    },
    {
      "cell_type": "code",
      "source": [
        "from random import choice\n",
        "\n",
        "hangman_pics = [\n",
        "    \"\"\"\n",
        "      +---+\n",
        "          |\n",
        "          |\n",
        "          |\n",
        "         ===\"\"\",\n",
        "    \"\"\"\n",
        "      +---+\n",
        "      O   |\n",
        "          |\n",
        "          |\n",
        "         ===\"\"\",\n",
        "    \"\"\"\n",
        "      +---+\n",
        "      O   |\n",
        "      |   |\n",
        "          |\n",
        "         ===\"\"\",\n",
        "    \"\"\"\n",
        "      +---+\n",
        "      O   |\n",
        "     /|   |\n",
        "          |\n",
        "         ===\"\"\",\n",
        "    \"\"\"\n",
        "      +---+\n",
        "      O   |\n",
        "     /|\\  |\n",
        "          |\n",
        "         ===\"\"\",\n",
        "    \"\"\"\n",
        "      +---+\n",
        "      O   |\n",
        "     /|\\  |\n",
        "     /    |\n",
        "         ===\"\"\",\n",
        "    \"\"\"\n",
        "      +---+\n",
        "      O   |\n",
        "     /|\\  |\n",
        "     / \\  |\n",
        "         ===\"\"\"\n",
        "]\n",
        "\n",
        "words = ['python', 'poker', 'programing', 'sunflower', 'Ukraine']\n",
        "\n",
        "word = choice(words).upper()\n",
        "\n",
        "guessed = list()\n",
        "\n",
        "def print_word():\n",
        "    display_word = \"\"\n",
        "    for char in word:\n",
        "        display_word += str(char if char in guessed else \"_\")\n",
        "    print(display_word)\n",
        "    return display_word\n",
        "\n",
        "def main():\n",
        "    attempts = 6\n",
        "    while attempts > 0:\n",
        "        print(hangman_pics[6 - attempts])\n",
        "        display_word = print_word()\n",
        "\n",
        "        if \"_\" not in display_word:\n",
        "            print(f\"Congratulations! You win this game and still alive. The guessed word was {word}\")\n",
        "            break\n",
        "\n",
        "        guess = input(\"Guess a letter: \").upper()\n",
        "\n",
        "        if guess in guessed:\n",
        "            print(\"You already guessed this letter\")\n",
        "        elif guess in word:\n",
        "            print(\"Correct guess!\")\n",
        "            guessed.append(guess)\n",
        "        else:\n",
        "            print(\"Wrong guess!\")\n",
        "            attempts -= 1\n",
        "            guessed.append(guess)\n",
        "\n",
        "    if attempts == 0:\n",
        "        print(hangman_pics[-1])\n",
        "        print(f\"You ran out of attempts. The word was: {word}\")\n",
        "\n",
        "if __name__ == '__main__':\n",
        "    main()"
      ],
      "metadata": {
        "id": "iK11u4XiIy3T"
      },
      "execution_count": null,
      "outputs": []
    }
  ]
}