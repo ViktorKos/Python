{
  "nbformat": 4,
  "nbformat_minor": 0,
  "metadata": {
    "colab": {
      "provenance": [],
      "toc_visible": true,
      "include_colab_link": true
    },
    "kernelspec": {
      "name": "python3",
      "display_name": "Python 3"
    },
    "language_info": {
      "name": "python"
    }
  },
  "cells": [
    {
      "cell_type": "markdown",
      "metadata": {
        "id": "view-in-github",
        "colab_type": "text"
      },
      "source": [
        "<a href=\"https://colab.research.google.com/github/ViktorKos/Python/blob/main/%D0%9C%D0%BE%D0%B4%D1%83%D0%BB%D1%8C_4_%D0%A2%D0%B5%D0%BE%D1%80%D0%B5%D1%82%D0%B8%D1%87%D0%BD%D0%B0_%D1%87%D0%B0%D1%81%D1%82%D0%B8%D0%BD%D0%B0.ipynb\" target=\"_parent\"><img src=\"https://colab.research.google.com/assets/colab-badge.svg\" alt=\"Open In Colab\"/></a>"
      ]
    },
    {
      "cell_type": "markdown",
      "metadata": {
        "id": "OeHSz3_b5ehN"
      },
      "source": [
        "# Задачі для теоретичного заняття четвертого дня\n",
        "\n",
        "Задачі теоретичного блоку: продемонструвати на практичному прикладі теорію пов'язану з списками, довідниками, кортежати, множинами, аргументами командного рядка\n",
        "\n",
        "Для самостійного опрацювання і спроб запускати всі існуючі задачі не заважаючи іншим студентам курсу потрібно здійснити наступні кроки:\n",
        "\n",
        "1. Натиснути кнопку \"Файл\" в лівому верхньому куті\n",
        "2. Вибрати пункт \"Зберегти копію на диску\"\n",
        "3. У вікні з вашою копією у правому верхньому куті натиснути \"Підключитись\"\n",
        "\n",
        "Можете запускати всі задачі, які забажаєте і писати власні програми вивчаючи функціонал цього середовища\n"
      ]
    },
    {
      "cell_type": "markdown",
      "source": [
        "### Додаткова література\n",
        "\n",
        "f{string} - format\\\n",
        "https://www.youtube.com/watch?v=BxUxX1Ku1EQ\n",
        "\n",
        "Hash tables\\\n",
        "https://www.youtube.com/watch?v=RcZsTI5h0kg\n",
        "\n",
        "Big-O Notation\\\n",
        "https://www.youtube.com/watch?v=BgLTDT03QtU\n",
        "\n",
        "Sets for optimization Python Code\\\n",
        "\n",
        "https://www.youtube.com/watch?v=k_Hp4C-OQmM\n",
        "\n",
        "Memory allocation of Elements in List\\\n",
        "\n",
        "https://www.youtube.com/watch?v=r_5x0tGC5rk"
      ],
      "metadata": {
        "id": "jc2UD29Vw7Pi"
      }
    },
    {
      "cell_type": "markdown",
      "metadata": {
        "id": "nj7xUMn2xUFm"
      },
      "source": [
        "# Списки\n",
        "\n",
        "- Активні методи списків\n",
        "    - `append`\n",
        "    - `remove`\n",
        "    - `pop`\n",
        "    - `extend`\n",
        "    - `insert`\n",
        "    - `clear`\n",
        "    - `index`\n",
        "    - `count`\n",
        "    - `sort` (`sort(key=None, reverse=False)`)\n",
        "    - `reverse`\n",
        "    - `copy`\n"
      ]
    },
    {
      "cell_type": "code",
      "source": [
        "my_list = [1, 1, 45, 57, 568, 235, 213, -346, -10, -45, 0, 100, 57]\n",
        "\n",
        "for elem in my_list:\n",
        "    if elem <= 20:\n",
        "        print(elem)\n",
        "\n",
        "for elem in range(len(my_list)):\n",
        "    if my_list[elem] <= 20:\n",
        "        print(my_list[elem])"
      ],
      "metadata": {
        "id": "AUkFsp1UZjse"
      },
      "execution_count": null,
      "outputs": []
    },
    {
      "cell_type": "code",
      "source": [
        "my_list.append(16)\n",
        "print(my_list)\n",
        "\n",
        "print(my_list[3])\n",
        "my_list.insert(3, -100)\n",
        "print(my_list)\n",
        "\n",
        "my_list.remove(-346)\n",
        "print(my_list)\n",
        "\n",
        "my_list.pop()\n",
        "print(my_list)\n",
        "\n",
        "my_list.pop(3)\n",
        "print(my_list)\n",
        "\n",
        "my_list.insert(3, -100)\n",
        "print(my_list)"
      ],
      "metadata": {
        "id": "19sUz9xgZx5K"
      },
      "execution_count": null,
      "outputs": []
    },
    {
      "cell_type": "code",
      "source": [
        "new_list = [\"loop\", 'start']\n",
        "\n",
        "my_list.extend(new_list)\n",
        "\n",
        "print(my_list)"
      ],
      "metadata": {
        "id": "xgUN9QJ2Z0fz"
      },
      "execution_count": null,
      "outputs": []
    },
    {
      "cell_type": "code",
      "source": [
        "# Remove None from list\n",
        "my_list = [1, 1, 45, 57, 568, None, 235, 213, -346, -10, None,  -45, 0, 100, 57]\n",
        "print(my_list)\n",
        "res = None\n",
        "try:\n",
        "    # res = my_list.index(None)\n",
        "    for _ in range(len(my_list)):\n",
        "        if None not in my_list:\n",
        "            break\n",
        "        # res = my_list.index(None)\n",
        "        my_list.pop(my_list.index(None))\n",
        "except ValueError:\n",
        "    print(\"No value in list\")\n",
        "finally:\n",
        "    print(my_list)"
      ],
      "metadata": {
        "id": "faVjUniqZy74"
      },
      "execution_count": null,
      "outputs": []
    },
    {
      "cell_type": "code",
      "source": [
        "new_list = my_list\n",
        "new_list.append(6)\n",
        "print(new_list, my_list, sep=\"\\n\")"
      ],
      "metadata": {
        "id": "sghFaw22aGhp"
      },
      "execution_count": null,
      "outputs": []
    },
    {
      "cell_type": "code",
      "source": [
        "new_list = my_list.copy()\n",
        "new_list.append(6)\n",
        "print(new_list, my_list, sep=\"\\n\")"
      ],
      "metadata": {
        "id": "nCiEISF5aNdc"
      },
      "execution_count": null,
      "outputs": []
    },
    {
      "cell_type": "markdown",
      "source": [
        "### Сортування\n"
      ],
      "metadata": {
        "id": "IMVITRiSskzu"
      }
    },
    {
      "cell_type": "code",
      "source": [
        "sorted_list = sorted(my_list.copy())\n",
        "print(sorted_list)\n",
        "\n",
        "my_list.sort()\n",
        "print(my_list)\n",
        "\n",
        "my_list.sort(reverse=True)\n",
        "print(my_list)"
      ],
      "metadata": {
        "id": "mELGc7peaPa9"
      },
      "execution_count": null,
      "outputs": []
    },
    {
      "cell_type": "code",
      "source": [
        "test_list = list()\n",
        "\n",
        "user_input = int(input(\"Enter value: \"))\n",
        "while user_input != 0:\n",
        "    if user_input not in my_list:\n",
        "        test_list.append(user_input)\n",
        "    user_input = int(input(\"Enter value: \"))\n",
        "\n",
        "print(sorted(test_list))"
      ],
      "metadata": {
        "id": "3rciv6B7aXPV"
      },
      "execution_count": null,
      "outputs": []
    },
    {
      "cell_type": "markdown",
      "source": [
        "### Зрізи списків\n"
      ],
      "metadata": {
        "id": "EXkAzfMYsrvD"
      }
    },
    {
      "cell_type": "markdown",
      "source": [
        "Як працюють слайс даних у Python\n",
        "[1:5:2] -->  \n",
        "[1::] - з якого елементу починається формування вибірки \\\n",
        "[:5:] - до якого елементу формується вибірка (не включно)\\\n",
        "[::2] - крок формування вибірки, в даному випадку. береться кожен 2 елемент"
      ],
      "metadata": {
        "id": "qRYws4p4l0YM"
      }
    },
    {
      "cell_type": "code",
      "source": [
        "print(my_list[::-1])\n",
        "print(my_list[-1])\n",
        "print(my_list[3:])\n",
        "print(my_list[:6])\n",
        "print(my_list[2:10])\n",
        "print(my_list[2:10:2])\n",
        "print(my_list[:6:-1])\n",
        "print(my_list[:])"
      ],
      "metadata": {
        "colab": {
          "base_uri": "https://localhost:8080/"
        },
        "id": "THfLl0Jkafls",
        "outputId": "88b981b3-abcf-442d-9faa-8eebb5310b40"
      },
      "execution_count": null,
      "outputs": [
        {
          "output_type": "stream",
          "name": "stdout",
          "text": [
            "[57, 100, 0, -45, -10, -346, 213, 235, 568, 57, 45, 1, 1]\n",
            "57\n",
            "[57, 568, 235, 213, -346, -10, -45, 0, 100, 57]\n",
            "[1, 1, 45, 57, 568, 235]\n",
            "[45, 57, 568, 235, 213, -346, -10, -45]\n",
            "[45, 568, 213, -10]\n",
            "[57, 100, 0, -45, -10, -346]\n",
            "[1, 1, 45, 57, 568, 235, 213, -346, -10, -45, 0, 100, 57]\n"
          ]
        }
      ]
    },
    {
      "cell_type": "markdown",
      "source": [
        "# Словники\n",
        "\n",
        "Активні методи словників\n",
        "- `pop`\n",
        "- `update`\n",
        "- `clear`\n",
        "- `copy`\n",
        "- `get`\n",
        "\n"
      ],
      "metadata": {
        "id": "vy7BpxMMQX87"
      }
    },
    {
      "cell_type": "code",
      "source": [
        "person = {\"name\": \"Oleh\", \"age\": 22, \"phone\": \"3(0**)*******\", \"married\": False}\n",
        "print(person)"
      ],
      "metadata": {
        "id": "BQYZQLlFatwv"
      },
      "execution_count": null,
      "outputs": []
    },
    {
      "cell_type": "code",
      "source": [
        "person = {\"name\": \"Oleh\", \"age\": 22, \"phone\": \"3(0**)*******\", \"married\": False}\n",
        "print(person)\n",
        "\n",
        "new_data = {\"location\": \"Ukraine, Lviv\", \"lang\": \"ukr\"}\n",
        "person.update(new_data)\n",
        "print(person)\n",
        "\n",
        "person.pop(\"lang\")\n",
        "print(person)\n",
        "\n",
        "person[\"age\"] = 100\n",
        "print(person)"
      ],
      "metadata": {
        "id": "_xBSG2omawJj"
      },
      "execution_count": null,
      "outputs": []
    },
    {
      "cell_type": "code",
      "source": [
        "print(person.get(\"name\", \"Noname\"))\n",
        "print(person.get(\"phone\", \"None\"))\n",
        "print(person.get(\"lang\", \"Undefined\"))\n",
        "\n",
        "person.update({\"secret\": [\"location\", \"Ukraine Lviv\", \"lang\", \"ukr\"]})\n",
        "print(person)\n",
        "print(person.get(\"secret\", \"SECRET\"))"
      ],
      "metadata": {
        "id": "TqZ10p9RayWj"
      },
      "execution_count": null,
      "outputs": []
    },
    {
      "cell_type": "code",
      "source": [
        "# Unite several dict into new one\n",
        "dict_a = {'Alex':12, 'Olga':10}\n",
        "dict_b = {'Boris':9, 'Kostya':10}\n",
        "dict_c = {'Ira':11, 'Vova':6}\n",
        "\n",
        "for value in (dict_b, dict_c):\n",
        "    dict_a.update(value)\n",
        "print(dict_a)"
      ],
      "metadata": {
        "id": "oaCKy_v8bAph"
      },
      "execution_count": null,
      "outputs": []
    },
    {
      "cell_type": "code",
      "source": [
        "dict_a = {'Alex':12, 'Olga':10}\n",
        "dict_b = {'Boris':9, 'Kostya':10}\n",
        "dict_c = {'Ira':11, 'Vova':6}\n",
        "\n",
        "dict_united = dict()\n",
        "for value in [dict_a, dict_b, dict_c]:\n",
        "    print(value)\n",
        "    dict_united.update(value)\n",
        "    print(dict_united)\n",
        "print(dict_united)"
      ],
      "metadata": {
        "colab": {
          "base_uri": "https://localhost:8080/"
        },
        "id": "bdlchmSRa1lR",
        "outputId": "8aff2ea1-73a7-47bd-d71e-f5fe0ecf2857"
      },
      "execution_count": null,
      "outputs": [
        {
          "output_type": "stream",
          "name": "stdout",
          "text": [
            "{'Alex': 12, 'Olga': 10}\n",
            "{'Alex': 12, 'Olga': 10}\n",
            "{'Boris': 9, 'Kostya': 10}\n",
            "{'Alex': 12, 'Olga': 10, 'Boris': 9, 'Kostya': 10}\n",
            "{'Ira': 11, 'Vova': 6}\n",
            "{'Alex': 12, 'Olga': 10, 'Boris': 9, 'Kostya': 10, 'Ira': 11, 'Vova': 6}\n",
            "{'Alex': 12, 'Olga': 10, 'Boris': 9, 'Kostya': 10, 'Ira': 11, 'Vova': 6}\n"
          ]
        }
      ]
    },
    {
      "cell_type": "markdown",
      "source": [
        "Як працюють змінювальні і не змінювальні об'єкти в Python"
      ],
      "metadata": {
        "id": "sknlDczSeEhM"
      }
    },
    {
      "cell_type": "code",
      "source": [
        "my_list = [1]\n",
        "\n",
        "print(type(my_list), id(my_list), my_list, sep=\"\\t\")\n",
        "\n",
        "my_list.append(2)\n",
        "\n",
        "print(type(my_list), id(my_list), my_list, sep=\"\\t\")\n",
        "\n",
        "my_tuple = (\"1\", )\n",
        "print(type(my_tuple), id(my_tuple), my_tuple, sep=\"\\t\")\n",
        "\n",
        "my_tuple = (\"1\", \"2\")\n",
        "print(type(my_tuple), id(my_tuple), my_tuple, sep=\"\\t\")\n"
      ],
      "metadata": {
        "id": "TK1UmAOneD7I"
      },
      "execution_count": null,
      "outputs": []
    },
    {
      "cell_type": "markdown",
      "source": [
        "# Множини\n",
        "\n",
        "Активні методи множин\n",
        "- `add`\n",
        "- `remove`\n",
        "- `discard`"
      ],
      "metadata": {
        "id": "_yn27bu-eDFU"
      }
    },
    {
      "cell_type": "code",
      "source": [
        "my_set = set('hi there!')\n",
        "print(my_set)"
      ],
      "metadata": {
        "id": "cC7PUNd7bELm"
      },
      "execution_count": null,
      "outputs": []
    },
    {
      "cell_type": "code",
      "source": [
        "my_list = [1, 1, 45, 57, 568, 235, 213, -346, -10, -45, 0, 100, 57]\n",
        "print(sorted(list(set(my_list))))\n",
        "\n",
        "my_set = set(my_list)\n",
        "print(my_set)\n",
        "my_list_new = sorted(list(my_set))\n",
        "print(my_list_new)"
      ],
      "metadata": {
        "id": "gVS_nD5RbFd_"
      },
      "execution_count": null,
      "outputs": []
    },
    {
      "cell_type": "code",
      "source": [
        "my_set = {4, 6, \"Sam\", \"Python\", 100}\n",
        "print(my_set)\n",
        "\n",
        "my_set.add(\"Test\")\n",
        "print(my_set)\n",
        "\n",
        "my_set.remove(6)\n",
        "print(my_set)\n",
        "\n",
        "my_set.discard(\"Test\")\n",
        "print(my_set)"
      ],
      "metadata": {
        "id": "T_tFjQQ8bGwt"
      },
      "execution_count": null,
      "outputs": []
    },
    {
      "cell_type": "code",
      "source": [
        "list_data_one = [1, 1, 2, 3, 5, 8, 13, 21, 7, 5, 100]\n",
        "list_data_two = [11, 1, 21, 31, 15, 8, 13, 21, 7, 15, 101]\n",
        "\n",
        "print(list(set(list_data_one) & set(list_data_two))) # -> in first and in second\n",
        "print(list(set(list_data_one) | set(list_data_two))) # -> in first or in second\n",
        "print(list(set(list_data_one) - set(list_data_two))) # in first and not in second"
      ],
      "metadata": {
        "colab": {
          "base_uri": "https://localhost:8080/"
        },
        "id": "30vtOm-xbOGh",
        "outputId": "ca66f650-9bb7-4563-a19d-228a598657de"
      },
      "execution_count": null,
      "outputs": [
        {
          "output_type": "stream",
          "name": "stdout",
          "text": [
            "[1, 7, 8, 13, 21]\n",
            "[1, 2, 3, 100, 5, 101, 7, 8, 11, 13, 15, 21, 31]\n",
            "[2, 3, 100, 5]\n"
          ]
        }
      ]
    },
    {
      "cell_type": "code",
      "source": [
        "# Check if values in list is unique only\n",
        "list_data_one = [1, 1, 2, 3, 5, 8, 13]\n",
        "list_data_two = [11, 1, 21, 31, 15, 8]\n",
        "\n",
        "def unique(data):\n",
        "    return len(data) == len(set(data))\n",
        "\n",
        "print(unique(list_data_one))\n",
        "print(unique(list_data_two))"
      ],
      "metadata": {
        "id": "l2yxOXFYbtk5"
      },
      "execution_count": null,
      "outputs": []
    },
    {
      "cell_type": "code",
      "source": [
        "# Tuple as dict keys\n",
        "\n",
        "circle = {\n",
        "    (0, 0): \"Circle centre\",\n",
        "    (0, 1): \"90\",\n",
        "    (1, 0): \"0 or 360\",\n",
        "    (0, -1): \"270\",\n",
        "    (-1, 0): \"180\"}\n",
        "\n",
        "print(circle.get((0, -1)))"
      ],
      "metadata": {
        "id": "wzCvpCo1b4ZH"
      },
      "execution_count": null,
      "outputs": []
    },
    {
      "cell_type": "markdown",
      "source": [
        "# Строки\n",
        "\n",
        "Активні методи строк (необхідні для роботи з файлами):\n",
        "\n",
        "- len(str): Повертає довжину строки str.\n",
        "\n",
        "- str.lower(): Перетворює всі символи в нижній регістр і повертає нову строку.\n",
        "\n",
        "- str.upper(): Перетворює всі символи в верхній регістр і повертає нову строку.\n",
        "\n",
        "- str.startswith(prefix): Перевіряє, чи починається строка з prefix, і повертає True або False.\n",
        "\n",
        "- str.endswith(suffix): Перевіряє, чи закінчується строка на suffix, і повертає True або False.\n",
        "\n",
        "- str.capitalize(): Перетворює перший символ строки на верхній регістр, а решту на нижній.\n",
        "\n",
        "- str.title(): Перетворює перший символ кожного слова строки на верхній регістр, а решту на нижній.\n",
        "\n",
        "- str.count(\"Значення для рахування\"): Рахує кількість елементів елементів у строці"
      ],
      "metadata": {
        "id": "qJuHAM6geQoj"
      }
    },
    {
      "cell_type": "code",
      "source": [
        "my_string = 'hello my liTTle friends!'\n",
        "\n",
        "print(my_string)\n",
        "print(my_string.upper())\n",
        "print(my_string.lower())\n",
        "print(my_string.startswith(\"hello\"))\n",
        "print(my_string.startswith(\"Hi\"))\n",
        "print(my_string.endswith(\"!\"))\n",
        "print(my_string.endswith(\".\"))\n",
        "print(my_string.capitalize())\n",
        "print(my_string.title())\n",
        "print(my_string.count(\"e\"))"
      ],
      "metadata": {
        "colab": {
          "base_uri": "https://localhost:8080/"
        },
        "id": "D2IAB5MUbr1F",
        "outputId": "052b360c-fb8e-4261-8fea-dc4f7861913a"
      },
      "execution_count": null,
      "outputs": [
        {
          "output_type": "stream",
          "name": "stdout",
          "text": [
            "hello my liTTle friends!\n",
            "HELLO MY LITTLE FRIENDS!\n",
            "hello my little friends!\n",
            "True\n",
            "False\n",
            "True\n",
            "False\n",
            "Hello my little friends!\n",
            "Hello My Little Friends!\n",
            "3\n"
          ]
        }
      ]
    },
    {
      "cell_type": "markdown",
      "source": [
        "# Бібліотека `pathlib`\n",
        "Загальна інформація\n",
        "Висвітлити і показати роботу властивостей і методів:\n",
        "\n",
        " - `parent` вказує на батьківську папку;\n",
        " - `name` повертає тільки ім'я (рядком) папки або файлу;\n",
        " - ``suffix` повертає рядком розширення файлу;\n",
        " - `exists()` повертає `True` або `False`, залежно від того, чи існує такий файл або папка;\n",
        " - `is_dir()` повертає `True`, якщо шлях існує, і `False`, якщо такий шлях не існує;\n",
        " - `is_file()` повертає `True`, якщо файл, і `False`, якщо папка не існує;\n",
        " - `iterdir()` повертає перелік вихідних файлів у поточній папці"
      ],
      "metadata": {
        "id": "6Tf3_Nd0thca"
      }
    },
    {
      "cell_type": "code",
      "source": [
        "from pathlib import Path\n",
        "parent_folder_path = Path('.')\n",
        "\n",
        "def parse_folder(path):\n",
        "    for elements in path.iterdir():\n",
        "        if elements.is_dir():\n",
        "            print(f\"parse folder: This is folder - {elements.name}\")\n",
        "        if elements.is_file():\n",
        "            print(f\"parse file: This is file - {elements.name}\")\n",
        "\n",
        "parse_folder(parent_folder_path)\n"
      ],
      "metadata": {
        "id": "xNRo5Bqpt5eA"
      },
      "execution_count": null,
      "outputs": []
    },
    {
      "cell_type": "markdown",
      "source": [
        "# Обробка аргументів командного рядка"
      ],
      "metadata": {
        "id": "2R8P5fPMdZZh"
      }
    },
    {
      "cell_type": "markdown",
      "source": [
        "Попробуйте запустити ваш файл з розширенням .py з кодом веденим нижче з такою командою з терміналу\n",
        "\n",
        "\"python file_name.py 'text' 1, True\"\n",
        "\n",
        "В результаті виведеться назва файлу і всі аргументи, які ви передали через термінал"
      ],
      "metadata": {
        "id": "-PrkUgscdpEx"
      }
    },
    {
      "cell_type": "code",
      "source": [
        "import sys\n",
        "\n",
        "for arg in sys.argv:\n",
        "    print(arg)"
      ],
      "metadata": {
        "colab": {
          "base_uri": "https://localhost:8080/"
        },
        "id": "conBzIANdWGY",
        "outputId": "2d257b9d-096b-43fb-bfbe-58a8c43ee53c"
      },
      "execution_count": null,
      "outputs": [
        {
          "output_type": "stream",
          "name": "stdout",
          "text": [
            "/usr/local/lib/python3.10/dist-packages/ipykernel_launcher.py\n",
            "-f\n",
            "/root/.local/share/jupyter/runtime/kernel-ec3799ee-f393-4297-8957-ab30a1d85ef1.json\n"
          ]
        }
      ]
    }
  ]
}