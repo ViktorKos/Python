{
  "nbformat": 4,
  "nbformat_minor": 0,
  "metadata": {
    "colab": {
      "provenance": [],
      "include_colab_link": true
    },
    "kernelspec": {
      "name": "python3",
      "display_name": "Python 3"
    },
    "language_info": {
      "name": "python"
    }
  },
  "cells": [
    {
      "cell_type": "markdown",
      "metadata": {
        "id": "view-in-github",
        "colab_type": "text"
      },
      "source": [
        "<a href=\"https://colab.research.google.com/github/ViktorKos/Python/blob/main/%D0%9C%D0%BE%D0%B4%D1%83%D0%BB%D1%8C_5_%D0%9F%D1%80%D0%B0%D0%BA%D1%82%D0%B8%D1%87%D0%BD%D0%B0_%D1%87%D0%B0%D1%81%D1%82%D0%B8%D0%BD%D0%B0_.ipynb\" target=\"_parent\"><img src=\"https://colab.research.google.com/assets/colab-badge.svg\" alt=\"Open In Colab\"/></a>"
      ]
    },
    {
      "cell_type": "markdown",
      "metadata": {
        "id": "OeHSz3_b5ehN"
      },
      "source": [
        "# Задачі для практичного закріплення знань першого дня\n",
        "\n",
        "\n",
        "Завдання практичного блоку: закріпити отримані знання на теоретичній частині, при цьому студенти на рівні з викладачем вирішують завдання демонструючи екран і пояснюючи чому вибраний певний підхід для їх рішення.\n"
      ]
    },
    {
      "cell_type": "markdown",
      "source": [
        "# Регулярні вирази"
      ],
      "metadata": {
        "id": "0EFDQS3eGmHh"
      }
    },
    {
      "cell_type": "markdown",
      "source": [
        "## Основні оператори\n",
        "\n",
        ". - один будь-який символ, крім рядка \\n \\ \\\n",
        "? - 0 або 1 входження шаблону зліва \\\n",
        "'+' - 1 і більше входжень шаблону зліва \\\n",
        "'*' - 0 і більше входжень шаблону зліва \\\n",
        "\\w - будь-яка цифра або буква [a-zA-Z0-9_] (\\W - усе, крім букви або цифри [^a-zA-Z0-9_]) \\\n",
        "\\d - будь-яка цифра [0-9] (\\D - усе, крім цифри [^0-9]) \\\n",
        "\\s - будь-який пробільний символ [\\t\\n\\r\\r\\f\\v] (\\S - усе, окрім не пробільного символу [^ \\t\\n\\r\\r\\f\\v]) \\\n",
        "\\b - межа слова \\\n",
        "[...] - один із символів у дужках ([^...] - будь-який символ, крім тих, що в дужках) \\\n",
        "\\ - екранування спец.символів (приклад: \\. - означає крапку або \\+ - знак \"плюс\") \\\n",
        "^ і $ - початок і кінець рядка відповідно \\\n",
        "{n,m} - від n до m входжень (приклад: {,m} - від 0 до m) \\\n",
        "a|b - відповідає a або b \\\n",
        "() - групує вираз і повертає знайдений текст \\\n",
        "\\t, \\n, \\r - символ табуляції, нового рядка та повернення каретки \\"
      ],
      "metadata": {
        "id": "T4us6pDv3yFJ"
      }
    },
    {
      "cell_type": "markdown",
      "source": [
        "### Знайти число в параграфі"
      ],
      "metadata": {
        "id": "yqrA1c1P8fIg"
      }
    },
    {
      "cell_type": "code",
      "source": [
        "import re\n",
        "\n",
        "string = \"Niels Bohr was born to Christian Bohr (1858-1911), a professor of physiology at the University of Copenhagen,\"\\\n",
        "         \"twice a candidate for the Nobel Prize in physiology and medicine,[10] and Ellen Adler (\" \\\n",
        "         \"1860-1930), daughter of the influential and very wealthy Jewish banker and liberal parliamentarian David \" \\\n",
        "         \"Baruch Adler (1826—1878) and Jenny Raphael (1830-1902) of the British Jewish \" \\\n",
        "         \"Raphael Raphael & sons[en][11] of the British Jewish banking dynasty. Bohr's parents married in 1881.\"\n",
        "\n",
        "pattern = r'[0-9]+'\n",
        "result = re.search(pattern, string)\n",
        "print(result.span())\n",
        "first_index, second_index = result.span()\n",
        "print(string[first_index:second_index])\n",
        "print(result.group())\n",
        "print(result.string)"
      ],
      "metadata": {
        "id": "kFnU98mf4WsZ",
        "colab": {
          "base_uri": "https://localhost:8080/"
        },
        "outputId": "f1d450f5-db2c-450e-f148-69aca64c3b27"
      },
      "execution_count": null,
      "outputs": [
        {
          "output_type": "stream",
          "name": "stdout",
          "text": [
            "(39, 43)\n",
            "1858\n",
            "1858\n",
            "Niels Bohr was born to Christian Bohr (1858-1911), a professor of physiology at the University of Copenhagen,twice a candidate for the Nobel Prize in physiology and medicine,[10] and Ellen Adler (1860-1930), daughter of the influential and very wealthy Jewish banker and liberal parliamentarian David Baruch Adler (1826—1878) and Jenny Raphael (1830-1902) of the British Jewish Raphael Raphael & sons[en][11] of the British Jewish banking dynasty. Bohr's parents married in 1881.\n"
          ]
        }
      ]
    },
    {
      "cell_type": "markdown",
      "source": [
        "### Якщо ми хочемо знайти всі числа в строці використовуємо `findall`"
      ],
      "metadata": {
        "id": "BX74CR93DCwH"
      }
    },
    {
      "cell_type": "code",
      "source": [
        "result = re.findall(pattern, string)\n",
        "print(result)"
      ],
      "metadata": {
        "id": "iS_0nHipBDcH"
      },
      "execution_count": null,
      "outputs": []
    },
    {
      "cell_type": "markdown",
      "source": [
        "### Якщо ми хочемо знайти всі цифри"
      ],
      "metadata": {
        "id": "2JxbH5AhDUrY"
      }
    },
    {
      "cell_type": "code",
      "source": [
        "pattern = r'\\d'\n",
        "\n",
        "result = re.findall(pattern, string)\n",
        "print(result)"
      ],
      "metadata": {
        "id": "CSQ274Z1Dbrw"
      },
      "execution_count": null,
      "outputs": []
    },
    {
      "cell_type": "markdown",
      "source": [
        "### Тепер знайдемо всі роки, які представляють собою набір із 4-ох цифр"
      ],
      "metadata": {
        "id": "W44fwVcjDgWH"
      }
    },
    {
      "cell_type": "code",
      "source": [
        "pattern = r'[0-9]{4}'\n",
        "result = re.findall(pattern, string)\n",
        "print(result)"
      ],
      "metadata": {
        "id": "L_a-nm-pDtKq"
      },
      "execution_count": null,
      "outputs": []
    },
    {
      "cell_type": "markdown",
      "source": [
        "### Знайдемо всі слова, що починаються з великої літери.\n",
        "\n",
        "Ми використовували функцію `compile` щоб скомпілювати попередньо паттерн. *Треба якщо використовуємо його часто в різних місцях програми."
      ],
      "metadata": {
        "id": "Bn5DB4puD2aW"
      }
    },
    {
      "cell_type": "code",
      "source": [
        "pattern = r'[A-Z]\\w+'\n",
        "new_list = re.compile(pattern)\n",
        "result = new_list.findall(string)\n",
        "print(result)"
      ],
      "metadata": {
        "id": "440VeNTsD5IQ"
      },
      "execution_count": null,
      "outputs": []
    },
    {
      "cell_type": "markdown",
      "source": [
        "### Якщо ми хочемо знайти всі слова, що складаються з букв і цифр"
      ],
      "metadata": {
        "id": "WZ5_GCDqD8gH"
      }
    },
    {
      "cell_type": "code",
      "source": [
        "pattern = r'\\w+'\n",
        "new_list = re.compile(pattern)\n",
        "result = new_list.findall(string)\n",
        "print(result)"
      ],
      "metadata": {
        "id": "cMpCxNYhECEJ"
      },
      "execution_count": null,
      "outputs": []
    },
    {
      "cell_type": "markdown",
      "source": [
        "## Задачі на регулярні вирази\n",
        "\n",
        "Найбільш часто використовуємі методи бібліотеки re: \\\n",
        "re.match() \\\n",
        "re.search() \\\n",
        "re.findall() \\\n",
        "re.split() \\\n",
        "re.sub() \\\n",
        "re.compile() \\"
      ],
      "metadata": {
        "id": "SNbhsk61ELQj"
      }
    },
    {
      "cell_type": "markdown",
      "source": [
        "### Знайти числа і цифри\n",
        "\n",
        "В автоперевірці було завдання знайти кількість цифр (функція `count_digits`) і кількість чисел (функція `count_numbers`) у тексті. Покажемо через регулярні вирази"
      ],
      "metadata": {
        "id": "GlGfkr1aBYAX"
      }
    },
    {
      "cell_type": "code",
      "source": [
        "string = \"Niels Bohr was born to Christian Bohr (1858-1911), a professor of physiology at the University of Copenhagen,\"\\\n",
        "         \"twice a candidate for the Nobel Prize in physiology and medicine,[10] and Ellen Adler (\" \\\n",
        "         \"1860-1930), daughter of the influential and very wealthy Jewish banker and liberal parliamentarian David \" \\\n",
        "         \"Baruch Adler (1826—1878) and Jenny Raphael (1830-1902) of the British Jewish \" \\\n",
        "         \"Raphael Raphael & sons[en][11] of the British Jewish banking dynasty. Bohr's parents married in 1881.\"\n",
        "\n",
        "def count_digits(string):\n",
        "  pattern = r'\\d'\n",
        "  return re.findall(pattern, string)\n",
        "\n",
        "print(count_digits(string))\n",
        "print(count_digits(''))\n",
        "\n",
        "\n",
        "def count_numbers(string):\n",
        "  return re.findall(r'\\d+', string)\n",
        "\n",
        "\n",
        "print(count_numbers(string))\n",
        "print(count_numbers(''))"
      ],
      "metadata": {
        "id": "6eNj_i4xBHte"
      },
      "execution_count": null,
      "outputs": []
    },
    {
      "cell_type": "markdown",
      "source": [
        "### Парсимо URL\n",
        "\n",
        "Є наприклад два рядки прикладів\n",
        "\n",
        "```\n",
        "url_query = \"kolichestvo-osnovnih-kamer=3630926;producer=huawei;23777=6-6-5;38435=677049\"\n",
        "url_search = \"q=Cat+and+dog&ie=utf-8&oe=utf-8&aq=t\"\n",
        "```\n",
        "\n",
        "Напишемо універсальну функцію `get_object_parameters`, яка повертатиме словник із даними.\n",
        "Оскільки в першому рядку розділити символ `;`, а в другому `&`, тому тут вдало підійде випадок (`a|b` - відповідає a або b)"
      ],
      "metadata": {
        "id": "vrKeQCpOFrGo"
      }
    },
    {
      "cell_type": "code",
      "source": [
        "url_query = \"kolichestvo-osnovnih-kamer=3630926;producer=huawei;23777=6-6-5;38435=677049\"\n",
        "url_search = \"q=Cat+and+dog&ie=utf-8&oe=utf-8&aq=t\"\n",
        "\n",
        "def get_url_parameters(url_query, pattern=r'&|;', key_split='='):\n",
        "    object_dict = dict()\n",
        "    # result = re.split(pattern, url_query)\n",
        "    # for elem in result:\n",
        "    for elem in re.split(pattern, url_query):\n",
        "        key, value = elem.split(key_split)\n",
        "        object_dict.update({key: value.replace(\"+\", \" \")})\n",
        "    return object_dict\n",
        "\n",
        "\n",
        "print(get_url_parameters(url_query))\n",
        "print(get_url_parameters(url_search))"
      ],
      "metadata": {
        "id": "NOrH1-_9F17G"
      },
      "execution_count": null,
      "outputs": []
    },
    {
      "cell_type": "markdown",
      "source": [
        "### Використаємо підстановку sub\n",
        "Як працює функція? Простий приклад заміни слова в строці"
      ],
      "metadata": {
        "id": "1viK5iHMGFiu"
      }
    },
    {
      "cell_type": "code",
      "source": [
        "lang = \"The best language is Java\"\n",
        "pattern = \"Java\"\n",
        "\n",
        "print(re.sub(pattern, \"Python\", lang))"
      ],
      "metadata": {
        "id": "hF6xRExSGTrY"
      },
      "execution_count": null,
      "outputs": []
    },
    {
      "cell_type": "markdown",
      "source": [
        "### Прибрати з тексту всі входження між квадратними дужками. Спочатку знайдемо входження, щоб правильно знайти регулярний вираз"
      ],
      "metadata": {
        "id": "yyMKrusbGyIo"
      }
    },
    {
      "cell_type": "code",
      "source": [
        "string = \"Exclude from this [string the groups of] characters [located between] brackets [, ].\"\n",
        "\n",
        "pattern = r'(\\[.*?\\])'\n",
        "print(re.findall(pattern, string))"
      ],
      "metadata": {
        "id": "9rlzU_2-GzTu"
      },
      "execution_count": null,
      "outputs": []
    },
    {
      "cell_type": "markdown",
      "source": [
        "### Робимо функцію очищення тексту від входжень."
      ],
      "metadata": {
        "id": "Id0Jo6TzHFan"
      }
    },
    {
      "cell_type": "code",
      "source": [
        "def clean_up(string):\n",
        "    pattern = r'(\\[.*?\\])'\n",
        "    return re.sub(pattern, \"\", string)\n",
        "\n",
        "print(clean_up(string))"
      ],
      "metadata": {
        "id": "e6EquDF0G6PY"
      },
      "execution_count": null,
      "outputs": []
    },
    {
      "cell_type": "markdown",
      "source": [
        "### Складніші варіанти пошуку в тексті\n",
        "\n",
        "Знайти слово з якого починається параграф"
      ],
      "metadata": {
        "id": "-epqmIEVHKNa"
      }
    },
    {
      "cell_type": "code",
      "source": [
        "string = \"Niels Bohr was born to Christian Bohr (1858-1911), a professor of physiology at the University of Copenhagen,\"\\\n",
        "         \"twice a candidate for the Nobel Prize in physiology and medicine,[10] and Ellen Adler (\" \\\n",
        "         \"1860-1930), daughter of the influential and very wealthy Jewish banker and liberal parliamentarian David \" \\\n",
        "         \"Baruch Adler (1826—1878) and Jenny Raphael (1830-1902) of the British Jewish \" \\\n",
        "         \"Raphael Raphael & sons[en][11] of the British Jewish banking dynasty. Bohr's parents married in 1881.\"\n",
        "\n",
        "print(re.findall(r'^\\w+', string))"
      ],
      "metadata": {
        "id": "9dI6m8lNHdYg"
      },
      "execution_count": null,
      "outputs": []
    },
    {
      "cell_type": "markdown",
      "source": [
        "### Знайти яким словом закінчується речення"
      ],
      "metadata": {
        "id": "ZLwQfkRVHr5r"
      }
    },
    {
      "cell_type": "code",
      "source": [
        "print(re.findall(r'\\w+\\.$', string))"
      ],
      "metadata": {
        "id": "QpxWQDyaHlUX"
      },
      "execution_count": null,
      "outputs": []
    },
    {
      "cell_type": "markdown",
      "source": [
        "### Знайти перші дві літери всіх слів у реченні"
      ],
      "metadata": {
        "id": "A7Ik35NxHwEK"
      }
    },
    {
      "cell_type": "code",
      "source": [
        "pattern = r'\\b[A-Z,a-z]{2}'\n",
        "print(re.findall(pattern, string))"
      ],
      "metadata": {
        "id": "YT6jdYTRH2yB"
      },
      "execution_count": null,
      "outputs": []
    },
    {
      "cell_type": "markdown",
      "source": [
        "### Якщо стоїть завдання знайти проміжки дат. І три підходи щодо пошуку за допомогою груп `()`"
      ],
      "metadata": {
        "id": "5LiF3svrIRiX"
      }
    },
    {
      "cell_type": "code",
      "source": [
        "pattern_one = r'\\d{4}-\\d{4}'\n",
        "print(re.findall(pattern_one, string))\n",
        "\n",
        "pattern_two = r'\\d{4}-(\\d{4})'\n",
        "print(re.findall(pattern_two, string))\n",
        "\n",
        "pattern_three = r'(\\d{4})-(\\d{4})'\n",
        "print(re.findall(pattern_three, string))"
      ],
      "metadata": {
        "id": "N435rMrBITAU"
      },
      "execution_count": null,
      "outputs": []
    },
    {
      "cell_type": "markdown",
      "source": [
        "### Можна для більш тонкого пошуку використовувати функцію `finditer`. Звернути увагу, що регулярка з третього пошуку попереднього прикладу. Результати різняться, ми повернемося до цього трохи пізніше, коли шукатимемо email у тексті."
      ],
      "metadata": {
        "id": "_qWiR_CEIVDR"
      }
    },
    {
      "cell_type": "code",
      "source": [
        "def find_years(string):\n",
        "    result = list()\n",
        "    pattern = r'(\\d{4})-(\\d{4})'\n",
        "    iterator = re.finditer(pattern, string)\n",
        "    for match in iterator:\n",
        "        result.append(match.group())\n",
        "    return result\n",
        "\n",
        "print(find_years(string))"
      ],
      "metadata": {
        "id": "1iA5QwpeIZ7S"
      },
      "execution_count": null,
      "outputs": []
    },
    {
      "cell_type": "markdown",
      "source": [
        "### Пошук електроних адрес в тексті"
      ],
      "metadata": {
        "id": "GLdC2ej5I19U"
      }
    },
    {
      "cell_type": "code",
      "source": [
        "text = \"Ima.Fool@iana.org Ima.Fool@iana.o Fool1@iana.org first_last@iana.org first.middle.last@iana.or a@test.com \" \\\n",
        "       \"abc111@test.com.net \"\n",
        "\n",
        "print(re.findall(r'[\\w.]+@(\\w+\\.)+\\w{2,}', text))"
      ],
      "metadata": {
        "id": "Q8gfuPnwI9aa"
      },
      "execution_count": null,
      "outputs": []
    },
    {
      "cell_type": "markdown",
      "source": [
        "Регулярний вираз правильний. Можна перевірити [regex101](https://regex101.com/r/fKwbFD/2) Проблема як шукає сама функція `findall`. Рішенням може бути загорнути весь вираз у групу"
      ],
      "metadata": {
        "id": "jVvu_WP3JMw4"
      }
    },
    {
      "cell_type": "code",
      "source": [
        "text = \"Ima.Fool@iana.org Ima.Fool@iana.o Fool1@iana.org first_last@iana.org first.middle.last@iana.or a@test.com \" \\\n",
        "       \"abc111@test.com.net \"\n",
        "\n",
        "print(re.findall(r'([\\w.]+@(\\w+\\.)+\\w{2,})', text))"
      ],
      "metadata": {
        "id": "dMnWEAKrJP8P"
      },
      "execution_count": null,
      "outputs": []
    },
    {
      "cell_type": "markdown",
      "source": [
        "### Але найкращим рішенням буде використовувати групи без захоплень за допомогою спец символу `?:`"
      ],
      "metadata": {
        "id": "dwofOKayJYg3"
      }
    },
    {
      "cell_type": "code",
      "source": [
        "text = \"Ima.Fool@iana.org Ima.Fool@iana.o Fool1@iana.org first_last@iana.org first.middle.last@iana.or a@test.com \" \\\n",
        "       \"abc111@test.com.net \"\n",
        "\n",
        "print(re.findall(r'[\\w.]+@(?:\\w+\\.)+\\w{2,}', text))"
      ],
      "metadata": {
        "id": "3eLQKx7kJgbS"
      },
      "execution_count": null,
      "outputs": []
    },
    {
      "cell_type": "markdown",
      "source": [
        "### Або використовувати `finditer`, який як ми бачимо, теж не захоплює групи"
      ],
      "metadata": {
        "id": "eGMMKeOoJimE"
      }
    },
    {
      "cell_type": "code",
      "source": [
        "def find_emails(string):\n",
        "    result = list()\n",
        "    pattern = r'[\\w.]+@(\\w+\\.)+\\w{2,}'\n",
        "    iterator = re.finditer(pattern, string)\n",
        "    for match in iterator:\n",
        "        result.append(match.group())\n",
        "    return result\n",
        "print(find_emails(text))"
      ],
      "metadata": {
        "id": "psD2YAZgJoHd"
      },
      "execution_count": null,
      "outputs": []
    },
    {
      "cell_type": "markdown",
      "source": [
        "### Тепер завдання &mdash; знайти домени першого рівня для електронних адрес, перетворюється на порожню формальність"
      ],
      "metadata": {
        "id": "ov3F4qHLJqdn"
      }
    },
    {
      "cell_type": "code",
      "source": [
        "print(re.findall(r'@(?:\\w+\\.)+(\\w{2,})', text))"
      ],
      "metadata": {
        "id": "l3AWReuTJx5U"
      },
      "execution_count": null,
      "outputs": []
    },
    {
      "cell_type": "markdown",
      "source": [
        "## Пошук валідного URL\n",
        "\n",
        "Шукаємо силки тільки з протоколом"
      ],
      "metadata": {
        "id": "V55l94NDJ2zK"
      }
    },
    {
      "cell_type": "code",
      "source": [
        "text_url = \"The main search site in the world is https://www.google.com The main social network for people in the \" \\\n",
        "           \"world is https://www.facebook.com But programmers have their own social network http://github.com There \" \\\n",
        "           \"they share their code. some url to check https://www..youtube.com/ www.facebook.com https://www.app.facebook.com My site: https://krabaton.info\"\n",
        "\n",
        "print(re.findall(r'https?:\\/\\/\\w{3}\\.?(?:\\w+\\.)+\\w{2,4}', text_url))"
      ],
      "metadata": {
        "id": "fbkDCP3CKCUG"
      },
      "execution_count": null,
      "outputs": []
    }
  ]
}