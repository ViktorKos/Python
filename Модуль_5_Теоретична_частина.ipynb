{
  "nbformat": 4,
  "nbformat_minor": 0,
  "metadata": {
    "colab": {
      "provenance": [],
      "toc_visible": true,
      "include_colab_link": true
    },
    "kernelspec": {
      "name": "python3",
      "display_name": "Python 3"
    },
    "language_info": {
      "name": "python"
    }
  },
  "cells": [
    {
      "cell_type": "markdown",
      "metadata": {
        "id": "view-in-github",
        "colab_type": "text"
      },
      "source": [
        "<a href=\"https://colab.research.google.com/github/ViktorKos/Python/blob/main/%D0%9C%D0%BE%D0%B4%D1%83%D0%BB%D1%8C_5_%D0%A2%D0%B5%D0%BE%D1%80%D0%B5%D1%82%D0%B8%D1%87%D0%BD%D0%B0_%D1%87%D0%B0%D1%81%D1%82%D0%B8%D0%BD%D0%B0.ipynb\" target=\"_parent\"><img src=\"https://colab.research.google.com/assets/colab-badge.svg\" alt=\"Open In Colab\"/></a>"
      ]
    },
    {
      "cell_type": "markdown",
      "metadata": {
        "id": "OeHSz3_b5ehN"
      },
      "source": [
        "# Задачі для теоретичного заняття п'ятого дня\n",
        "\n",
        "Задачі теоретичного блоку: продемонструвати на практичному прикладі теорію пов'язану з просунутою роботою з строками і регулярними виразами\n",
        "\n",
        "Для самостійного опрацювання і спроб запускати всі існуючі задачі не заважаючи іншим студентам курсу потрібно здійснити наступні кроки:\n",
        "\n",
        "1. Натиснути кнопку \"Файл\" в лівому верхньому куті\n",
        "2. Вибрати пункт \"Зберегти копію на диску\"\n",
        "3. У вікні з вашою копією у правому верхньому куті натиснути \"Підключитись\"\n",
        "\n",
        "Можете запускати всі задачі, які забажаєте і писати власні програми вивчаючи функціонал цього середовища\n"
      ]
    },
    {
      "cell_type": "markdown",
      "metadata": {
        "id": "nj7xUMn2xUFm"
      },
      "source": [
        "# Просунута робота з рядками\n",
        "\n",
        "- str.strip(): Видаляє всі пробіли та символи нового рядка з початку і кінця строки.\n",
        "\n",
        "- str.split(): Розбиває строку на список підстрок за допомогою роздільника (пробіл - за замовчуванням) і повертає список.\n",
        "\n",
        "- str.join(iterable): Об'єднує елементи ітерабельного об'єкту (списку, кортежу і т.д.) в одну строку, розділених str.\n",
        "\n",
        "- str.find(substring): Повертає індекс першого входження підрядка substring у строку, або -1, якщо підрядок не знайдено.\n",
        "\n",
        "- str.rfind(substring): Повертає максимальний індекс входження підрядка substring у строку з кінця, або -1, якщо підрядок не знайдено.\n",
        "\n",
        "- str.replace(old, new): Заміняє всі входження old на new у строкі і повертає нову строку.\n",
        "\n",
        "- str.isdigit(): Перевіряє, чи складається строка лише з цифр.\n",
        "\n",
        "- str.isalpha(): Перевіряє, чи складається строка лише з літер.\n",
        "\n",
        "- str.islower(): Перевіряє, чи складається строка лише з символів нижнього регістра.\n",
        "\n",
        "- str.isupper(): Перевіряє, чи складається строка лише з символів верхнього регістра.\n"
      ]
    },
    {
      "cell_type": "markdown",
      "source": [
        "### str.find str.isdigit"
      ],
      "metadata": {
        "id": "221XJhyDwofY"
      }
    },
    {
      "cell_type": "code",
      "source": [
        "numbers = [\"123\", \"456\", \"321\", \"10\", \"75\", \"abc\", \"23c\"]"
      ],
      "metadata": {
        "id": "vvQyblFDyJFY"
      },
      "execution_count": null,
      "outputs": []
    },
    {
      "cell_type": "code",
      "source": [
        "articles_dict = [\n",
        "    {\n",
        "        \"playset\": \"Semi final voleyball strike\",\n",
        "        \"command\": \"Super Star\",\n",
        "        \"year\": 1989,\n",
        "    },\n",
        "    {\n",
        "        \"playset\": \"Quater final Finansial competition\",\n",
        "        \"command\": \"Actual price\",\n",
        "        \"year\": 2020,\n",
        "    },\n",
        "    {\n",
        "        \"playset\": \"Glory speed test call centre of East Erope\",\n",
        "        \"command\": \"Modern Operators\",\n",
        "        \"year\": 1921,\n",
        "    },\n",
        "    {\n",
        "        \"playset\": \"Endless war From Age of Dragons\",\n",
        "        \"command\": \"Kings of Glory\",\n",
        "        \"year\": 2012,\n",
        "    },\n",
        "]\n",
        "\n",
        "def find_states(key_word, letter_case=False):\n",
        "    actual_states = list()\n",
        "    if letter_case:\n",
        "        for i in range(len(articles_dict)):\n",
        "            if articles_dict[i]['playset'].find(key_word) != -1 or articles_dict[i]['command'].find(key_word) != -1:\n",
        "                actual_states.append(articles_dict[i])\n",
        "    else:\n",
        "        for i in range(len(articles_dict)):\n",
        "            if (articles_dict[i]['playset'].lower()).find(key_word) != -1 \\\n",
        "                    or (articles_dict[i]['command'].lower()).find(key_word) != -1:\n",
        "                actual_states.append(articles_dict[i])\n",
        "    return actual_states\n",
        "\n",
        "\n",
        "print(find_states('Fin', True))"
      ],
      "metadata": {
        "id": "wQxxslqJ04Df"
      },
      "execution_count": null,
      "outputs": []
    },
    {
      "cell_type": "markdown",
      "source": [
        "### str.split str.replace"
      ],
      "metadata": {
        "id": "ngpXrcHg3q2t"
      }
    },
    {
      "cell_type": "markdown",
      "source": [
        "Перевірити чи строка містить певні слова або частини цих слів"
      ],
      "metadata": {
        "id": "fSAd5gsc5LoG"
      }
    },
    {
      "cell_type": "code",
      "source": [
        "text = \"\"\"\n",
        "This is a sample paragraph. It contains some words, like sample, paragraph, and words.\n",
        "Let's count the frequency of each word in this paragraph!\n",
        "\"\"\"\n",
        "\n",
        "def find_stop_words(text, stop_word, is_space=False):\n",
        "    if is_space:\n",
        "        new_text = text.split(' ')\n",
        "        for word in new_text:\n",
        "              word = word.replace(',', '').replace('.', '').replace('!', '')\n",
        "              if stop_word.lower() in word.lower() and len(stop_word) == len(word):\n",
        "                  return True\n",
        "    else:\n",
        "        if stop_word.lower() in text.lower():\n",
        "          return True\n",
        "    return False\n",
        "\n",
        "# Алтернатива один\n",
        "def find_stop_words(text, stop_word, space_around=False):\n",
        "    text = text.lower().replace(',', '').replace('.', '')\n",
        "    stop_word = stop_word.lower()\n",
        "    if space_around:\n",
        "        if (' ' + stop_word + ' ') in text or text.startswith(stop_word + ' ') or text.endswith(' ' + stop_word):\n",
        "            return True\n",
        "    else:\n",
        "        if stop_word in text:\n",
        "            return True\n",
        "    return False\n",
        "\n",
        "\n",
        "# Алтернатива два\n",
        "def find_stop_words(text, stop_word, space_around=False):\n",
        "    new_text = text.split(' ')\n",
        "    stop_word = stop_word.lower()\n",
        "    for word in new_text:\n",
        "        if space_around:\n",
        "            word = word.replace(',', '').replace('.', '')\n",
        "            if stop_word in word and len(word) == len(stop_word):\n",
        "                return True\n",
        "        else:\n",
        "            if stop_word in word:\n",
        "                return True\n",
        "    else:\n",
        "        return False\n",
        "\n",
        "\n",
        "print(find_stop_words(text, 'freq'))"
      ],
      "metadata": {
        "id": "GArCPrKC3rAG",
        "colab": {
          "base_uri": "https://localhost:8080/"
        },
        "outputId": "1f058f99-baa6-4e6a-95b8-2ce38b8abbfc"
      },
      "execution_count": null,
      "outputs": [
        {
          "output_type": "stream",
          "name": "stdout",
          "text": [
            "True\n"
          ]
        }
      ]
    },
    {
      "cell_type": "markdown",
      "source": [
        "### str.strip str.removeprefix\n"
      ],
      "metadata": {
        "id": "IMVITRiSskzu"
      }
    },
    {
      "cell_type": "markdown",
      "source": [
        "Валідування номерів телефону"
      ],
      "metadata": {
        "id": "tP09tp785Rv6"
      }
    },
    {
      "cell_type": "code",
      "source": [
        "phone_storage = [\"380669640547\", \"0637306465    \", \" 420961935171\", \"632643973\", \"050832520 \", \"38066964O547\",\n",
        "                 \"00000000000\", \"480730283918\", \"597632643973\", \"0986223575\", \"37(029)7947963\",\n",
        "                 \"+42(050)123-32-34\", \"38986223575\",\"38(950)123 32 34\", \"38(050)123 32 3b\"]\n",
        "\n",
        "codes_operators = {\"067\", \"068\", \"096\", \"097\", \"098\", \"050\", \"066\", \"095\", \"099\", \"063\", \"073\", \"093\", \"029\"}\n",
        "\n",
        "# 38 - UA, 42 - IT,  37 - UK 48 - PL\n",
        "def clean_up_phone(phone):\n",
        "    return (phone.strip()\n",
        "            .removeprefix(\"+\")\n",
        "            .replace(\"(\", \"\")\n",
        "            .replace(\")\", \"\")\n",
        "            .replace(\"-\", \"\")\n",
        "            .replace(\" \", \"\"))\n",
        "\n",
        "def is_valid_phone(phone):\n",
        "    if phone.isdigit():\n",
        "        if len(phone) == 12:\n",
        "            if phone[2] == '0':\n",
        "                if phone[2:5] in codes_operators:\n",
        "                    return True\n",
        "                else:\n",
        "                    return False\n",
        "            else:\n",
        "                return False\n",
        "\n",
        "        if len(phone) == 10:\n",
        "            if phone[:3] in codes_operators:\n",
        "                return True\n",
        "            else:\n",
        "                return False\n",
        "        else:\n",
        "            return False\n",
        "    return False\n",
        "\n",
        "\n",
        "# 38 - UA, 42 - IT,  37 - UK 48 - PL\n",
        "def phone_by_country(list_of_phones):\n",
        "    number_dict = dict()\n",
        "    for i in range(len(list_of_phones)):\n",
        "        phone = clean_up_phone(list_of_phones[i])\n",
        "        if phone.startswith('38'):\n",
        "            number_dict.setdefault('UA', []).append(phone)\n",
        "        if phone.startswith('42'):\n",
        "            number_dict.setdefault('IT', []).append(phone)\n",
        "        if phone.startswith('37'):\n",
        "            number_dict.setdefault('UK', []).append(phone)\n",
        "        if phone.startswith('48'):\n",
        "            number_dict.setdefault('PL', []).append(phone)\n",
        "    return number_dict\n",
        "\n",
        "print(phone_by_country(phone_storage))\n"
      ],
      "metadata": {
        "id": "mELGc7peaPa9"
      },
      "execution_count": null,
      "outputs": []
    },
    {
      "cell_type": "markdown",
      "source": [
        "### Форматування"
      ],
      "metadata": {
        "id": "bLswmN8byTKd"
      }
    },
    {
      "cell_type": "markdown",
      "source": [
        "Перевірка валідності карти і приналежність до Mstercard або Visa"
      ],
      "metadata": {
        "id": "CjGYScqv5YtD"
      }
    },
    {
      "cell_type": "code",
      "source": [
        "pay_system = {\n",
        "    5: \"MasterCard\",\n",
        "    4: \"Visa\",\n",
        "    3: \"American Express\"\n",
        "}\n",
        "\n",
        "card_number = [\"5375414112345678\", \"2346236356566475\", \"4168757587879876\", \"216875758787987d\", \"3345345O45879876\"]\n",
        "\n",
        "for card in card_number:\n",
        "    print(\"Payment system {:<20} Is card valid {:6}\".format(pay_system.get(int(card[0]), 'Unknown'),\n",
        "                                                            str(card.isdigit() and len(card) == 16)))"
      ],
      "metadata": {
        "id": "h4Hs7iH1yqKk"
      },
      "execution_count": null,
      "outputs": []
    },
    {
      "cell_type": "markdown",
      "source": [
        "Красиве форматування виведення номеру телефону"
      ],
      "metadata": {
        "id": "rFANheLd5j4u"
      }
    },
    {
      "cell_type": "code",
      "source": [
        "def passed_control():\n",
        "    for phone in phone_storage:\n",
        "        phone = clean_up_phone(phone)\n",
        "        is_valid = is_valid_phone(phone)\n",
        "        if is_valid:\n",
        "            print(\"Phone {:^4}| {:>20}| {:^4} valid\".format(\" \", phone, \" \"*4))\n",
        "        else:\n",
        "            print(\"Phone {:^4}| {:>20}| {:^4} invalid\".format(\" \", phone, \" \"*4))"
      ],
      "metadata": {
        "id": "sqOmG1hByTUb"
      },
      "execution_count": null,
      "outputs": []
    },
    {
      "cell_type": "markdown",
      "source": [
        "### Translate and Zip"
      ],
      "metadata": {
        "id": "1qr6icnG2lMM"
      }
    },
    {
      "cell_type": "code",
      "source": [
        "map = {ord('з'): 'z', ord('ю'): 'uu'}\n",
        "translated = ''.translate(map)\n",
        "print(translated)  # zu"
      ],
      "metadata": {
        "id": "lqYz8l9Z2qdw"
      },
      "execution_count": null,
      "outputs": []
    },
    {
      "cell_type": "markdown",
      "source": [
        "Переклад 16-ої системи в двійкову"
      ],
      "metadata": {
        "id": "-_2Klsjx5rvd"
      }
    },
    {
      "cell_type": "code",
      "source": [
        "symbols = \"0123456789ABCDEF\"\n",
        "code = [\n",
        "        '0000', '0001', '0010', '0011', '0100', '0101', '0110', '0111',\n",
        "        '1000', '1001', '1010', '1011', '1100', '1101', '1110', '1111'\n",
        "        ]\n",
        "\n",
        "MAP = {}\n",
        "\n",
        "print(zip(symbols, code))\n",
        "for key, value in zip(symbols, code):\n",
        "    MAP[ord(key)] = value\n",
        "    # MAP[ord(key.lower())] = value\n",
        "print(MAP)\n",
        "result = '34 DE 5C B0'.translate(MAP)\n",
        "print(result)"
      ],
      "metadata": {
        "id": "HRefG_HY2kkL"
      },
      "execution_count": null,
      "outputs": []
    },
    {
      "cell_type": "markdown",
      "source": [
        "# Регулярні вирази"
      ],
      "metadata": {
        "id": "2R8P5fPMdZZh"
      }
    },
    {
      "cell_type": "markdown",
      "source": [
        "\n",
        "\n",
        "| Регулярний Вираз | Збіги | Пояснення |\n",
        "|------------------|---------|-------------|\n",
        "| `.`               | Будь-який символ, крім нового рядка | Збігається з будь-яким одиночним символом, крім символу нового рядка. |\n",
        "| `a*`              | Нуль або більше входжень 'a' | Збігається з нулем або більше входжень символу 'a'. |\n",
        "| `a+`              | Один або більше входжень 'a' | Збігається з одним або більше входжень символу 'a'. |\n",
        "| `a?`              | Нуль або одне входження 'a' | Збігається з нулем або одним входженням символу 'a'. |\n",
        "| `[abc]`           | Один з символів 'a', 'b' або 'c' | Збігається з одним із символів 'a', 'b' або 'c'. |\n",
        "| `[a-z]`           | Будь-яка маленька літера | Збігається з будь-якою маленькою літерою від 'a' до 'z'. |\n",
        "| `\\d`              | Будь-яка цифра (0-9) | Збігається з будь-якою цифрою. Еквівалентно `[0-9]`. |\n",
        "| `\\w`              | Будь-який символ слова (буквенно-цифровий + підкреслення) | Збігається з будь-яким буквено-цифровим символом або підкресленням. Еквівалентно `[a-zA-Z0-9_]`. |\n",
        "| `\\s`              | Будь-який символ пробілу | Збігається з будь-яким символом пробілу (пробіли, табуляції, нові рядки тощо). |\n",
        "| `^`               | Початок рядка | Збігається з початком рядка або строки. |\n",
        "| `$`               | Кінець рядка | Збігається з кінцем рядка або строки. |\n",
        "| `\\b`              | Межа слова | Збігається з межею слова (позиція між символами слова та не-слова). |\n",
        "| `a{3}`            | Точно три входження 'a' | Збігається з точно трьома входженнями символу 'a'. |\n",
        "| `a{3,5}`          | Три до п'яти входжень 'a' | Збігається з трьома, чотирма або п'ятьма входженнями символу 'a'. |\n",
        "| `a{3,}`           | Три або більше входжень 'a' | Збігається з трьома або більше входженнями символу 'a'. |\n",
        "| `a\\|b`            | Або 'a' або 'b' | Збігається з або символом 'a', або символом 'b'. |\n",
        "| `(abc)`           | Групування | Групує кілька елементів регулярного виразу разом. |\n",
        "\n"
      ],
      "metadata": {
        "id": "-PrkUgscdpEx"
      }
    },
    {
      "cell_type": "markdown",
      "source": [
        "Підрахунок слів у параграфі"
      ],
      "metadata": {
        "id": "jr4Ke-Fx52BH"
      }
    },
    {
      "cell_type": "code",
      "source": [
        "import re\n",
        "from collections import defaultdict\n",
        "\n",
        "paragraph = \"\"\"\n",
        "This is a sample paragraph. It contains some words, like sample, paragraph, and words.\n",
        "Let's count the frequency of each word in this paragraph!\n",
        "\"\"\"\n",
        "\n",
        "def word_frequency_counter(paragraph):\n",
        "    words = re.findall(r'\\b\\w+\\b', paragraph.lower())\n",
        "\n",
        "    word_frequency = defaultdict(int)\n",
        "    for word in words:\n",
        "        word_frequency[word] += 1\n",
        "\n",
        "    return dict(word_frequency)\n",
        "\n",
        "print(word_frequency_counter(paragraph))"
      ],
      "metadata": {
        "id": "kDXtJv42O3cr"
      },
      "execution_count": null,
      "outputs": []
    },
    {
      "cell_type": "code",
      "source": [],
      "metadata": {
        "id": "6IWAcYOvwOhh"
      },
      "execution_count": null,
      "outputs": []
    }
  ]
}