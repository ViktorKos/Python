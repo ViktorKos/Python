{
  "nbformat": 4,
  "nbformat_minor": 0,
  "metadata": {
    "colab": {
      "provenance": [],
      "include_colab_link": true
    },
    "kernelspec": {
      "name": "python3",
      "display_name": "Python 3"
    },
    "language_info": {
      "name": "python"
    }
  },
  "cells": [
    {
      "cell_type": "markdown",
      "metadata": {
        "id": "view-in-github",
        "colab_type": "text"
      },
      "source": [
        "<a href=\"https://colab.research.google.com/github/ViktorKos/Python/blob/main/%D0%9C%D0%BE%D0%B4%D1%83%D0%BB%D1%8C_6_%D0%9F%D1%80%D0%B0%D0%BA%D1%82%D0%B8%D1%87%D0%BD%D0%B0_%D1%87%D0%B0%D1%81%D1%82%D0%B8%D0%BD%D0%B0_.ipynb\" target=\"_parent\"><img src=\"https://colab.research.google.com/assets/colab-badge.svg\" alt=\"Open In Colab\"/></a>"
      ]
    },
    {
      "cell_type": "markdown",
      "metadata": {
        "id": "OeHSz3_b5ehN"
      },
      "source": [
        "# Задачі для практичного закріплення знань шостого дня\n",
        "\n",
        "\n",
        "Завдання практичного блоку: закріпити отримані знання на теоретичній частині, при цьому студенти на рівні з викладачем вирішують завдання демонструючи екран і пояснюючи чому вибраний певний підхід для їх рішення.\n"
      ]
    },
    {
      "cell_type": "markdown",
      "source": [
        "### Перший файл. Необхідний переведення українського алфавіту в англійський.\n",
        "### normalize.py"
      ],
      "metadata": {
        "id": "9FqeX_c7Na6N"
      }
    },
    {
      "cell_type": "code",
      "source": [
        "import re\n",
        "\n",
        "UKRAINIAN_SYMBOLS = 'абвгдеєжзиіїйклмнопрстуфхцчшщьюя'\n",
        "TRANSLATION = (\"a\", \"b\", \"v\", \"g\", \"d\", \"e\", \"je\", \"zh\", \"z\", \"y\", \"i\", \"ji\", \"j\", \"k\", \"l\", \"m\", \"n\", \"o\", \"p\", \"r\", \"s\", \"t\", \"u\",\n",
        "               \"f\", \"h\", \"ts\", \"ch\", \"sh\", \"sch\", \"\", \"ju\", \"ja\")\n",
        "\n",
        "\n",
        "TRANS = {}\n",
        "\n",
        "for key, value in zip(UKRAINIAN_SYMBOLS, TRANSLATION):\n",
        "    TRANS[ord(key)] = value\n",
        "    TRANS[ord(key.upper())] = value.upper()\n",
        "\n",
        "\n",
        "def normalize(name):\n",
        "    name, *extension = name.split('.')\n",
        "    new_name = name.translate(TRANS)\n",
        "    new_name = re.sub(r'\\W', \"_\", new_name)\n",
        "    return f\"{new_name}.{'.'.join(extension)}\""
      ],
      "metadata": {
        "id": "kFnU98mf4WsZ"
      },
      "execution_count": null,
      "outputs": []
    },
    {
      "cell_type": "markdown",
      "source": [
        "### Скануємо папки.\n",
        "### scan.py"
      ],
      "metadata": {
        "id": "BX74CR93DCwH"
      }
    },
    {
      "cell_type": "code",
      "source": [
        "import sys\n",
        "from pathlib import Path\n",
        "\n",
        "\n",
        "jpeg_files = list()\n",
        "png_files = list()\n",
        "jpg_files = list()\n",
        "txt_files = list()\n",
        "docx_files = list()\n",
        "folders = list()\n",
        "archives = list()\n",
        "others = list()\n",
        "unknown = set()\n",
        "extensions = set()\n",
        "\n",
        "registered_extensions = {\n",
        "    \"JPEG\": jpeg_files,\n",
        "    \"PNG\": png_files,\n",
        "    \"JPG\": jpg_files,\n",
        "    \"TXT\": txt_files,\n",
        "    \"DOCX\": docx_files,\n",
        "    \"ZIP\": archives\n",
        "}\n",
        "\n",
        "\n",
        "def get_extensions(file_name):\n",
        "    return Path(file_name).suffix[1:].upper()\n",
        "\n",
        "\n",
        "def scan(folder):\n",
        "    for item in folder.iterdir():\n",
        "        if item.is_dir():\n",
        "            if item.name not in (\"JPEG\", \"JPG\", \"PNG\", \"TXT\", \"DOCX\", \"OTHER\", \"ARCHIVE\"):\n",
        "                folders.append(item)\n",
        "                scan(item)\n",
        "            continue\n",
        "\n",
        "        extension = get_extensions(file_name=item.name)\n",
        "        new_name = folder/item.name\n",
        "        if not extension:\n",
        "            others.append(new_name)\n",
        "        else:\n",
        "            try:\n",
        "                container = registered_extensions[extension]\n",
        "                extensions.add(extension)\n",
        "                container.append(new_name)\n",
        "            except KeyError:\n",
        "                unknown.add(extension)\n",
        "                others.append(new_name)\n",
        "\n",
        "\n",
        "if __name__ == '__main__':\n",
        "    path = sys.argv[1]\n",
        "    print(f\"Start in {path}\")\n",
        "\n",
        "    arg = Path(path)\n",
        "    scan(arg)\n",
        "\n",
        "    print(f\"jpeg: {jpeg_files}\\n\")\n",
        "    print(f\"jpg: {jpg_files}\\n\")\n",
        "    print(f\"png: {png_files}\\n\")\n",
        "    print(f\"txt: {txt_files}\\n\")\n",
        "    print(f\"docx: {docx_files}\\n\")\n",
        "    print(f\"archive: {archives}\\n\")\n",
        "    print(f\"unknown: {others}\\n\")\n",
        "    print(f\"All extensions: {extensions}\\n\")\n",
        "    print(f\"Unknown extensions: {unknown}\\n\")"
      ],
      "metadata": {
        "id": "iS_0nHipBDcH"
      },
      "execution_count": null,
      "outputs": []
    },
    {
      "cell_type": "markdown",
      "source": [
        "### Головний модуль.\n",
        "### main.py"
      ],
      "metadata": {
        "id": "2JxbH5AhDUrY"
      }
    },
    {
      "cell_type": "code",
      "source": [
        "import shutil\n",
        "import sys\n",
        "import scan\n",
        "import normalize\n",
        "from pathlib import Path\n",
        "from files_generator import file_generator\n",
        "\n",
        "\n",
        "\n",
        "def hande_file(path, root_folder, dist):\n",
        "    target_folder = root_folder / dist\n",
        "    target_folder.mkdir(exist_ok=True)\n",
        "    path.replace(target_folder/normalize.normalize(path.name))\n",
        "\n",
        "\n",
        "def handle_archive(path, root_folder, dist):\n",
        "    target_folder = root_folder / dist\n",
        "    target_folder.mkdir(exist_ok=True)\n",
        "\n",
        "    new_name = normalize.normalize(path.name.replace(\".zip\", ''))\n",
        "\n",
        "    archive_folder = root_folder / new_name\n",
        "    archive_folder.mkdir(exist_ok=True)\n",
        "\n",
        "    try:\n",
        "        shutil.unpack_archive(str(path.resolve()), str(path.resolve()))\n",
        "    except shutil.ReadError:\n",
        "        archive_folder.rmdir()\n",
        "        return\n",
        "    except FileNotFoundError:\n",
        "        archive_folder.rmdir()\n",
        "        return\n",
        "    path.unlink()\n",
        "\n",
        "\n",
        "def remove_empty_folders(path):\n",
        "    for item in path.iterdir():\n",
        "        if item.is_dir():\n",
        "            remove_empty_folders(item)\n",
        "            try:\n",
        "                item.rmdir()\n",
        "            except OSError:\n",
        "                pass\n",
        "\n",
        "\n",
        "def get_folder_objects(root_path):\n",
        "    for folder in root_path.iterdir():\n",
        "        if folder.is_dir():\n",
        "            remove_empty_folders(folder)\n",
        "            try:\n",
        "                folder.rmdir()\n",
        "            except OSError:\n",
        "                pass\n",
        "\n",
        "def main(folder_path):\n",
        "    scan.scan(folder_path)\n",
        "\n",
        "    for file in scan.jpeg_files:\n",
        "        hande_file(file, folder_path, \"JPEG\")\n",
        "\n",
        "    for file in scan.jpg_files:\n",
        "        hande_file(file, folder_path, \"JPG\")\n",
        "\n",
        "    for file in scan.png_files:\n",
        "        hande_file(file, folder_path, \"PNG\")\n",
        "\n",
        "    for file in scan.txt_files:\n",
        "        hande_file(file, folder_path, \"TXT\")\n",
        "\n",
        "    for file in scan.docx_files:\n",
        "        hande_file(file, folder_path, \"DOCX\")\n",
        "\n",
        "    for file in scan.others:\n",
        "        hande_file(file, folder_path, \"OTHERS\")\n",
        "\n",
        "    for file in scan.archives:\n",
        "        handle_archive(file, folder_path, \"ARCHIVE\")\n",
        "\n",
        "    get_folder_objects(folder_path)\n",
        "\n",
        "if __name__ == '__main__':\n",
        "    path = sys.argv[1]\n",
        "    print(f\"Start in {path}\")\n",
        "\n",
        "    arg = Path(path)\n",
        "    file_generator(arg)\n",
        "    main(arg.resolve())\n"
      ],
      "metadata": {
        "id": "CSQ274Z1Dbrw"
      },
      "execution_count": null,
      "outputs": []
    },
    {
      "cell_type": "markdown",
      "source": [
        "### Генерація файлів і папок\n",
        "### files_generator.py"
      ],
      "metadata": {
        "id": "pITiuSjrcRAG"
      }
    },
    {
      "cell_type": "code",
      "source": [
        "import shutil\n",
        "from pathlib import Path\n",
        "from random import randint, choice, choices\n",
        "import numpy\n",
        "from PIL import Image\n",
        "\n",
        "MESSAGE = \"Hello, Привіт\"\n",
        "\n",
        "\n",
        "def get_random_filename():\n",
        "    random_value = '()+,-0123456789;=@ABCDEFGHIJKLMNOPQRSTUVWXYZ[]^_`abcdefghijklmnopqrstuvwxyz' \\\n",
        "                   '{}~абвгдеєжзиіїйклмнопрстуфхцчшщьюяАБВГДЕЄЖЗИІЇЙКЛМНОПРСТУФХЦЧШЩЬЮЯ'\n",
        "    return ''.join(choices(random_value, k=8))\n",
        "\n",
        "\n",
        "def generate_text_files(path):\n",
        "    documents = ('DOC', 'DOCX', 'TXT', 'PDF', 'XLSX', 'PPTX')\n",
        "    with open(path / f\"{get_random_filename()}.{choice(documents).lower()}\", \"wb\") as f:\n",
        "        f.write(MESSAGE.encode())\n",
        "\n",
        "\n",
        "def generate_archive_files(path):\n",
        "    archive = ('ZIP', 'GZTAR', 'TAR')\n",
        "    shutil.make_archive(f\"{path}/{get_random_filename()}\", f'{choice(archive).lower()}', path)\n",
        "\n",
        "\n",
        "def generate_image(path):\n",
        "    images = ('JPEG', 'PNG', 'JPG')\n",
        "    image_array = numpy.random.rand(100, 100, 3) * 255\n",
        "    image = Image.fromarray(image_array.astype('uint8'))\n",
        "    image.save(f\"{path}/{get_random_filename()}.{choice(images).lower()}\")\n",
        "\n",
        "\n",
        "def generate_folders(path):\n",
        "    folder_name = ['temp', 'folder', 'dir', 'tmp', 'OMG', 'is_it_true', 'no_way', 'find_it']\n",
        "    folder_path = Path(\n",
        "        f\"{path}/\" + '/'.join(choices(folder_name, weights=[10, 10, 1, 1, 1, 1, 1, 1], k=randint(5, len(folder_name)))))\n",
        "    folder_path.mkdir(parents=True, exist_ok=True)\n",
        "\n",
        "\n",
        "def generate_folder_forest(path):\n",
        "    for i in range(0, randint(2, 5)):\n",
        "        generate_folders(path)\n",
        "\n",
        "\n",
        "def generate_random_files(path):\n",
        "    for i in range(3, randint(5, 7)):\n",
        "        function_list = [generate_text_files, generate_archive_files, generate_image]\n",
        "        choice(function_list)(path)\n",
        "\n",
        "\n",
        "def parse_folder_recursion(path):\n",
        "    for elements in path.iterdir():\n",
        "        if elements.is_dir():\n",
        "            generate_random_files(path)\n",
        "            parse_folder_recursion(elements)\n",
        "\n",
        "\n",
        "def exist_parent_folder(path):\n",
        "    path.mkdir(parents=True, exist_ok=True)\n",
        "\n",
        "\n",
        "def file_generator(path):\n",
        "    exist_parent_folder(path)\n",
        "    generate_folder_forest(path)\n",
        "    parse_folder_recursion(path)\n",
        "\n",
        "\n",
        "if __name__ == '__main__':\n",
        "    parent_folder_path = Path(\"Temp\")\n",
        "    file_generator(parent_folder_path)\n"
      ],
      "metadata": {
        "id": "tB7fYfQlcRIP"
      },
      "execution_count": null,
      "outputs": []
    }
  ]
}