{
  "nbformat": 4,
  "nbformat_minor": 0,
  "metadata": {
    "colab": {
      "provenance": [],
      "toc_visible": true,
      "include_colab_link": true
    },
    "kernelspec": {
      "name": "python3",
      "display_name": "Python 3"
    },
    "language_info": {
      "name": "python"
    }
  },
  "cells": [
    {
      "cell_type": "markdown",
      "metadata": {
        "id": "view-in-github",
        "colab_type": "text"
      },
      "source": [
        "<a href=\"https://colab.research.google.com/github/ViktorKos/Python/blob/main/%D0%9C%D0%BE%D0%B4%D1%83%D0%BB%D1%8C_6_%D0%A2%D0%B5%D0%BE%D1%80%D0%B5%D1%82%D0%B8%D1%87%D0%BD%D0%B0_%D1%87%D0%B0%D1%81%D1%82%D0%B8%D0%BD%D0%B0.ipynb\" target=\"_parent\"><img src=\"https://colab.research.google.com/assets/colab-badge.svg\" alt=\"Open In Colab\"/></a>"
      ]
    },
    {
      "cell_type": "markdown",
      "metadata": {
        "id": "OeHSz3_b5ehN"
      },
      "source": [
        "# Задачі для теоретичного заняття шостого дня\n",
        "\n",
        "Задачі теоретичного блоку: продемонструвати на практичному прикладі теорію пов'язану з читанням файлів, записом даних у менеджером контексту видами кодування, робота з нетекстовими файлами і архівами.\n",
        "\n"
      ]
    },
    {
      "cell_type": "markdown",
      "source": [
        "# Читання файлів"
      ],
      "metadata": {
        "id": "4TqARIVoKTDk"
      }
    },
    {
      "cell_type": "markdown",
      "source": [
        "Прочитати перші `N` рядків текстового файлу. Ім'я файлу для читання передаємо як аргумент командного рядка"
      ],
      "metadata": {
        "id": "221XJhyDwofY"
      }
    },
    {
      "cell_type": "code",
      "source": [
        "import sys\n",
        "\n",
        "NUM_LINES = 10\n",
        "\n",
        "if len(sys.argv) != 2:\n",
        "    print(\"Not enough parameters\")\n",
        "    quit()\n",
        "\n",
        "try:\n",
        "    file = open(sys.argv[1], \"r\", encoding=\"utf-8\")\n",
        "    try:\n",
        "        line = file.readline()\n",
        "        count = 0\n",
        "        while count < NUM_LINES and line != \"\":\n",
        "            line = line.rstrip()\n",
        "            print(line)\n",
        "            count += 1\n",
        "            line = file.readline()\n",
        "    except OSError:\n",
        "        print(\"Error while reading file\")\n",
        "    finally:\n",
        "        file.close()\n",
        "except OSError:\n",
        "    print(\"Error with right for file\")"
      ],
      "metadata": {
        "id": "gIPk61AnEbVR"
      },
      "execution_count": null,
      "outputs": []
    },
    {
      "cell_type": "markdown",
      "source": [
        "Прочитати кінець файлу, останні `N` рядків файлу. Ім'я файлу для читання передаємо як аргумент командного рядка"
      ],
      "metadata": {
        "id": "wROaVKcp3m0c"
      }
    },
    {
      "cell_type": "code",
      "source": [
        "import sys\n",
        "\n",
        "NUM_LINES = 10\n",
        "\n",
        "if len(sys.argv) != 2:\n",
        "    print(\"Not enough parameters\")\n",
        "    quit()\n",
        "\n",
        "try:\n",
        "    with open(sys.argv[1], 'r', encoding=\"utf-8\") as file:\n",
        "        lines = list()\n",
        "        for line in file:\n",
        "            lines.append(line)\n",
        "            if len(lines) > NUM_LINES:\n",
        "                lines.pop(0)\n",
        "        for line in lines:\n",
        "            print(line)\n",
        "except OSError:\n",
        "    print(\"Error with right for file\")"
      ],
      "metadata": {
        "id": "uCNIaaROGCaK"
      },
      "execution_count": null,
      "outputs": []
    },
    {
      "cell_type": "markdown",
      "source": [
        "Читаємо кілька файлів поспіль. Імена файлів для читання передаємо як аргументи командного рядка"
      ],
      "metadata": {
        "id": "fSAd5gsc5LoG"
      }
    },
    {
      "cell_type": "markdown",
      "source": [
        "# Читаємо файл за допомогою бібліотеки `pathlib`"
      ],
      "metadata": {
        "id": "06-HiPR-K3qI"
      }
    },
    {
      "cell_type": "markdown",
      "source": [
        "Без оператора `with`. Необхідно закрити файл самому"
      ],
      "metadata": {
        "id": "QA7SOvmZMOSs"
      }
    },
    {
      "cell_type": "markdown",
      "source": [
        "За допомогою оператора `with`. Менше коду та зручність"
      ],
      "metadata": {
        "id": "NRMxPszL4UEx"
      }
    },
    {
      "cell_type": "markdown",
      "source": [
        "Використання `glob`"
      ],
      "metadata": {
        "id": "tP09tp785Rv6"
      }
    },
    {
      "cell_type": "markdown",
      "source": [
        "Видалення файлу"
      ],
      "metadata": {
        "id": "CjGYScqv5YtD"
      }
    },
    {
      "cell_type": "markdown",
      "source": [
        "Створення директорії"
      ],
      "metadata": {
        "id": "rFANheLd5j4u"
      }
    },
    {
      "cell_type": "markdown",
      "source": [
        "Створення вкладених директорій"
      ],
      "metadata": {
        "id": "1qr6icnG2lMM"
      }
    },
    {
      "cell_type": "markdown",
      "source": [
        "Перенесення файлу"
      ],
      "metadata": {
        "id": "evR04ISydQ1P"
      }
    },
    {
      "cell_type": "markdown",
      "source": [
        "# Запис в файл"
      ],
      "metadata": {
        "id": "-_2Klsjx5rvd"
      }
    },
    {
      "cell_type": "markdown",
      "source": [
        "# Робота з різними кодуваннями"
      ],
      "metadata": {
        "id": "jr4Ke-Fx52BH"
      }
    },
    {
      "cell_type": "markdown",
      "source": [
        "# Робота з файлами засобами `pathlib`"
      ],
      "metadata": {
        "id": "HMx7coJo9fwn"
      }
    },
    {
      "cell_type": "markdown",
      "source": [
        "Текстовий файл"
      ],
      "metadata": {
        "id": "z5EdSyJhNOHi"
      }
    },
    {
      "cell_type": "markdown",
      "source": [
        "Бінарний файл"
      ],
      "metadata": {
        "id": "G1xg-k5ZNanF"
      }
    },
    {
      "cell_type": "markdown",
      "source": [
        "# Робота з архівами. Заархівувати вміст папки та розархівувати"
      ],
      "metadata": {
        "id": "ovtkIVaW9gLT"
      }
    },
    {
      "cell_type": "markdown",
      "source": [
        "# Робота з фото (бібліотека Pillow)"
      ],
      "metadata": {
        "id": "LDyrLQKmIQHo"
      }
    }
  ]
}